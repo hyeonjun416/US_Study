{
  "cells": [
    {
      "cell_type": "markdown",
      "source": [
        "# Sub"
      ],
      "metadata": {
        "id": "6mBgYBz_SXao"
      }
    },
    {
      "cell_type": "code",
      "execution_count": null,
      "metadata": {
        "colab": {
          "base_uri": "https://localhost:8080/"
        },
        "id": "JXocmabNQZKd",
        "outputId": "4102158e-6ce2-4395-b5c2-e7e4a31ceab0"
      },
      "outputs": [
        {
          "output_type": "stream",
          "name": "stderr",
          "text": [
            "/usr/local/lib/python3.7/dist-packages/datascience/tables.py:17: MatplotlibDeprecationWarning: The 'warn' parameter of use() is deprecated since Matplotlib 3.1 and will be removed in 3.3.  If any parameter follows 'warn', they should be pass as keyword, not positionally.\n",
            "  matplotlib.use('agg', warn=False)\n",
            "/usr/local/lib/python3.7/dist-packages/datascience/util.py:10: MatplotlibDeprecationWarning: The 'warn' parameter of use() is deprecated since Matplotlib 3.1 and will be removed in 3.3.  If any parameter follows 'warn', they should be pass as keyword, not positionally.\n",
            "  matplotlib.use('agg', warn=False)\n"
          ]
        }
      ],
      "source": [
        "from datascience import *\n",
        "import numpy as np\n",
        "import matplotlib as mpl\n",
        "import matplotlib.pyplot as plt\n",
        "import pandas as pd\n",
        "%matplotlib inline\n",
        "plt.style.use('fivethirtyeight')\n",
        "fpath = 'https://raw.githubusercontent.com/Sianus/US_Study/wobin/DataScience%20Project/Project/2022.06.21%20Project/Suicid/archive/who_suicide_statistics.csv'"
      ]
    },
    {
      "cell_type": "code",
      "execution_count": null,
      "metadata": {
        "colab": {
          "base_uri": "https://localhost:8080/"
        },
        "id": "DrDlOV3uQZKe",
        "outputId": "3b4a71ba-33f2-4e25-9281-b95e3dfc5551"
      },
      "outputs": [
        {
          "output_type": "execute_result",
          "data": {
            "text/plain": [
              "country | year | sex    | age         | suicides_no | population\n",
              "Albania | 1985 | female | 15-24 years | nan         | 277900\n",
              "Albania | 1985 | female | 25-34 years | nan         | 246800\n",
              "Albania | 1985 | female | 35-54 years | nan         | 267500\n",
              "Albania | 1985 | female | 5-14 years  | nan         | 298300\n",
              "Albania | 1985 | female | 55-74 years | nan         | 138700\n",
              "Albania | 1985 | female | 75+ years   | nan         | 34200\n",
              "Albania | 1985 | male   | 15-24 years | nan         | 301400\n",
              "Albania | 1985 | male   | 25-34 years | nan         | 264200\n",
              "Albania | 1985 | male   | 35-54 years | nan         | 296700\n",
              "Albania | 1985 | male   | 5-14 years  | nan         | 325800\n",
              "... (43766 rows omitted)"
            ],
            "text/html": [
              "<table border=\"1\" class=\"dataframe\">\n",
              "    <thead>\n",
              "        <tr>\n",
              "            <th>country</th> <th>year</th> <th>sex</th> <th>age</th> <th>suicides_no</th> <th>population</th>\n",
              "        </tr>\n",
              "    </thead>\n",
              "    <tbody>\n",
              "        <tr>\n",
              "            <td>Albania</td> <td>1985</td> <td>female</td> <td>15-24 years</td> <td>nan        </td> <td>277900    </td>\n",
              "        </tr>\n",
              "        <tr>\n",
              "            <td>Albania</td> <td>1985</td> <td>female</td> <td>25-34 years</td> <td>nan        </td> <td>246800    </td>\n",
              "        </tr>\n",
              "        <tr>\n",
              "            <td>Albania</td> <td>1985</td> <td>female</td> <td>35-54 years</td> <td>nan        </td> <td>267500    </td>\n",
              "        </tr>\n",
              "        <tr>\n",
              "            <td>Albania</td> <td>1985</td> <td>female</td> <td>5-14 years </td> <td>nan        </td> <td>298300    </td>\n",
              "        </tr>\n",
              "        <tr>\n",
              "            <td>Albania</td> <td>1985</td> <td>female</td> <td>55-74 years</td> <td>nan        </td> <td>138700    </td>\n",
              "        </tr>\n",
              "        <tr>\n",
              "            <td>Albania</td> <td>1985</td> <td>female</td> <td>75+ years  </td> <td>nan        </td> <td>34200     </td>\n",
              "        </tr>\n",
              "        <tr>\n",
              "            <td>Albania</td> <td>1985</td> <td>male  </td> <td>15-24 years</td> <td>nan        </td> <td>301400    </td>\n",
              "        </tr>\n",
              "        <tr>\n",
              "            <td>Albania</td> <td>1985</td> <td>male  </td> <td>25-34 years</td> <td>nan        </td> <td>264200    </td>\n",
              "        </tr>\n",
              "        <tr>\n",
              "            <td>Albania</td> <td>1985</td> <td>male  </td> <td>35-54 years</td> <td>nan        </td> <td>296700    </td>\n",
              "        </tr>\n",
              "        <tr>\n",
              "            <td>Albania</td> <td>1985</td> <td>male  </td> <td>5-14 years </td> <td>nan        </td> <td>325800    </td>\n",
              "        </tr>\n",
              "    </tbody>\n",
              "</table>\n",
              "<p>... (43766 rows omitted)</p>"
            ]
          },
          "metadata": {},
          "execution_count": 2
        }
      ],
      "source": [
        "tmp = Table.read_table(fpath) # Table로 읽어오기\n",
        "tmp"
      ]
    },
    {
      "cell_type": "code",
      "execution_count": null,
      "metadata": {
        "colab": {
          "base_uri": "https://localhost:8080/"
        },
        "id": "ERrVqpkRQZKf",
        "outputId": "d4ca5980-d1ed-4864-c786-cd504e34a382"
      },
      "outputs": [
        {
          "output_type": "execute_result",
          "data": {
            "text/plain": [
              "country | year | sex    | age         | suicides_no | population\n",
              "Albania | 1990 | female | 15-24 years | nan         | 305900\n",
              "Albania | 1990 | female | 25-34 years | nan         | 278000\n",
              "Albania | 1990 | female | 35-54 years | nan         | 308300\n",
              "Albania | 1990 | female | 5-14 years  | nan         | 329600\n",
              "Albania | 1990 | female | 55-74 years | nan         | 156400\n",
              "Albania | 1990 | female | 75+ years   | nan         | 37600\n",
              "Albania | 1990 | male   | 15-24 years | nan         | 325600\n",
              "Albania | 1990 | male   | 25-34 years | nan         | 295100\n",
              "Albania | 1990 | male   | 35-54 years | nan         | 337700\n",
              "Albania | 1990 | male   | 5-14 years  | nan         | 355600\n",
              "... (33170 rows omitted)"
            ],
            "text/html": [
              "<table border=\"1\" class=\"dataframe\">\n",
              "    <thead>\n",
              "        <tr>\n",
              "            <th>country</th> <th>year</th> <th>sex</th> <th>age</th> <th>suicides_no</th> <th>population</th>\n",
              "        </tr>\n",
              "    </thead>\n",
              "    <tbody>\n",
              "        <tr>\n",
              "            <td>Albania</td> <td>1990</td> <td>female</td> <td>15-24 years</td> <td>nan        </td> <td>305900    </td>\n",
              "        </tr>\n",
              "        <tr>\n",
              "            <td>Albania</td> <td>1990</td> <td>female</td> <td>25-34 years</td> <td>nan        </td> <td>278000    </td>\n",
              "        </tr>\n",
              "        <tr>\n",
              "            <td>Albania</td> <td>1990</td> <td>female</td> <td>35-54 years</td> <td>nan        </td> <td>308300    </td>\n",
              "        </tr>\n",
              "        <tr>\n",
              "            <td>Albania</td> <td>1990</td> <td>female</td> <td>5-14 years </td> <td>nan        </td> <td>329600    </td>\n",
              "        </tr>\n",
              "        <tr>\n",
              "            <td>Albania</td> <td>1990</td> <td>female</td> <td>55-74 years</td> <td>nan        </td> <td>156400    </td>\n",
              "        </tr>\n",
              "        <tr>\n",
              "            <td>Albania</td> <td>1990</td> <td>female</td> <td>75+ years  </td> <td>nan        </td> <td>37600     </td>\n",
              "        </tr>\n",
              "        <tr>\n",
              "            <td>Albania</td> <td>1990</td> <td>male  </td> <td>15-24 years</td> <td>nan        </td> <td>325600    </td>\n",
              "        </tr>\n",
              "        <tr>\n",
              "            <td>Albania</td> <td>1990</td> <td>male  </td> <td>25-34 years</td> <td>nan        </td> <td>295100    </td>\n",
              "        </tr>\n",
              "        <tr>\n",
              "            <td>Albania</td> <td>1990</td> <td>male  </td> <td>35-54 years</td> <td>nan        </td> <td>337700    </td>\n",
              "        </tr>\n",
              "        <tr>\n",
              "            <td>Albania</td> <td>1990</td> <td>male  </td> <td>5-14 years </td> <td>nan        </td> <td>355600    </td>\n",
              "        </tr>\n",
              "    </tbody>\n",
              "</table>\n",
              "<p>... (33170 rows omitted)</p>"
            ]
          },
          "metadata": {},
          "execution_count": 3
        }
      ],
      "source": [
        "# 1990년도부터\n",
        "tmp = tmp.where('year', are.above_or_equal_to(1990))\n",
        "tmp"
      ]
    },
    {
      "cell_type": "code",
      "execution_count": null,
      "metadata": {
        "colab": {
          "base_uri": "https://localhost:8080/"
        },
        "id": "ZKqTzcW8QZKg",
        "outputId": "cec19f67-0187-4678-8f3f-7a4e4c64c333"
      },
      "outputs": [
        {
          "output_type": "execute_result",
          "data": {
            "text/plain": [
              "country | year | sex    | age         | suicides_no | population\n",
              "Albania | 1992 | female | 15-24 years | 7           | 292400\n",
              "Albania | 1992 | female | 25-34 years | 4           | 267400\n",
              "Albania | 1992 | female | 35-54 years | 2           | 323100\n",
              "Albania | 1992 | female | 5-14 years  | 0           | 336700\n",
              "Albania | 1992 | female | 55-74 years | 1           | 164900\n",
              "Albania | 1992 | female | 75+ years   | 0           | 38700\n",
              "Albania | 1992 | male   | 15-24 years | 9           | 263700\n",
              "Albania | 1992 | male   | 25-34 years | 7           | 245500\n",
              "Albania | 1992 | male   | 35-54 years | 12          | 343800\n",
              "Albania | 1992 | male   | 5-14 years  | 0           | 362900\n",
              "... (28010 rows omitted)"
            ],
            "text/html": [
              "<table border=\"1\" class=\"dataframe\">\n",
              "    <thead>\n",
              "        <tr>\n",
              "            <th>country</th> <th>year</th> <th>sex</th> <th>age</th> <th>suicides_no</th> <th>population</th>\n",
              "        </tr>\n",
              "    </thead>\n",
              "    <tbody>\n",
              "        <tr>\n",
              "            <td>Albania</td> <td>1992</td> <td>female</td> <td>15-24 years</td> <td>7          </td> <td>292400    </td>\n",
              "        </tr>\n",
              "        <tr>\n",
              "            <td>Albania</td> <td>1992</td> <td>female</td> <td>25-34 years</td> <td>4          </td> <td>267400    </td>\n",
              "        </tr>\n",
              "        <tr>\n",
              "            <td>Albania</td> <td>1992</td> <td>female</td> <td>35-54 years</td> <td>2          </td> <td>323100    </td>\n",
              "        </tr>\n",
              "        <tr>\n",
              "            <td>Albania</td> <td>1992</td> <td>female</td> <td>5-14 years </td> <td>0          </td> <td>336700    </td>\n",
              "        </tr>\n",
              "        <tr>\n",
              "            <td>Albania</td> <td>1992</td> <td>female</td> <td>55-74 years</td> <td>1          </td> <td>164900    </td>\n",
              "        </tr>\n",
              "        <tr>\n",
              "            <td>Albania</td> <td>1992</td> <td>female</td> <td>75+ years  </td> <td>0          </td> <td>38700     </td>\n",
              "        </tr>\n",
              "        <tr>\n",
              "            <td>Albania</td> <td>1992</td> <td>male  </td> <td>15-24 years</td> <td>9          </td> <td>263700    </td>\n",
              "        </tr>\n",
              "        <tr>\n",
              "            <td>Albania</td> <td>1992</td> <td>male  </td> <td>25-34 years</td> <td>7          </td> <td>245500    </td>\n",
              "        </tr>\n",
              "        <tr>\n",
              "            <td>Albania</td> <td>1992</td> <td>male  </td> <td>35-54 years</td> <td>12         </td> <td>343800    </td>\n",
              "        </tr>\n",
              "        <tr>\n",
              "            <td>Albania</td> <td>1992</td> <td>male  </td> <td>5-14 years </td> <td>0          </td> <td>362900    </td>\n",
              "        </tr>\n",
              "    </tbody>\n",
              "</table>\n",
              "<p>... (28010 rows omitted)</p>"
            ]
          },
          "metadata": {},
          "execution_count": 4
        }
      ],
      "source": [
        "# nan 제거\n",
        "tmp=tmp.where('suicides_no', are.above_or_equal_to(0))\n",
        "tmp=tmp.where('population', are.above_or_equal_to(0))\n",
        "tmp"
      ]
    },
    {
      "cell_type": "code",
      "execution_count": null,
      "metadata": {
        "colab": {
          "base_uri": "https://localhost:8080/"
        },
        "id": "fF869uvBQZKg",
        "outputId": "dcf824ef-7d40-4d71-f140-ded6f79e7aae"
      },
      "outputs": [
        {
          "output_type": "execute_result",
          "data": {
            "text/plain": [
              "country | year | sex    | age         | suicides_no | population\n",
              "Albania | 1992 | female | 15-24 years | 7           | 292400\n",
              "Albania | 1992 | female | 25-34 years | 4           | 267400\n",
              "Albania | 1992 | female | 35-54 years | 2           | 323100\n",
              "Albania | 1992 | female | 5-14 years  | 0           | 336700\n",
              "Albania | 1992 | male   | 15-24 years | 9           | 263700\n",
              "Albania | 1992 | male   | 25-34 years | 7           | 245500\n",
              "Albania | 1992 | male   | 35-54 years | 12          | 343800\n",
              "Albania | 1992 | male   | 5-14 years  | 0           | 362900\n",
              "Albania | 1993 | female | 15-24 years | 10          | 285300\n",
              "Albania | 1993 | female | 25-34 years | 7           | 261800\n",
              "... (18670 rows omitted)"
            ],
            "text/html": [
              "<table border=\"1\" class=\"dataframe\">\n",
              "    <thead>\n",
              "        <tr>\n",
              "            <th>country</th> <th>year</th> <th>sex</th> <th>age</th> <th>suicides_no</th> <th>population</th>\n",
              "        </tr>\n",
              "    </thead>\n",
              "    <tbody>\n",
              "        <tr>\n",
              "            <td>Albania</td> <td>1992</td> <td>female</td> <td>15-24 years</td> <td>7          </td> <td>292400    </td>\n",
              "        </tr>\n",
              "        <tr>\n",
              "            <td>Albania</td> <td>1992</td> <td>female</td> <td>25-34 years</td> <td>4          </td> <td>267400    </td>\n",
              "        </tr>\n",
              "        <tr>\n",
              "            <td>Albania</td> <td>1992</td> <td>female</td> <td>35-54 years</td> <td>2          </td> <td>323100    </td>\n",
              "        </tr>\n",
              "        <tr>\n",
              "            <td>Albania</td> <td>1992</td> <td>female</td> <td>5-14 years </td> <td>0          </td> <td>336700    </td>\n",
              "        </tr>\n",
              "        <tr>\n",
              "            <td>Albania</td> <td>1992</td> <td>male  </td> <td>15-24 years</td> <td>9          </td> <td>263700    </td>\n",
              "        </tr>\n",
              "        <tr>\n",
              "            <td>Albania</td> <td>1992</td> <td>male  </td> <td>25-34 years</td> <td>7          </td> <td>245500    </td>\n",
              "        </tr>\n",
              "        <tr>\n",
              "            <td>Albania</td> <td>1992</td> <td>male  </td> <td>35-54 years</td> <td>12         </td> <td>343800    </td>\n",
              "        </tr>\n",
              "        <tr>\n",
              "            <td>Albania</td> <td>1992</td> <td>male  </td> <td>5-14 years </td> <td>0          </td> <td>362900    </td>\n",
              "        </tr>\n",
              "        <tr>\n",
              "            <td>Albania</td> <td>1993</td> <td>female</td> <td>15-24 years</td> <td>10         </td> <td>285300    </td>\n",
              "        </tr>\n",
              "        <tr>\n",
              "            <td>Albania</td> <td>1993</td> <td>female</td> <td>25-34 years</td> <td>7          </td> <td>261800    </td>\n",
              "        </tr>\n",
              "    </tbody>\n",
              "</table>\n",
              "<p>... (18670 rows omitted)</p>"
            ]
          },
          "metadata": {},
          "execution_count": 5
        }
      ],
      "source": [
        "# 55세 이상 데이터 삭제\n",
        "tmp = tmp.where('age', are.not_equal_to('55-74 years')).where('age', are.not_equal_to('75+ years'))\n",
        "tmp"
      ]
    },
    {
      "cell_type": "markdown",
      "source": [
        "# Main 1 : Korea 정보\n",
        "\n",
        "> 2009~2011은 왜 자살률이 높을까?   \n",
        "> 자살률이 급 상승한 년도에는 무슨 이유가 있을까?"
      ],
      "metadata": {
        "id": "XL-fy88ASaB1"
      }
    },
    {
      "cell_type": "code",
      "execution_count": null,
      "metadata": {
        "colab": {
          "base_uri": "https://localhost:8080/",
          "height": 392
        },
        "id": "kxv4sKiAQZKg",
        "outputId": "fb733f50-ed67-4bef-b5c1-9b6bfdb943c7"
      },
      "outputs": [
        {
          "output_type": "execute_result",
          "data": {
            "text/plain": [
              "country           | year | sex    | age         | suicides_no | population\n",
              "Republic of Korea | 1990 | female | 15-24 years | 232         | 4.2505e+06\n",
              "Republic of Korea | 1990 | female | 25-34 years | 269         | 4.1024e+06\n",
              "Republic of Korea | 1990 | female | 35-54 years | 242         | 4.7813e+06\n",
              "Republic of Korea | 1990 | female | 5-14 years  | 14          | 3.7693e+06\n",
              "Republic of Korea | 1990 | male   | 15-24 years | 480         | 4.5022e+06\n",
              "Republic of Korea | 1990 | male   | 25-34 years | 550         | 4.2701e+06\n",
              "Republic of Korea | 1990 | male   | 35-54 years | 736         | 4.9813e+06\n",
              "Republic of Korea | 1990 | male   | 5-14 years  | 26          | 4.0282e+06\n",
              "Republic of Korea | 1991 | female | 15-24 years | 201         | 4.2265e+06\n",
              "Republic of Korea | 1991 | female | 25-34 years | 247         | 4.115e+06\n",
              "... (198 rows omitted)"
            ],
            "text/html": [
              "<table border=\"1\" class=\"dataframe\">\n",
              "    <thead>\n",
              "        <tr>\n",
              "            <th>country</th> <th>year</th> <th>sex</th> <th>age</th> <th>suicides_no</th> <th>population</th>\n",
              "        </tr>\n",
              "    </thead>\n",
              "    <tbody>\n",
              "        <tr>\n",
              "            <td>Republic of Korea</td> <td>1990</td> <td>female</td> <td>15-24 years</td> <td>232        </td> <td>4.2505e+06</td>\n",
              "        </tr>\n",
              "        <tr>\n",
              "            <td>Republic of Korea</td> <td>1990</td> <td>female</td> <td>25-34 years</td> <td>269        </td> <td>4.1024e+06</td>\n",
              "        </tr>\n",
              "        <tr>\n",
              "            <td>Republic of Korea</td> <td>1990</td> <td>female</td> <td>35-54 years</td> <td>242        </td> <td>4.7813e+06</td>\n",
              "        </tr>\n",
              "        <tr>\n",
              "            <td>Republic of Korea</td> <td>1990</td> <td>female</td> <td>5-14 years </td> <td>14         </td> <td>3.7693e+06</td>\n",
              "        </tr>\n",
              "        <tr>\n",
              "            <td>Republic of Korea</td> <td>1990</td> <td>male  </td> <td>15-24 years</td> <td>480        </td> <td>4.5022e+06</td>\n",
              "        </tr>\n",
              "        <tr>\n",
              "            <td>Republic of Korea</td> <td>1990</td> <td>male  </td> <td>25-34 years</td> <td>550        </td> <td>4.2701e+06</td>\n",
              "        </tr>\n",
              "        <tr>\n",
              "            <td>Republic of Korea</td> <td>1990</td> <td>male  </td> <td>35-54 years</td> <td>736        </td> <td>4.9813e+06</td>\n",
              "        </tr>\n",
              "        <tr>\n",
              "            <td>Republic of Korea</td> <td>1990</td> <td>male  </td> <td>5-14 years </td> <td>26         </td> <td>4.0282e+06</td>\n",
              "        </tr>\n",
              "        <tr>\n",
              "            <td>Republic of Korea</td> <td>1991</td> <td>female</td> <td>15-24 years</td> <td>201        </td> <td>4.2265e+06</td>\n",
              "        </tr>\n",
              "        <tr>\n",
              "            <td>Republic of Korea</td> <td>1991</td> <td>female</td> <td>25-34 years</td> <td>247        </td> <td>4.115e+06 </td>\n",
              "        </tr>\n",
              "    </tbody>\n",
              "</table>\n",
              "<p>... (198 rows omitted)</p>"
            ]
          },
          "metadata": {},
          "execution_count": 6
        }
      ],
      "source": [
        "# 한국 데이터만 뽑아오기\n",
        "korea = tmp.where('country', 'Republic of Korea')\n",
        "korea"
      ]
    },
    {
      "cell_type": "code",
      "execution_count": null,
      "metadata": {
        "colab": {
          "base_uri": "https://localhost:8080/",
          "height": 392
        },
        "id": "lkp6lMCOQZKh",
        "outputId": "38bdbd7c-253d-4273-b339-bba77b921c79"
      },
      "outputs": [
        {
          "output_type": "execute_result",
          "data": {
            "text/plain": [
              "country           | year | sex    | age         | suicides_no | population(unit : 1000)\n",
              "Republic of Korea | 1990 | female | 15-24 years | 232         | 4250.5\n",
              "Republic of Korea | 1990 | female | 25-34 years | 269         | 4102.4\n",
              "Republic of Korea | 1990 | female | 35-54 years | 242         | 4781.3\n",
              "Republic of Korea | 1990 | female | 5-14 years  | 14          | 3769.3\n",
              "Republic of Korea | 1990 | male   | 15-24 years | 480         | 4502.2\n",
              "Republic of Korea | 1990 | male   | 25-34 years | 550         | 4270.1\n",
              "Republic of Korea | 1990 | male   | 35-54 years | 736         | 4981.3\n",
              "Republic of Korea | 1990 | male   | 5-14 years  | 26          | 4028.2\n",
              "Republic of Korea | 1991 | female | 15-24 years | 201         | 4226.5\n",
              "Republic of Korea | 1991 | female | 25-34 years | 247         | 4115\n",
              "... (198 rows omitted)"
            ],
            "text/html": [
              "<table border=\"1\" class=\"dataframe\">\n",
              "    <thead>\n",
              "        <tr>\n",
              "            <th>country</th> <th>year</th> <th>sex</th> <th>age</th> <th>suicides_no</th> <th>population(unit : 1000)</th>\n",
              "        </tr>\n",
              "    </thead>\n",
              "    <tbody>\n",
              "        <tr>\n",
              "            <td>Republic of Korea</td> <td>1990</td> <td>female</td> <td>15-24 years</td> <td>232        </td> <td>4250.5                 </td>\n",
              "        </tr>\n",
              "        <tr>\n",
              "            <td>Republic of Korea</td> <td>1990</td> <td>female</td> <td>25-34 years</td> <td>269        </td> <td>4102.4                 </td>\n",
              "        </tr>\n",
              "        <tr>\n",
              "            <td>Republic of Korea</td> <td>1990</td> <td>female</td> <td>35-54 years</td> <td>242        </td> <td>4781.3                 </td>\n",
              "        </tr>\n",
              "        <tr>\n",
              "            <td>Republic of Korea</td> <td>1990</td> <td>female</td> <td>5-14 years </td> <td>14         </td> <td>3769.3                 </td>\n",
              "        </tr>\n",
              "        <tr>\n",
              "            <td>Republic of Korea</td> <td>1990</td> <td>male  </td> <td>15-24 years</td> <td>480        </td> <td>4502.2                 </td>\n",
              "        </tr>\n",
              "        <tr>\n",
              "            <td>Republic of Korea</td> <td>1990</td> <td>male  </td> <td>25-34 years</td> <td>550        </td> <td>4270.1                 </td>\n",
              "        </tr>\n",
              "        <tr>\n",
              "            <td>Republic of Korea</td> <td>1990</td> <td>male  </td> <td>35-54 years</td> <td>736        </td> <td>4981.3                 </td>\n",
              "        </tr>\n",
              "        <tr>\n",
              "            <td>Republic of Korea</td> <td>1990</td> <td>male  </td> <td>5-14 years </td> <td>26         </td> <td>4028.2                 </td>\n",
              "        </tr>\n",
              "        <tr>\n",
              "            <td>Republic of Korea</td> <td>1991</td> <td>female</td> <td>15-24 years</td> <td>201        </td> <td>4226.5                 </td>\n",
              "        </tr>\n",
              "        <tr>\n",
              "            <td>Republic of Korea</td> <td>1991</td> <td>female</td> <td>25-34 years</td> <td>247        </td> <td>4115                   </td>\n",
              "        </tr>\n",
              "    </tbody>\n",
              "</table>\n",
              "<p>... (198 rows omitted)</p>"
            ]
          },
          "metadata": {},
          "execution_count": 7
        }
      ],
      "source": [
        "# e값 없애기\n",
        "korea['population']/=1000\n",
        "korea.relabeled('population', 'population(unit : 1000)')"
      ]
    },
    {
      "cell_type": "code",
      "execution_count": null,
      "metadata": {
        "colab": {
          "base_uri": "https://localhost:8080/",
          "height": 392
        },
        "id": "9ha-AQSuQZKi",
        "outputId": "912018eb-c540-401e-a870-d4722468ab4a"
      },
      "outputs": [
        {
          "output_type": "execute_result",
          "data": {
            "text/plain": [
              "year | suicides_no sum | population sum\n",
              "1990 | 2549            | 34685.3\n",
              "1991 | 2473            | 34883\n",
              "1992 | 2797            | 35048.9\n",
              "1993 | 3211            | 35212.8\n",
              "1994 | 3204            | 35381.5\n",
              "1995 | 3684            | 36145.7\n",
              "1996 | 4431            | 36332.9\n",
              "1997 | 4444            | 36486.1\n",
              "1998 | 6204            | 36648.8\n",
              "1999 | 4945            | 36856.3\n",
              "... (16 rows omitted)"
            ],
            "text/html": [
              "<table border=\"1\" class=\"dataframe\">\n",
              "    <thead>\n",
              "        <tr>\n",
              "            <th>year</th> <th>suicides_no sum</th> <th>population sum</th>\n",
              "        </tr>\n",
              "    </thead>\n",
              "    <tbody>\n",
              "        <tr>\n",
              "            <td>1990</td> <td>2549           </td> <td>34685.3       </td>\n",
              "        </tr>\n",
              "        <tr>\n",
              "            <td>1991</td> <td>2473           </td> <td>34883         </td>\n",
              "        </tr>\n",
              "        <tr>\n",
              "            <td>1992</td> <td>2797           </td> <td>35048.9       </td>\n",
              "        </tr>\n",
              "        <tr>\n",
              "            <td>1993</td> <td>3211           </td> <td>35212.8       </td>\n",
              "        </tr>\n",
              "        <tr>\n",
              "            <td>1994</td> <td>3204           </td> <td>35381.5       </td>\n",
              "        </tr>\n",
              "        <tr>\n",
              "            <td>1995</td> <td>3684           </td> <td>36145.7       </td>\n",
              "        </tr>\n",
              "        <tr>\n",
              "            <td>1996</td> <td>4431           </td> <td>36332.9       </td>\n",
              "        </tr>\n",
              "        <tr>\n",
              "            <td>1997</td> <td>4444           </td> <td>36486.1       </td>\n",
              "        </tr>\n",
              "        <tr>\n",
              "            <td>1998</td> <td>6204           </td> <td>36648.8       </td>\n",
              "        </tr>\n",
              "        <tr>\n",
              "            <td>1999</td> <td>4945           </td> <td>36856.3       </td>\n",
              "        </tr>\n",
              "    </tbody>\n",
              "</table>\n",
              "<p>... (16 rows omitted)</p>"
            ]
          },
          "metadata": {},
          "execution_count": 8
        }
      ],
      "source": [
        "# 연도별로 성별, 연령 분류 없이 Table 하나 생성\n",
        "korea_total = korea.group('year', sum).select(0,4,5)\n",
        "korea_total"
      ]
    },
    {
      "cell_type": "code",
      "execution_count": null,
      "metadata": {
        "colab": {
          "base_uri": "https://localhost:8080/",
          "height": 392
        },
        "id": "AWJCip16QZKi",
        "outputId": "3c61b134-8061-4d72-dd51-cfdc95039d31"
      },
      "outputs": [
        {
          "output_type": "execute_result",
          "data": {
            "text/plain": [
              "year | suicides_no sum | population sum | suicide per\n",
              "1990 | 2549            | 34685.3        | 7.34893\n",
              "1991 | 2473            | 34883          | 7.08941\n",
              "1992 | 2797            | 35048.9        | 7.98028\n",
              "1993 | 3211            | 35212.8        | 9.11884\n",
              "1994 | 3204            | 35381.5        | 9.05558\n",
              "1995 | 3684            | 36145.7        | 10.1921\n",
              "1996 | 4431            | 36332.9        | 12.1956\n",
              "1997 | 4444            | 36486.1        | 12.18\n",
              "1998 | 6204            | 36648.8        | 16.9282\n",
              "1999 | 4945            | 36856.3        | 13.417\n",
              "... (16 rows omitted)"
            ],
            "text/html": [
              "<table border=\"1\" class=\"dataframe\">\n",
              "    <thead>\n",
              "        <tr>\n",
              "            <th>year</th> <th>suicides_no sum</th> <th>population sum</th> <th>suicide per</th>\n",
              "        </tr>\n",
              "    </thead>\n",
              "    <tbody>\n",
              "        <tr>\n",
              "            <td>1990</td> <td>2549           </td> <td>34685.3       </td> <td>7.34893    </td>\n",
              "        </tr>\n",
              "        <tr>\n",
              "            <td>1991</td> <td>2473           </td> <td>34883         </td> <td>7.08941    </td>\n",
              "        </tr>\n",
              "        <tr>\n",
              "            <td>1992</td> <td>2797           </td> <td>35048.9       </td> <td>7.98028    </td>\n",
              "        </tr>\n",
              "        <tr>\n",
              "            <td>1993</td> <td>3211           </td> <td>35212.8       </td> <td>9.11884    </td>\n",
              "        </tr>\n",
              "        <tr>\n",
              "            <td>1994</td> <td>3204           </td> <td>35381.5       </td> <td>9.05558    </td>\n",
              "        </tr>\n",
              "        <tr>\n",
              "            <td>1995</td> <td>3684           </td> <td>36145.7       </td> <td>10.1921    </td>\n",
              "        </tr>\n",
              "        <tr>\n",
              "            <td>1996</td> <td>4431           </td> <td>36332.9       </td> <td>12.1956    </td>\n",
              "        </tr>\n",
              "        <tr>\n",
              "            <td>1997</td> <td>4444           </td> <td>36486.1       </td> <td>12.18      </td>\n",
              "        </tr>\n",
              "        <tr>\n",
              "            <td>1998</td> <td>6204           </td> <td>36648.8       </td> <td>16.9282    </td>\n",
              "        </tr>\n",
              "        <tr>\n",
              "            <td>1999</td> <td>4945           </td> <td>36856.3       </td> <td>13.417     </td>\n",
              "        </tr>\n",
              "    </tbody>\n",
              "</table>\n",
              "<p>... (16 rows omitted)</p>"
            ]
          },
          "metadata": {},
          "execution_count": 9
        }
      ],
      "source": [
        "# 연도별 자살률 분석을 위해 자살률 Table에 추가\n",
        "korea_per = korea_total.with_column('suicide per', (korea_total.column(1)/korea_total.column(2))*100)\n",
        "korea_per"
      ]
    },
    {
      "cell_type": "code",
      "execution_count": null,
      "metadata": {
        "colab": {
          "base_uri": "https://localhost:8080/",
          "height": 335
        },
        "id": "kVPi2V9qQZKj",
        "outputId": "81b9fa66-040d-4d09-9c91-4a19a6b88740"
      },
      "outputs": [
        {
          "output_type": "display_data",
          "data": {
            "text/plain": [
              "<Figure size 360x360 with 1 Axes>"
            ],
            "image/png": "[encoded data removed]"
          },
          "metadata": {
            "needs_background": "light"
          }
        }
      ],
      "source": [
        "for_hist=korea_per.select(0,3)\n",
        "for_hist.scatter('year', 'suicide per')"
      ]
    },
    {
      "cell_type": "code",
      "execution_count": null,
      "metadata": {
        "colab": {
          "base_uri": "https://localhost:8080/",
          "height": 392
        },
        "id": "18aao9C8QZKj",
        "outputId": "bdcdb463-7b8e-493c-e320-f913557c1b0f"
      },
      "outputs": [
        {
          "output_type": "execute_result",
          "data": {
            "text/plain": [
              "year | suicides_no sum | population sum | suicide per\n",
              "2011 | 9165            | 36972.2        | 24.7889\n",
              "2009 | 9299            | 37538.9        | 24.7717\n",
              "2010 | 8994            | 37280.6        | 24.1251\n",
              "2013 | 8279            | 36344.7        | 22.7791\n",
              "2014 | 8110            | 35969.4        | 22.5469\n",
              "2012 | 8036            | 36672.6        | 21.9128\n",
              "2015 | 7318            | 35521.5        | 20.6016\n",
              "2008 | 7625            | 37651.5        | 20.2515\n",
              "2007 | 7034            | 37743.7        | 18.6362\n",
              "2005 | 6865            | 37679.3        | 18.2196\n",
              "... (16 rows omitted)"
            ],
            "text/html": [
              "<table border=\"1\" class=\"dataframe\">\n",
              "    <thead>\n",
              "        <tr>\n",
              "            <th>year</th> <th>suicides_no sum</th> <th>population sum</th> <th>suicide per</th>\n",
              "        </tr>\n",
              "    </thead>\n",
              "    <tbody>\n",
              "        <tr>\n",
              "            <td>2011</td> <td>9165           </td> <td>36972.2       </td> <td>24.7889    </td>\n",
              "        </tr>\n",
              "        <tr>\n",
              "            <td>2009</td> <td>9299           </td> <td>37538.9       </td> <td>24.7717    </td>\n",
              "        </tr>\n",
              "        <tr>\n",
              "            <td>2010</td> <td>8994           </td> <td>37280.6       </td> <td>24.1251    </td>\n",
              "        </tr>\n",
              "        <tr>\n",
              "            <td>2013</td> <td>8279           </td> <td>36344.7       </td> <td>22.7791    </td>\n",
              "        </tr>\n",
              "        <tr>\n",
              "            <td>2014</td> <td>8110           </td> <td>35969.4       </td> <td>22.5469    </td>\n",
              "        </tr>\n",
              "        <tr>\n",
              "            <td>2012</td> <td>8036           </td> <td>36672.6       </td> <td>21.9128    </td>\n",
              "        </tr>\n",
              "        <tr>\n",
              "            <td>2015</td> <td>7318           </td> <td>35521.5       </td> <td>20.6016    </td>\n",
              "        </tr>\n",
              "        <tr>\n",
              "            <td>2008</td> <td>7625           </td> <td>37651.5       </td> <td>20.2515    </td>\n",
              "        </tr>\n",
              "        <tr>\n",
              "            <td>2007</td> <td>7034           </td> <td>37743.7       </td> <td>18.6362    </td>\n",
              "        </tr>\n",
              "        <tr>\n",
              "            <td>2005</td> <td>6865           </td> <td>37679.3       </td> <td>18.2196    </td>\n",
              "        </tr>\n",
              "    </tbody>\n",
              "</table>\n",
              "<p>... (16 rows omitted)</p>"
            ]
          },
          "metadata": {},
          "execution_count": 11
        }
      ],
      "source": [
        "# 자살률이 가장 높았던 시기를 뽑아보자\n",
        "top_rate = korea_per.sort('suicide per', descending=True)\n",
        "top_rate"
      ]
    },
    {
      "cell_type": "code",
      "source": [
        "# 자살률이 급격하게 증가한 년도 찾기\n",
        "results = make_array()\n",
        "col = 3\n",
        "for i in np.arange(0,24) :\n",
        "  difference = top_rate.column(col).take(i) - top_rate.column(col).take(i+1)\n",
        "  results = np.append(results, difference)\n",
        "\n",
        "results.argmax()\n",
        "# results의 0번 = 0~1의 차이\n",
        "# results의 1번 = 1~2의 차이\n",
        "# results의 2번 = 2~3의 차이\n",
        "# results의 n번 = n~n+1의 차이 => n번 인덱스 년도가 가장 크게 증가한 년도"
      ],
      "metadata": {
        "colab": {
          "base_uri": "https://localhost:8080/"
        },
        "id": "9GIRTmWsWdrS",
        "outputId": "340a2ed6-9adc-4a17-91e8-b25903a370c5"
      },
      "execution_count": null,
      "outputs": [
        {
          "output_type": "execute_result",
          "data": {
            "text/plain": [
              "7"
            ]
          },
          "metadata": {},
          "execution_count": 12
        }
      ]
    },
    {
      "cell_type": "code",
      "source": [
        "results"
      ],
      "metadata": {
        "colab": {
          "base_uri": "https://localhost:8080/"
        },
        "id": "vdTKIUWbWWGS",
        "outputId": "ea32b783-6ff8-4c50-b372-7af5ae688c3e"
      },
      "execution_count": null,
      "outputs": [
        {
          "output_type": "execute_result",
          "data": {
            "text/plain": [
              "array([0.0172447 , 0.64653039, 1.34598185, 0.23220966, 0.63409385,\n",
              "       1.31125139, 0.35007407, 1.6152697 , 0.41667454, 0.83686968,\n",
              "       0.0083763 , 0.44607132, 1.49387837, 1.25349048, 0.76390634,\n",
              "       1.22141519, 0.01557743, 0.33463083, 0.23387819, 1.41938815,\n",
              "       1.07324056, 0.06326325, 1.07530091, 0.63134442])"
            ]
          },
          "metadata": {},
          "execution_count": 13
        }
      ]
    },
    {
      "cell_type": "code",
      "source": [
        "# 자살률 증가 순서에 따른 3개\n",
        "temp=results\n",
        "for i in np.arange(0,3):\n",
        "  increase_rank_idx = make_array()\n",
        "  increase_rank_idx = np.append(increase_rank_idx, results.argmax())\n",
        "  temp = np.delete(results, results.argmax())\n",
        "  temp.max()\n",
        "\n",
        "increase_rank_idx"
      ],
      "metadata": {
        "id": "DSUbaGNOZe7i",
        "colab": {
          "base_uri": "https://localhost:8080/"
        },
        "outputId": "4e7b99a3-dc5d-47ce-b063-c48cebfbed7e"
      },
      "execution_count": null,
      "outputs": [
        {
          "output_type": "execute_result",
          "data": {
            "text/plain": [
              "array([7.])"
            ]
          },
          "metadata": {},
          "execution_count": 14
        }
      ]
    },
    {
      "cell_type": "code",
      "source": [
        "# 원본 데이터에서 2011년, 2010년, 2009년 각각 새로운 변수에 저장\n",
        "per2011 = korea.where('year', 2011)\n",
        "per2009 = korea.where('year', 2009)\n",
        "per2010 = korea.where('year', 2010)\n",
        "per2011"
      ],
      "metadata": {
        "colab": {
          "base_uri": "https://localhost:8080/",
          "height": 300
        },
        "id": "F54SKGMlSEMi",
        "outputId": "61333878-d539-4d78-e076-52558172e4e3"
      },
      "execution_count": null,
      "outputs": [
        {
          "output_type": "execute_result",
          "data": {
            "text/plain": [
              "country           | year | sex    | age         | suicides_no | population\n",
              "Republic of Korea | 2011 | female | 15-24 years | 347         | 3161.44\n",
              "Republic of Korea | 2011 | female | 25-34 years | 901         | 3682.79\n",
              "Republic of Korea | 2011 | female | 35-54 years | 1694        | 8426.58\n",
              "Republic of Korea | 2011 | female | 5-14 years  | 26          | 2677.56\n",
              "Republic of Korea | 2011 | male   | 15-24 years | 528         | 3543.61\n",
              "Republic of Korea | 2011 | male   | 25-34 years | 1384        | 3868.8\n",
              "Republic of Korea | 2011 | male   | 35-54 years | 4255        | 8696.95\n",
              "Republic of Korea | 2011 | male   | 5-14 years  | 30          | 2914.47"
            ],
            "text/html": [
              "<table border=\"1\" class=\"dataframe\">\n",
              "    <thead>\n",
              "        <tr>\n",
              "            <th>country</th> <th>year</th> <th>sex</th> <th>age</th> <th>suicides_no</th> <th>population</th>\n",
              "        </tr>\n",
              "    </thead>\n",
              "    <tbody>\n",
              "        <tr>\n",
              "            <td>Republic of Korea</td> <td>2011</td> <td>female</td> <td>15-24 years</td> <td>347        </td> <td>3161.44   </td>\n",
              "        </tr>\n",
              "        <tr>\n",
              "            <td>Republic of Korea</td> <td>2011</td> <td>female</td> <td>25-34 years</td> <td>901        </td> <td>3682.79   </td>\n",
              "        </tr>\n",
              "        <tr>\n",
              "            <td>Republic of Korea</td> <td>2011</td> <td>female</td> <td>35-54 years</td> <td>1694       </td> <td>8426.58   </td>\n",
              "        </tr>\n",
              "        <tr>\n",
              "            <td>Republic of Korea</td> <td>2011</td> <td>female</td> <td>5-14 years </td> <td>26         </td> <td>2677.56   </td>\n",
              "        </tr>\n",
              "        <tr>\n",
              "            <td>Republic of Korea</td> <td>2011</td> <td>male  </td> <td>15-24 years</td> <td>528        </td> <td>3543.61   </td>\n",
              "        </tr>\n",
              "        <tr>\n",
              "            <td>Republic of Korea</td> <td>2011</td> <td>male  </td> <td>25-34 years</td> <td>1384       </td> <td>3868.8    </td>\n",
              "        </tr>\n",
              "        <tr>\n",
              "            <td>Republic of Korea</td> <td>2011</td> <td>male  </td> <td>35-54 years</td> <td>4255       </td> <td>8696.95   </td>\n",
              "        </tr>\n",
              "        <tr>\n",
              "            <td>Republic of Korea</td> <td>2011</td> <td>male  </td> <td>5-14 years </td> <td>30         </td> <td>2914.47   </td>\n",
              "        </tr>\n",
              "    </tbody>\n",
              "</table>"
            ]
          },
          "metadata": {},
          "execution_count": 15
        }
      ]
    },
    {
      "cell_type": "code",
      "source": [
        "# 각 연령대별 자살률 추가하고 비율 기준 정렬 및 suicides_no와 population 행 삭제\n",
        "per2011=per2011.with_column('per(%)', (per2011.column(4)/per2011.column(5))*100).sort('per(%)', descending=True).select(1,2,3,6)\n",
        "per2009=per2009.with_column('per(%)', (per2009.column(4)/per2009.column(5))*100).sort('per(%)', descending=True).select(1,2,3,6)\n",
        "per2010=per2010.with_column('per(%)', (per2010.column(4)/per2010.column(5))*100).sort('per(%)', descending=True).select(1,2,3,6)\n",
        "per2011"
      ],
      "metadata": {
        "colab": {
          "base_uri": "https://localhost:8080/",
          "height": 300
        },
        "id": "WfPBWY2ITP-s",
        "outputId": "6bcefb17-4e10-4504-f859-6c976854de83"
      },
      "execution_count": null,
      "outputs": [
        {
          "output_type": "execute_result",
          "data": {
            "text/plain": [
              "year | sex    | age         | per(%)\n",
              "2011 | male   | 35-54 years | 48.9252\n",
              "2011 | male   | 25-34 years | 35.7733\n",
              "2011 | female | 25-34 years | 24.4651\n",
              "2011 | female | 35-54 years | 20.1031\n",
              "2011 | male   | 15-24 years | 14.9001\n",
              "2011 | female | 15-24 years | 10.976\n",
              "2011 | male   | 5-14 years  | 1.02935\n",
              "2011 | female | 5-14 years  | 0.971033"
            ],
            "text/html": [
              "<table border=\"1\" class=\"dataframe\">\n",
              "    <thead>\n",
              "        <tr>\n",
              "            <th>year</th> <th>sex</th> <th>age</th> <th>per(%)</th>\n",
              "        </tr>\n",
              "    </thead>\n",
              "    <tbody>\n",
              "        <tr>\n",
              "            <td>2011</td> <td>male  </td> <td>35-54 years</td> <td>48.9252 </td>\n",
              "        </tr>\n",
              "        <tr>\n",
              "            <td>2011</td> <td>male  </td> <td>25-34 years</td> <td>35.7733 </td>\n",
              "        </tr>\n",
              "        <tr>\n",
              "            <td>2011</td> <td>female</td> <td>25-34 years</td> <td>24.4651 </td>\n",
              "        </tr>\n",
              "        <tr>\n",
              "            <td>2011</td> <td>female</td> <td>35-54 years</td> <td>20.1031 </td>\n",
              "        </tr>\n",
              "        <tr>\n",
              "            <td>2011</td> <td>male  </td> <td>15-24 years</td> <td>14.9001 </td>\n",
              "        </tr>\n",
              "        <tr>\n",
              "            <td>2011</td> <td>female</td> <td>15-24 years</td> <td>10.976  </td>\n",
              "        </tr>\n",
              "        <tr>\n",
              "            <td>2011</td> <td>male  </td> <td>5-14 years </td> <td>1.02935 </td>\n",
              "        </tr>\n",
              "        <tr>\n",
              "            <td>2011</td> <td>female</td> <td>5-14 years </td> <td>0.971033</td>\n",
              "        </tr>\n",
              "    </tbody>\n",
              "</table>"
            ]
          },
          "metadata": {},
          "execution_count": 16
        }
      ]
    },
    {
      "cell_type": "code",
      "source": [
        "per2010"
      ],
      "metadata": {
        "colab": {
          "base_uri": "https://localhost:8080/",
          "height": 300
        },
        "id": "DVS-g9xIT8z4",
        "outputId": "5e028a87-6509-4f24-815e-19a6350782d9"
      },
      "execution_count": null,
      "outputs": [
        {
          "output_type": "execute_result",
          "data": {
            "text/plain": [
              "year | sex    | age         | per(%)\n",
              "2010 | male   | 35-54 years | 46.6517\n",
              "2010 | male   | 25-34 years | 33.0497\n",
              "2010 | female | 25-34 years | 25.8762\n",
              "2010 | female | 35-54 years | 20.7459\n",
              "2010 | male   | 15-24 years | 14.0469\n",
              "2010 | female | 15-24 years | 11.8567\n",
              "2010 | female | 5-14 years  | 1.21722\n",
              "2010 | male   | 5-14 years  | 0.883877"
            ],
            "text/html": [
              "<table border=\"1\" class=\"dataframe\">\n",
              "    <thead>\n",
              "        <tr>\n",
              "            <th>year</th> <th>sex</th> <th>age</th> <th>per(%)</th>\n",
              "        </tr>\n",
              "    </thead>\n",
              "    <tbody>\n",
              "        <tr>\n",
              "            <td>2010</td> <td>male  </td> <td>35-54 years</td> <td>46.6517 </td>\n",
              "        </tr>\n",
              "        <tr>\n",
              "            <td>2010</td> <td>male  </td> <td>25-34 years</td> <td>33.0497 </td>\n",
              "        </tr>\n",
              "        <tr>\n",
              "            <td>2010</td> <td>female</td> <td>25-34 years</td> <td>25.8762 </td>\n",
              "        </tr>\n",
              "        <tr>\n",
              "            <td>2010</td> <td>female</td> <td>35-54 years</td> <td>20.7459 </td>\n",
              "        </tr>\n",
              "        <tr>\n",
              "            <td>2010</td> <td>male  </td> <td>15-24 years</td> <td>14.0469 </td>\n",
              "        </tr>\n",
              "        <tr>\n",
              "            <td>2010</td> <td>female</td> <td>15-24 years</td> <td>11.8567 </td>\n",
              "        </tr>\n",
              "        <tr>\n",
              "            <td>2010</td> <td>female</td> <td>5-14 years </td> <td>1.21722 </td>\n",
              "        </tr>\n",
              "        <tr>\n",
              "            <td>2010</td> <td>male  </td> <td>5-14 years </td> <td>0.883877</td>\n",
              "        </tr>\n",
              "    </tbody>\n",
              "</table>"
            ]
          },
          "metadata": {},
          "execution_count": 17
        }
      ]
    },
    {
      "cell_type": "code",
      "source": [
        "per2009"
      ],
      "metadata": {
        "colab": {
          "base_uri": "https://localhost:8080/",
          "height": 300
        },
        "id": "BY4SCGRoUriK",
        "outputId": "1d546af7-4396-404c-d59e-10b02eb37e8c"
      },
      "execution_count": null,
      "outputs": [
        {
          "output_type": "execute_result",
          "data": {
            "text/plain": [
              "year | sex    | age         | per(%)\n",
              "2009 | male   | 35-54 years | 46.9533\n",
              "2009 | male   | 25-34 years | 31.3249\n",
              "2009 | female | 25-34 years | 29.1608\n",
              "2009 | female | 35-54 years | 21.3163\n",
              "2009 | male   | 15-24 years | 15.8084\n",
              "2009 | female | 15-24 years | 14.7414\n",
              "2009 | female | 5-14 years  | 1.44427\n",
              "2009 | male   | 5-14 years  | 1.21905"
            ],
            "text/html": [
              "<table border=\"1\" class=\"dataframe\">\n",
              "    <thead>\n",
              "        <tr>\n",
              "            <th>year</th> <th>sex</th> <th>age</th> <th>per(%)</th>\n",
              "        </tr>\n",
              "    </thead>\n",
              "    <tbody>\n",
              "        <tr>\n",
              "            <td>2009</td> <td>male  </td> <td>35-54 years</td> <td>46.9533</td>\n",
              "        </tr>\n",
              "        <tr>\n",
              "            <td>2009</td> <td>male  </td> <td>25-34 years</td> <td>31.3249</td>\n",
              "        </tr>\n",
              "        <tr>\n",
              "            <td>2009</td> <td>female</td> <td>25-34 years</td> <td>29.1608</td>\n",
              "        </tr>\n",
              "        <tr>\n",
              "            <td>2009</td> <td>female</td> <td>35-54 years</td> <td>21.3163</td>\n",
              "        </tr>\n",
              "        <tr>\n",
              "            <td>2009</td> <td>male  </td> <td>15-24 years</td> <td>15.8084</td>\n",
              "        </tr>\n",
              "        <tr>\n",
              "            <td>2009</td> <td>female</td> <td>15-24 years</td> <td>14.7414</td>\n",
              "        </tr>\n",
              "        <tr>\n",
              "            <td>2009</td> <td>female</td> <td>5-14 years </td> <td>1.44427</td>\n",
              "        </tr>\n",
              "        <tr>\n",
              "            <td>2009</td> <td>male  </td> <td>5-14 years </td> <td>1.21905</td>\n",
              "        </tr>\n",
              "    </tbody>\n",
              "</table>"
            ]
          },
          "metadata": {},
          "execution_count": 18
        }
      ]
    },
    {
      "cell_type": "markdown",
      "source": [
        "# Sub 1 한국 이외의 국가와 IMF\n",
        "\n",
        "> IMF는 아시아 동시에 나타남   \n",
        "> 일본과 중국, 태국까지만 같이 알아보겠음"
      ],
      "metadata": {
        "id": "z5Qhc4qmitmP"
      }
    },
    {
      "cell_type": "code",
      "source": [
        "korea = tmp.where('country', 'Republic of Korea')"
      ],
      "metadata": {
        "id": "tZhm8_5sixvh"
      },
      "execution_count": null,
      "outputs": []
    },
    {
      "cell_type": "code",
      "source": [
        "japan = tmp.where('country', 'Japan')\n",
        "usa = tmp.where('country', 'United States of America')\n",
        "thailand = tmp.where('country', 'Thailand')"
      ],
      "metadata": {
        "id": "yVIevI9skm4o"
      },
      "execution_count": null,
      "outputs": []
    },
    {
      "cell_type": "code",
      "source": [
        "japan['population']/=1000\n",
        "usa['population']/=1000\n",
        "thailand['population']/=1000\n",
        "japan.relabeled('population', 'population(unit : 1000)')\n",
        "usa.relabeled('population', 'population(unit : 1000)')\n",
        "thailand.relabeled('population', 'population(unit : 1000)')"
      ],
      "metadata": {
        "colab": {
          "base_uri": "https://localhost:8080/",
          "height": 392
        },
        "id": "SnR1AiyukpIu",
        "outputId": "99e6e3cb-08d7-4ad1-e516-c5b7faef12ee"
      },
      "execution_count": null,
      "outputs": [
        {
          "output_type": "execute_result",
          "data": {
            "text/plain": [
              "country  | year | sex    | age         | suicides_no | population(unit : 1000)\n",
              "Thailand | 1990 | female | 15-24 years | 511         | 5917.57\n",
              "Thailand | 1990 | female | 25-34 years | 339         | 4920.57\n",
              "Thailand | 1990 | female | 35-54 years | 290         | 6146.48\n",
              "Thailand | 1990 | female | 5-14 years  | 43          | 5772.12\n",
              "Thailand | 1990 | male   | 15-24 years | 753         | 6077.08\n",
              "Thailand | 1990 | male   | 25-34 years | 622         | 4749.65\n",
              "Thailand | 1990 | male   | 35-54 years | 665         | 5708.26\n",
              "Thailand | 1990 | male   | 5-14 years  | 51          | 5967.62\n",
              "Thailand | 1991 | female | 15-24 years | 460         | 5931.43\n",
              "Thailand | 1991 | female | 25-34 years | 277         | 4997.93\n",
              "... (190 rows omitted)"
            ],
            "text/html": [
              "<table border=\"1\" class=\"dataframe\">\n",
              "    <thead>\n",
              "        <tr>\n",
              "            <th>country</th> <th>year</th> <th>sex</th> <th>age</th> <th>suicides_no</th> <th>population(unit : 1000)</th>\n",
              "        </tr>\n",
              "    </thead>\n",
              "    <tbody>\n",
              "        <tr>\n",
              "            <td>Thailand</td> <td>1990</td> <td>female</td> <td>15-24 years</td> <td>511        </td> <td>5917.57                </td>\n",
              "        </tr>\n",
              "        <tr>\n",
              "            <td>Thailand</td> <td>1990</td> <td>female</td> <td>25-34 years</td> <td>339        </td> <td>4920.57                </td>\n",
              "        </tr>\n",
              "        <tr>\n",
              "            <td>Thailand</td> <td>1990</td> <td>female</td> <td>35-54 years</td> <td>290        </td> <td>6146.48                </td>\n",
              "        </tr>\n",
              "        <tr>\n",
              "            <td>Thailand</td> <td>1990</td> <td>female</td> <td>5-14 years </td> <td>43         </td> <td>5772.12                </td>\n",
              "        </tr>\n",
              "        <tr>\n",
              "            <td>Thailand</td> <td>1990</td> <td>male  </td> <td>15-24 years</td> <td>753        </td> <td>6077.08                </td>\n",
              "        </tr>\n",
              "        <tr>\n",
              "            <td>Thailand</td> <td>1990</td> <td>male  </td> <td>25-34 years</td> <td>622        </td> <td>4749.65                </td>\n",
              "        </tr>\n",
              "        <tr>\n",
              "            <td>Thailand</td> <td>1990</td> <td>male  </td> <td>35-54 years</td> <td>665        </td> <td>5708.26                </td>\n",
              "        </tr>\n",
              "        <tr>\n",
              "            <td>Thailand</td> <td>1990</td> <td>male  </td> <td>5-14 years </td> <td>51         </td> <td>5967.62                </td>\n",
              "        </tr>\n",
              "        <tr>\n",
              "            <td>Thailand</td> <td>1991</td> <td>female</td> <td>15-24 years</td> <td>460        </td> <td>5931.43                </td>\n",
              "        </tr>\n",
              "        <tr>\n",
              "            <td>Thailand</td> <td>1991</td> <td>female</td> <td>25-34 years</td> <td>277        </td> <td>4997.93                </td>\n",
              "        </tr>\n",
              "    </tbody>\n",
              "</table>\n",
              "<p>... (190 rows omitted)</p>"
            ]
          },
          "metadata": {},
          "execution_count": 21
        }
      ]
    },
    {
      "cell_type": "code",
      "source": [
        "# 연도별로 성별, 연령 분류 없이 Table 하나 생성\n",
        "japan_total = japan.group('year', sum).select(0,4,5)\n",
        "usa_total = usa.group('year', sum).select(0,4,5)\n",
        "thailand_total = thailand.group('year', sum).select(0,4,5)\n"
      ],
      "metadata": {
        "id": "RO5dVa_Fljb8"
      },
      "execution_count": null,
      "outputs": []
    },
    {
      "cell_type": "code",
      "source": [
        "# 연도별 자살률 분석을 위해 자살률 Table에 추가\n",
        "japan_per = japan_total.with_column('suicide per', (japan_total.column(1)/japan_total.column(2))*100)\n",
        "usa_per = usa_total.with_column('suicide per', (usa_total.column(1)/usa_total.column(2))*100)\n",
        "thailand_per = thailand_total.with_column('suicide per', (thailand_total.column(1)/thailand_total.column(2))*100)"
      ],
      "metadata": {
        "id": "FsVzPJXqmkAe"
      },
      "execution_count": null,
      "outputs": []
    },
    {
      "cell_type": "code",
      "source": [
        "# 한국 자살률표\n",
        "korea_graph=korea_per.select(0,3)\n",
        "korea_graph.scatter('year', 'suicide per')"
      ],
      "metadata": {
        "colab": {
          "base_uri": "https://localhost:8080/",
          "height": 335
        },
        "id": "5Ck6zKvUnHmJ",
        "outputId": "b0cb37d0-6760-4c90-a985-10b9eb8e761d"
      },
      "execution_count": null,
      "outputs": [
        {
          "output_type": "display_data",
          "data": {
            "text/plain": [
              "<Figure size 360x360 with 1 Axes>"
            ],
            "image/png": "[encoded data removed]"
          },
          "metadata": {
            "needs_background": "light"
          }
        }
      ]
    },
    {
      "cell_type": "code",
      "source": [
        "# 일본 자살률표\n",
        "japan_graph=japan_per.select(0,3)\n",
        "japan_graph.scatter('year', 'suicide per')"
      ],
      "metadata": {
        "colab": {
          "base_uri": "https://localhost:8080/",
          "height": 336
        },
        "id": "8lnmgKeqm2wH",
        "outputId": "94f19b02-6998-435b-9fb2-408a1f9d08a5"
      },
      "execution_count": null,
      "outputs": [
        {
          "output_type": "display_data",
          "data": {
            "text/plain": [
              "<Figure size 360x360 with 1 Axes>"
            ],
            "image/png": "[encoded data removed]"
          },
          "metadata": {
            "needs_background": "light"
          }
        }
      ]
    },
    {
      "cell_type": "code",
      "source": [
        "# 태국 자살률표\n",
        "thailand_graph=thailand_per.select(0,3)\n",
        "thailand_graph.scatter('year', 'suicide per')"
      ],
      "metadata": {
        "colab": {
          "base_uri": "https://localhost:8080/",
          "height": 335
        },
        "id": "VW4HoTgknMX6",
        "outputId": "eaf646ed-cd38-4e93-b728-fc14368c4a7e"
      },
      "execution_count": null,
      "outputs": [
        {
          "output_type": "display_data",
          "data": {
            "text/plain": [
              "<Figure size 360x360 with 1 Axes>"
            ],
            "image/png": "[encoded data removed]"
          },
          "metadata": {
            "needs_background": "light"
          }
        }
      ]
    },
    {
      "cell_type": "code",
      "source": [
        "usa_graph=usa_per.select(0,3)\n",
        "usa_graph.scatter('year', 'suicide per')"
      ],
      "metadata": {
        "colab": {
          "base_uri": "https://localhost:8080/",
          "height": 335
        },
        "id": "q3WUlyVmqix3",
        "outputId": "f9af22e3-5d79-4362-d717-0658d6037833"
      },
      "execution_count": null,
      "outputs": [
        {
          "output_type": "display_data",
          "data": {
            "text/plain": [
              "<Figure size 360x360 with 1 Axes>"
            ],
            "image/png": "[encoded data removed]"
          },
          "metadata": {
            "needs_background": "light"
          }
        }
      ]
    },
    {
      "cell_type": "code",
      "source": [
        "# plt.plot(kospi['년도'], kospi['코스피지수'],label='kospi')\n",
        "# plt.plot(kospi['년도'], kospi['코스닥지수'],label='kosdaq')\n",
        "# plt.plot(korea_25_34['year'], korea_25_34['per'], label = '25-34 years')\n",
        "# plt.plot(korea_35_54['year'], korea_35_54['per'], label = '35-54 years')\n",
        "# plt.legend()\n",
        "# ax.text(1997,0.027,'IMF')"
      ],
      "metadata": {
        "id": "4s7mHwXSrQvk"
      },
      "execution_count": null,
      "outputs": []
    },
    {
      "cell_type": "code",
      "source": [
        "plt.plot(japan_graph['year'], japan_graph['suicide per'], label='japan')\n",
        "plt.plot(korea_graph['year'], korea_graph['suicide per'], label='korea')\n",
        "plt.plot(thailand_graph['year'], thailand_graph['suicide per'], label='thailand')\n",
        "plt.plot(usa_graph['year'], usa_graph['suicide per'], label='usa')\n",
        "plt.legend()\n",
        "plt.plot([1997 for _ in range(100)], np.arange(4, 25.5, 0.215), color='black', linewidth=1)\n",
        "plt.plot([1998 for _ in range(100)], np.arange(4, 25.5, 0.215), color='black', linewidth=1)"
      ],
      "metadata": {
        "colab": {
          "base_uri": "https://localhost:8080/",
          "height": 280
        },
        "id": "FnX922kijEah",
        "outputId": "e0465636-2c33-44df-ce10-8ea51cf8afa8"
      },
      "execution_count": null,
      "outputs": [
        {
          "output_type": "execute_result",
          "data": {
            "text/plain": [
              "[<matplotlib.lines.Line2D at 0x7fc0336debd0>]"
            ]
          },
          "metadata": {},
          "execution_count": 38
        },
        {
          "output_type": "display_data",
          "data": {
            "text/plain": [
              "<Figure size 432x288 with 1 Axes>"
            ],
            "image/png": "[encoded data removed]"
          },
          "metadata": {
            "needs_background": "light"
          }
        }
      ]
    },
    {
      "cell_type": "code",
      "source": [
        ""
      ],
      "metadata": {
        "id": "oxjAh-rbkF0s"
      },
      "execution_count": null,
      "outputs": []
    }
  ],
  "metadata": {
    "interpreter": {
      "hash": "23d75174b31ca4fcf71687e5660e0534c2f456560373f0bf6ae035518c9290e4"
    },
    "kernelspec": {
      "display_name": "Python 3.10.2 64-bit",
      "language": "python",
      "name": "python3"
    },
    "language_info": {
      "codemirror_mode": {
        "name": "ipython",
        "version": 3
      },
      "file_extension": ".py",
      "mimetype": "text/x-python",
      "name": "python",
      "nbconvert_exporter": "python",
      "pygments_lexer": "ipython3",
      "version": "3.10.2"
    },
    "orig_nbformat": 4,
    "colab": {
      "name": "신우빈.ipynb",
      "provenance": [],
      "collapsed_sections": [
        "6mBgYBz_SXao"
      ]
    }
  },
  "nbformat": 4,
  "nbformat_minor": 0
}