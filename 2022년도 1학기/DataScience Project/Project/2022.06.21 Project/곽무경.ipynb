{
 "cells": [
  {
   "cell_type": "code",
   "execution_count": 53,
   "metadata": {},
   "outputs": [],
   "source": [
    "from datascience import *\n",
    "import numpy as np\n",
    "import matplotlib as mpl\n",
    "import matplotlib.pyplot as plt\n",
    "import pandas as pd\n",
    "plt.style.use('fivethirtyeight')\n",
    "fpath = \"A:\\\\Git\\\\School\\\\DataScience\\\\Project\\\\Suicid\\\\archive\\\\who_suicide_statistics.csv\""
   ]
  },
  {
   "cell_type": "code",
   "execution_count": 2,
   "metadata": {},
   "outputs": [
    {
     "data": {
      "text/html": [
       "<table border=\"1\" class=\"dataframe\">\n",
       "    <thead>\n",
       "        <tr>\n",
       "            <th>country</th> <th>year</th> <th>sex</th> <th>age</th> <th>suicides_no</th> <th>population</th>\n",
       "        </tr>\n",
       "    </thead>\n",
       "    <tbody>\n",
       "        <tr>\n",
       "            <td>Albania</td> <td>1985</td> <td>female</td> <td>15-24 years</td> <td>nan        </td> <td>277900    </td>\n",
       "        </tr>\n",
       "        <tr>\n",
       "            <td>Albania</td> <td>1985</td> <td>female</td> <td>25-34 years</td> <td>nan        </td> <td>246800    </td>\n",
       "        </tr>\n",
       "        <tr>\n",
       "            <td>Albania</td> <td>1985</td> <td>female</td> <td>35-54 years</td> <td>nan        </td> <td>267500    </td>\n",
       "        </tr>\n",
       "        <tr>\n",
       "            <td>Albania</td> <td>1985</td> <td>female</td> <td>5-14 years </td> <td>nan        </td> <td>298300    </td>\n",
       "        </tr>\n",
       "        <tr>\n",
       "            <td>Albania</td> <td>1985</td> <td>female</td> <td>55-74 years</td> <td>nan        </td> <td>138700    </td>\n",
       "        </tr>\n",
       "        <tr>\n",
       "            <td>Albania</td> <td>1985</td> <td>female</td> <td>75+ years  </td> <td>nan        </td> <td>34200     </td>\n",
       "        </tr>\n",
       "        <tr>\n",
       "            <td>Albania</td> <td>1985</td> <td>male  </td> <td>15-24 years</td> <td>nan        </td> <td>301400    </td>\n",
       "        </tr>\n",
       "        <tr>\n",
       "            <td>Albania</td> <td>1985</td> <td>male  </td> <td>25-34 years</td> <td>nan        </td> <td>264200    </td>\n",
       "        </tr>\n",
       "        <tr>\n",
       "            <td>Albania</td> <td>1985</td> <td>male  </td> <td>35-54 years</td> <td>nan        </td> <td>296700    </td>\n",
       "        </tr>\n",
       "        <tr>\n",
       "            <td>Albania</td> <td>1985</td> <td>male  </td> <td>5-14 years </td> <td>nan        </td> <td>325800    </td>\n",
       "        </tr>\n",
       "    </tbody>\n",
       "</table>\n",
       "<p>... (43766 rows omitted)</p>"
      ],
      "text/plain": [
       "country | year | sex    | age         | suicides_no | population\n",
       "Albania | 1985 | female | 15-24 years | nan         | 277900\n",
       "Albania | 1985 | female | 25-34 years | nan         | 246800\n",
       "Albania | 1985 | female | 35-54 years | nan         | 267500\n",
       "Albania | 1985 | female | 5-14 years  | nan         | 298300\n",
       "Albania | 1985 | female | 55-74 years | nan         | 138700\n",
       "Albania | 1985 | female | 75+ years   | nan         | 34200\n",
       "Albania | 1985 | male   | 15-24 years | nan         | 301400\n",
       "Albania | 1985 | male   | 25-34 years | nan         | 264200\n",
       "Albania | 1985 | male   | 35-54 years | nan         | 296700\n",
       "Albania | 1985 | male   | 5-14 years  | nan         | 325800\n",
       "... (43766 rows omitted)"
      ]
     },
     "execution_count": 2,
     "metadata": {},
     "output_type": "execute_result"
    }
   ],
   "source": [
    "test = Table.read_table(fpath)\n",
    "test"
   ]
  },
  {
   "cell_type": "code",
   "execution_count": 3,
   "metadata": {},
   "outputs": [
    {
     "data": {
      "text/html": [
       "<table border=\"1\" class=\"dataframe\">\n",
       "    <thead>\n",
       "        <tr>\n",
       "            <th>country</th> <th>year</th> <th>sex</th> <th>age</th> <th>suicides_no</th> <th>population</th>\n",
       "        </tr>\n",
       "    </thead>\n",
       "    <tbody>\n",
       "        <tr>\n",
       "            <td>Albania</td> <td>1990</td> <td>female</td> <td>15-24 years</td> <td>nan        </td> <td>305900    </td>\n",
       "        </tr>\n",
       "        <tr>\n",
       "            <td>Albania</td> <td>1990</td> <td>female</td> <td>25-34 years</td> <td>nan        </td> <td>278000    </td>\n",
       "        </tr>\n",
       "        <tr>\n",
       "            <td>Albania</td> <td>1990</td> <td>female</td> <td>35-54 years</td> <td>nan        </td> <td>308300    </td>\n",
       "        </tr>\n",
       "        <tr>\n",
       "            <td>Albania</td> <td>1990</td> <td>female</td> <td>5-14 years </td> <td>nan        </td> <td>329600    </td>\n",
       "        </tr>\n",
       "        <tr>\n",
       "            <td>Albania</td> <td>1990</td> <td>female</td> <td>55-74 years</td> <td>nan        </td> <td>156400    </td>\n",
       "        </tr>\n",
       "        <tr>\n",
       "            <td>Albania</td> <td>1990</td> <td>female</td> <td>75+ years  </td> <td>nan        </td> <td>37600     </td>\n",
       "        </tr>\n",
       "        <tr>\n",
       "            <td>Albania</td> <td>1990</td> <td>male  </td> <td>15-24 years</td> <td>nan        </td> <td>325600    </td>\n",
       "        </tr>\n",
       "        <tr>\n",
       "            <td>Albania</td> <td>1990</td> <td>male  </td> <td>25-34 years</td> <td>nan        </td> <td>295100    </td>\n",
       "        </tr>\n",
       "        <tr>\n",
       "            <td>Albania</td> <td>1990</td> <td>male  </td> <td>35-54 years</td> <td>nan        </td> <td>337700    </td>\n",
       "        </tr>\n",
       "        <tr>\n",
       "            <td>Albania</td> <td>1990</td> <td>male  </td> <td>5-14 years </td> <td>nan        </td> <td>355600    </td>\n",
       "        </tr>\n",
       "    </tbody>\n",
       "</table>\n",
       "<p>... (33170 rows omitted)</p>"
      ],
      "text/plain": [
       "country | year | sex    | age         | suicides_no | population\n",
       "Albania | 1990 | female | 15-24 years | nan         | 305900\n",
       "Albania | 1990 | female | 25-34 years | nan         | 278000\n",
       "Albania | 1990 | female | 35-54 years | nan         | 308300\n",
       "Albania | 1990 | female | 5-14 years  | nan         | 329600\n",
       "Albania | 1990 | female | 55-74 years | nan         | 156400\n",
       "Albania | 1990 | female | 75+ years   | nan         | 37600\n",
       "Albania | 1990 | male   | 15-24 years | nan         | 325600\n",
       "Albania | 1990 | male   | 25-34 years | nan         | 295100\n",
       "Albania | 1990 | male   | 35-54 years | nan         | 337700\n",
       "Albania | 1990 | male   | 5-14 years  | nan         | 355600\n",
       "... (33170 rows omitted)"
      ]
     },
     "execution_count": 3,
     "metadata": {},
     "output_type": "execute_result"
    }
   ],
   "source": [
    "# 1990년도부터\n",
    "test=test.where('year', are.above_or_equal_to(1990))\n",
    "test"
   ]
  },
  {
   "cell_type": "code",
   "execution_count": 3,
   "metadata": {},
   "outputs": [
    {
     "data": {
      "text/html": [
       "<table border=\"1\" class=\"dataframe\">\n",
       "    <thead>\n",
       "        <tr>\n",
       "            <th>country</th> <th>year</th> <th>sex</th> <th>age</th> <th>suicides_no</th> <th>population</th>\n",
       "        </tr>\n",
       "    </thead>\n",
       "    <tbody>\n",
       "        <tr>\n",
       "            <td>Albania</td> <td>1987</td> <td>female</td> <td>15-24 years</td> <td>14         </td> <td>289700    </td>\n",
       "        </tr>\n",
       "        <tr>\n",
       "            <td>Albania</td> <td>1987</td> <td>female</td> <td>25-34 years</td> <td>4          </td> <td>257200    </td>\n",
       "        </tr>\n",
       "        <tr>\n",
       "            <td>Albania</td> <td>1987</td> <td>female</td> <td>35-54 years</td> <td>6          </td> <td>278800    </td>\n",
       "        </tr>\n",
       "        <tr>\n",
       "            <td>Albania</td> <td>1987</td> <td>female</td> <td>5-14 years </td> <td>0          </td> <td>311000    </td>\n",
       "        </tr>\n",
       "        <tr>\n",
       "            <td>Albania</td> <td>1987</td> <td>female</td> <td>55-74 years</td> <td>0          </td> <td>144600    </td>\n",
       "        </tr>\n",
       "        <tr>\n",
       "            <td>Albania</td> <td>1987</td> <td>female</td> <td>75+ years  </td> <td>1          </td> <td>35600     </td>\n",
       "        </tr>\n",
       "        <tr>\n",
       "            <td>Albania</td> <td>1987</td> <td>male  </td> <td>15-24 years</td> <td>21         </td> <td>312900    </td>\n",
       "        </tr>\n",
       "        <tr>\n",
       "            <td>Albania</td> <td>1987</td> <td>male  </td> <td>25-34 years</td> <td>9          </td> <td>274300    </td>\n",
       "        </tr>\n",
       "        <tr>\n",
       "            <td>Albania</td> <td>1987</td> <td>male  </td> <td>35-54 years</td> <td>16         </td> <td>308000    </td>\n",
       "        </tr>\n",
       "        <tr>\n",
       "            <td>Albania</td> <td>1987</td> <td>male  </td> <td>5-14 years </td> <td>0          </td> <td>338200    </td>\n",
       "        </tr>\n",
       "    </tbody>\n",
       "</table>\n",
       "<p>... (36050 rows omitted)</p>"
      ],
      "text/plain": [
       "country | year | sex    | age         | suicides_no | population\n",
       "Albania | 1987 | female | 15-24 years | 14          | 289700\n",
       "Albania | 1987 | female | 25-34 years | 4           | 257200\n",
       "Albania | 1987 | female | 35-54 years | 6           | 278800\n",
       "Albania | 1987 | female | 5-14 years  | 0           | 311000\n",
       "Albania | 1987 | female | 55-74 years | 0           | 144600\n",
       "Albania | 1987 | female | 75+ years   | 1           | 35600\n",
       "Albania | 1987 | male   | 15-24 years | 21          | 312900\n",
       "Albania | 1987 | male   | 25-34 years | 9           | 274300\n",
       "Albania | 1987 | male   | 35-54 years | 16          | 308000\n",
       "Albania | 1987 | male   | 5-14 years  | 0           | 338200\n",
       "... (36050 rows omitted)"
      ]
     },
     "execution_count": 3,
     "metadata": {},
     "output_type": "execute_result"
    }
   ],
   "source": [
    "# nan 제거\n",
    "test=test.where('suicides_no', are.above_or_equal_to(0))\n",
    "test=test.where('population', are.above_or_equal_to(0))\n",
    "test"
   ]
  },
  {
   "cell_type": "code",
   "execution_count": 5,
   "metadata": {},
   "outputs": [
    {
     "data": {
      "text/html": [
       "<table border=\"1\" class=\"dataframe\">\n",
       "    <thead>\n",
       "        <tr>\n",
       "            <th>country</th> <th>year</th> <th>sex</th> <th>age</th> <th>suicides_no</th> <th>population</th>\n",
       "        </tr>\n",
       "    </thead>\n",
       "    <tbody>\n",
       "        <tr>\n",
       "            <td>Albania</td> <td>1992</td> <td>female</td> <td>15-24 years</td> <td>7          </td> <td>292400    </td>\n",
       "        </tr>\n",
       "        <tr>\n",
       "            <td>Albania</td> <td>1992</td> <td>female</td> <td>25-34 years</td> <td>4          </td> <td>267400    </td>\n",
       "        </tr>\n",
       "        <tr>\n",
       "            <td>Albania</td> <td>1992</td> <td>female</td> <td>35-54 years</td> <td>2          </td> <td>323100    </td>\n",
       "        </tr>\n",
       "        <tr>\n",
       "            <td>Albania</td> <td>1992</td> <td>female</td> <td>5-14 years </td> <td>0          </td> <td>336700    </td>\n",
       "        </tr>\n",
       "        <tr>\n",
       "            <td>Albania</td> <td>1992</td> <td>female</td> <td>55-74 years</td> <td>1          </td> <td>164900    </td>\n",
       "        </tr>\n",
       "        <tr>\n",
       "            <td>Albania</td> <td>1992</td> <td>female</td> <td>75+ years  </td> <td>0          </td> <td>38700     </td>\n",
       "        </tr>\n",
       "        <tr>\n",
       "            <td>Albania</td> <td>1992</td> <td>male  </td> <td>15-24 years</td> <td>9          </td> <td>263700    </td>\n",
       "        </tr>\n",
       "        <tr>\n",
       "            <td>Albania</td> <td>1992</td> <td>male  </td> <td>25-34 years</td> <td>7          </td> <td>245500    </td>\n",
       "        </tr>\n",
       "        <tr>\n",
       "            <td>Albania</td> <td>1992</td> <td>male  </td> <td>35-54 years</td> <td>12         </td> <td>343800    </td>\n",
       "        </tr>\n",
       "        <tr>\n",
       "            <td>Albania</td> <td>1992</td> <td>male  </td> <td>5-14 years </td> <td>0          </td> <td>362900    </td>\n",
       "        </tr>\n",
       "    </tbody>\n",
       "</table>\n",
       "<p>... (28010 rows omitted)</p>"
      ],
      "text/plain": [
       "country | year | sex    | age         | suicides_no | population\n",
       "Albania | 1992 | female | 15-24 years | 7           | 292400\n",
       "Albania | 1992 | female | 25-34 years | 4           | 267400\n",
       "Albania | 1992 | female | 35-54 years | 2           | 323100\n",
       "Albania | 1992 | female | 5-14 years  | 0           | 336700\n",
       "Albania | 1992 | female | 55-74 years | 1           | 164900\n",
       "Albania | 1992 | female | 75+ years   | 0           | 38700\n",
       "Albania | 1992 | male   | 15-24 years | 9           | 263700\n",
       "Albania | 1992 | male   | 25-34 years | 7           | 245500\n",
       "Albania | 1992 | male   | 35-54 years | 12          | 343800\n",
       "Albania | 1992 | male   | 5-14 years  | 0           | 362900\n",
       "... (28010 rows omitted)"
      ]
     },
     "execution_count": 5,
     "metadata": {},
     "output_type": "execute_result"
    }
   ],
   "source": [
    "test"
   ]
  },
  {
   "cell_type": "code",
   "execution_count": 4,
   "metadata": {},
   "outputs": [],
   "source": [
    "# 전체 데이터에서 자살 비율 상위 5개 국가\n",
    "suicide_sum=test.group(['country', 'year', 'age'], np.sum).select(4,5)\n",
    "test_nosex=test.group(['country', 'year', 'age'], np.sum).drop('sex sum')"
   ]
  },
  {
   "cell_type": "code",
   "execution_count": 6,
   "metadata": {},
   "outputs": [
    {
     "data": {
      "text/html": [
       "<table border=\"1\" class=\"dataframe\">\n",
       "    <thead>\n",
       "        <tr>\n",
       "            <th>country</th> <th>year</th> <th>age</th> <th>suicides_no sum</th> <th>population sum</th>\n",
       "        </tr>\n",
       "    </thead>\n",
       "    <tbody>\n",
       "        <tr>\n",
       "            <td>Albania</td> <td>1992</td> <td>15-24 years</td> <td>16             </td> <td>556100        </td>\n",
       "        </tr>\n",
       "        <tr>\n",
       "            <td>Albania</td> <td>1992</td> <td>25-34 years</td> <td>11             </td> <td>512900        </td>\n",
       "        </tr>\n",
       "        <tr>\n",
       "            <td>Albania</td> <td>1992</td> <td>35-54 years</td> <td>14             </td> <td>666900        </td>\n",
       "        </tr>\n",
       "        <tr>\n",
       "            <td>Albania</td> <td>1992</td> <td>5-14 years </td> <td>0              </td> <td>699600        </td>\n",
       "        </tr>\n",
       "        <tr>\n",
       "            <td>Albania</td> <td>1992</td> <td>55-74 years</td> <td>6              </td> <td>324400        </td>\n",
       "        </tr>\n",
       "        <tr>\n",
       "            <td>Albania</td> <td>1992</td> <td>75+ years  </td> <td>0              </td> <td>62600         </td>\n",
       "        </tr>\n",
       "        <tr>\n",
       "            <td>Albania</td> <td>1993</td> <td>15-24 years</td> <td>28             </td> <td>528600        </td>\n",
       "        </tr>\n",
       "        <tr>\n",
       "            <td>Albania</td> <td>1993</td> <td>25-34 years</td> <td>16             </td> <td>491900        </td>\n",
       "        </tr>\n",
       "        <tr>\n",
       "            <td>Albania</td> <td>1993</td> <td>35-54 years</td> <td>17             </td> <td>681500        </td>\n",
       "        </tr>\n",
       "        <tr>\n",
       "            <td>Albania</td> <td>1993</td> <td>5-14 years </td> <td>2              </td> <td>707300        </td>\n",
       "        </tr>\n",
       "    </tbody>\n",
       "</table>\n",
       "<p>... (14000 rows omitted)</p>"
      ],
      "text/plain": [
       "country | year | age         | suicides_no sum | population sum\n",
       "Albania | 1992 | 15-24 years | 16              | 556100\n",
       "Albania | 1992 | 25-34 years | 11              | 512900\n",
       "Albania | 1992 | 35-54 years | 14              | 666900\n",
       "Albania | 1992 | 5-14 years  | 0               | 699600\n",
       "Albania | 1992 | 55-74 years | 6               | 324400\n",
       "Albania | 1992 | 75+ years   | 0               | 62600\n",
       "Albania | 1993 | 15-24 years | 28              | 528600\n",
       "Albania | 1993 | 25-34 years | 16              | 491900\n",
       "Albania | 1993 | 35-54 years | 17              | 681500\n",
       "Albania | 1993 | 5-14 years  | 2               | 707300\n",
       "... (14000 rows omitted)"
      ]
     },
     "execution_count": 6,
     "metadata": {},
     "output_type": "execute_result"
    }
   ],
   "source": [
    "test_nosex"
   ]
  },
  {
   "cell_type": "code",
   "execution_count": 5,
   "metadata": {},
   "outputs": [
    {
     "data": {
      "text/html": [
       "<table border=\"1\" class=\"dataframe\">\n",
       "    <thead>\n",
       "        <tr>\n",
       "            <th>country</th> <th>year</th> <th>age</th> <th>suicides no</th> <th>population</th>\n",
       "        </tr>\n",
       "    </thead>\n",
       "    <tbody>\n",
       "        <tr>\n",
       "            <td>Albania</td> <td>1987</td> <td>15-24 years</td> <td>35         </td> <td>602600    </td>\n",
       "        </tr>\n",
       "        <tr>\n",
       "            <td>Albania</td> <td>1987</td> <td>25-34 years</td> <td>13         </td> <td>531500    </td>\n",
       "        </tr>\n",
       "        <tr>\n",
       "            <td>Albania</td> <td>1987</td> <td>35-54 years</td> <td>22         </td> <td>586800    </td>\n",
       "        </tr>\n",
       "        <tr>\n",
       "            <td>Albania</td> <td>1987</td> <td>5-14 years </td> <td>0          </td> <td>649200    </td>\n",
       "        </tr>\n",
       "        <tr>\n",
       "            <td>Albania</td> <td>1987</td> <td>55-74 years</td> <td>1          </td> <td>282100    </td>\n",
       "        </tr>\n",
       "        <tr>\n",
       "            <td>Albania</td> <td>1987</td> <td>75+ years  </td> <td>2          </td> <td>57400     </td>\n",
       "        </tr>\n",
       "        <tr>\n",
       "            <td>Albania</td> <td>1988</td> <td>15-24 years</td> <td>25         </td> <td>614800    </td>\n",
       "        </tr>\n",
       "        <tr>\n",
       "            <td>Albania</td> <td>1988</td> <td>25-34 years</td> <td>10         </td> <td>542300    </td>\n",
       "        </tr>\n",
       "        <tr>\n",
       "            <td>Albania</td> <td>1988</td> <td>35-54 years</td> <td>18         </td> <td>598600    </td>\n",
       "        </tr>\n",
       "        <tr>\n",
       "            <td>Albania</td> <td>1988</td> <td>5-14 years </td> <td>0          </td> <td>662200    </td>\n",
       "        </tr>\n",
       "    </tbody>\n",
       "</table>\n",
       "<p>... (18020 rows omitted)</p>"
      ],
      "text/plain": [
       "country | year | age         | suicides no | population\n",
       "Albania | 1987 | 15-24 years | 35          | 602600\n",
       "Albania | 1987 | 25-34 years | 13          | 531500\n",
       "Albania | 1987 | 35-54 years | 22          | 586800\n",
       "Albania | 1987 | 5-14 years  | 0           | 649200\n",
       "Albania | 1987 | 55-74 years | 1           | 282100\n",
       "Albania | 1987 | 75+ years   | 2           | 57400\n",
       "Albania | 1988 | 15-24 years | 25          | 614800\n",
       "Albania | 1988 | 25-34 years | 10          | 542300\n",
       "Albania | 1988 | 35-54 years | 18          | 598600\n",
       "Albania | 1988 | 5-14 years  | 0           | 662200\n",
       "... (18020 rows omitted)"
      ]
     },
     "execution_count": 5,
     "metadata": {},
     "output_type": "execute_result"
    }
   ],
   "source": [
    "test_nosex=test_nosex.relabeled('population sum', 'population').relabeled('suicides_no sum', 'suicides no')\n",
    "test_nosex"
   ]
  },
  {
   "cell_type": "code",
   "execution_count": null,
   "metadata": {},
   "outputs": [],
   "source": [
    "test_nosex['population']/=1000"
   ]
  },
  {
   "cell_type": "code",
   "execution_count": 8,
   "metadata": {},
   "outputs": [
    {
     "data": {
      "text/html": [
       "<table border=\"1\" class=\"dataframe\">\n",
       "    <thead>\n",
       "        <tr>\n",
       "            <th>country</th> <th>year</th> <th>age</th> <th>suicides no</th> <th>population</th> <th>percentage</th>\n",
       "        </tr>\n",
       "    </thead>\n",
       "    <tbody>\n",
       "        <tr>\n",
       "            <td>Hungary      </td> <td>1981</td> <td>75+ years</td> <td>662        </td> <td>494600    </td> <td>0.133846  </td>\n",
       "        </tr>\n",
       "        <tr>\n",
       "            <td>Hungary      </td> <td>1980</td> <td>75+ years</td> <td>639        </td> <td>488000    </td> <td>0.130943  </td>\n",
       "        </tr>\n",
       "        <tr>\n",
       "            <td>Hungary      </td> <td>1979</td> <td>75+ years</td> <td>606        </td> <td>473600    </td> <td>0.127956  </td>\n",
       "        </tr>\n",
       "        <tr>\n",
       "            <td>French Guiana</td> <td>1979</td> <td>75+ years</td> <td>1          </td> <td>800       </td> <td>0.125     </td>\n",
       "        </tr>\n",
       "        <tr>\n",
       "            <td>Hungary      </td> <td>1984</td> <td>75+ years</td> <td>656        </td> <td>526200    </td> <td>0.124667  </td>\n",
       "        </tr>\n",
       "        <tr>\n",
       "            <td>Hungary      </td> <td>1982</td> <td>75+ years</td> <td>620        </td> <td>504100    </td> <td>0.122991  </td>\n",
       "        </tr>\n",
       "        <tr>\n",
       "            <td>Aruba        </td> <td>2000</td> <td>75+ years</td> <td>3          </td> <td>2488      </td> <td>0.120579  </td>\n",
       "        </tr>\n",
       "        <tr>\n",
       "            <td>Hungary      </td> <td>1985</td> <td>75+ years</td> <td>646        </td> <td>539000    </td> <td>0.119852  </td>\n",
       "        </tr>\n",
       "        <tr>\n",
       "            <td>Hungary      </td> <td>1986</td> <td>75+ years</td> <td>653        </td> <td>550100    </td> <td>0.118706  </td>\n",
       "        </tr>\n",
       "        <tr>\n",
       "            <td>Hungary      </td> <td>1990</td> <td>75+ years</td> <td>668        </td> <td>569794    </td> <td>0.117235  </td>\n",
       "        </tr>\n",
       "    </tbody>\n",
       "</table>\n",
       "<p>... (18020 rows omitted)</p>"
      ],
      "text/plain": [
       "country       | year | age       | suicides no | population | percentage\n",
       "Hungary       | 1981 | 75+ years | 662         | 494600     | 0.133846\n",
       "Hungary       | 1980 | 75+ years | 639         | 488000     | 0.130943\n",
       "Hungary       | 1979 | 75+ years | 606         | 473600     | 0.127956\n",
       "French Guiana | 1979 | 75+ years | 1           | 800        | 0.125\n",
       "Hungary       | 1984 | 75+ years | 656         | 526200     | 0.124667\n",
       "Hungary       | 1982 | 75+ years | 620         | 504100     | 0.122991\n",
       "Aruba         | 2000 | 75+ years | 3           | 2488       | 0.120579\n",
       "Hungary       | 1985 | 75+ years | 646         | 539000     | 0.119852\n",
       "Hungary       | 1986 | 75+ years | 653         | 550100     | 0.118706\n",
       "Hungary       | 1990 | 75+ years | 668         | 569794     | 0.117235\n",
       "... (18020 rows omitted)"
      ]
     },
     "execution_count": 8,
     "metadata": {},
     "output_type": "execute_result"
    }
   ],
   "source": [
    "test_nosex.with_column('percentage', test_nosex['suicides no']/test_nosex['population']*100).sort('percentage', descending=True)"
   ]
  },
  {
   "cell_type": "code",
   "execution_count": 8,
   "metadata": {},
   "outputs": [
    {
     "data": {
      "text/html": [
       "<table border=\"1\" class=\"dataframe\">\n",
       "    <thead>\n",
       "        <tr>\n",
       "            <th>country</th> <th>year</th> <th>age</th> <th>suicides no</th> <th>population</th> <th>percentage</th>\n",
       "        </tr>\n",
       "    </thead>\n",
       "    <tbody>\n",
       "        <tr>\n",
       "            <td>Aruba            </td> <td>2000</td> <td>75+ years</td> <td>3          </td> <td>2.488e+06  </td> <td>0.000120579</td>\n",
       "        </tr>\n",
       "        <tr>\n",
       "            <td>Hungary          </td> <td>1990</td> <td>75+ years</td> <td>668        </td> <td>5.69794e+08</td> <td>0.000117235</td>\n",
       "        </tr>\n",
       "        <tr>\n",
       "            <td>San Marino       </td> <td>1997</td> <td>75+ years</td> <td>2          </td> <td>1.714e+06  </td> <td>0.000116686</td>\n",
       "        </tr>\n",
       "        <tr>\n",
       "            <td>Republic of Korea</td> <td>2009</td> <td>75+ years</td> <td>1926       </td> <td>1.7701e+09 </td> <td>0.000108808</td>\n",
       "        </tr>\n",
       "        <tr>\n",
       "            <td>Republic of Korea</td> <td>2010</td> <td>75+ years</td> <td>2066       </td> <td>1.90687e+09</td> <td>0.000108345</td>\n",
       "        </tr>\n",
       "        <tr>\n",
       "            <td>Republic of Korea</td> <td>2004</td> <td>75+ years</td> <td>1417       </td> <td>1.30877e+09</td> <td>0.00010827 </td>\n",
       "        </tr>\n",
       "        <tr>\n",
       "            <td>Hungary          </td> <td>1991</td> <td>75+ years</td> <td>596        </td> <td>5.51274e+08</td> <td>0.000108113</td>\n",
       "        </tr>\n",
       "        <tr>\n",
       "            <td>Republic of Korea</td> <td>2005</td> <td>75+ years</td> <td>1480       </td> <td>1.38524e+09</td> <td>0.00010684 </td>\n",
       "        </tr>\n",
       "        <tr>\n",
       "            <td>Republic of Korea</td> <td>2011</td> <td>75+ years</td> <td>2170       </td> <td>2.04917e+09</td> <td>0.000105896</td>\n",
       "        </tr>\n",
       "        <tr>\n",
       "            <td>Republic of Korea</td> <td>2007</td> <td>75+ years</td> <td>1603       </td> <td>1.55028e+09</td> <td>0.000103401</td>\n",
       "        </tr>\n",
       "    </tbody>\n",
       "</table>\n",
       "<p>... (14000 rows omitted)</p>"
      ],
      "text/plain": [
       "country           | year | age       | suicides no | population  | percentage\n",
       "Aruba             | 2000 | 75+ years | 3           | 2.488e+06   | 0.000120579\n",
       "Hungary           | 1990 | 75+ years | 668         | 5.69794e+08 | 0.000117235\n",
       "San Marino        | 1997 | 75+ years | 2           | 1.714e+06   | 0.000116686\n",
       "Republic of Korea | 2009 | 75+ years | 1926        | 1.7701e+09  | 0.000108808\n",
       "Republic of Korea | 2010 | 75+ years | 2066        | 1.90687e+09 | 0.000108345\n",
       "Republic of Korea | 2004 | 75+ years | 1417        | 1.30877e+09 | 0.00010827\n",
       "Hungary           | 1991 | 75+ years | 596         | 5.51274e+08 | 0.000108113\n",
       "Republic of Korea | 2005 | 75+ years | 1480        | 1.38524e+09 | 0.00010684\n",
       "Republic of Korea | 2011 | 75+ years | 2170        | 2.04917e+09 | 0.000105896\n",
       "Republic of Korea | 2007 | 75+ years | 1603        | 1.55028e+09 | 0.000103401\n",
       "... (14000 rows omitted)"
      ]
     },
     "execution_count": 8,
     "metadata": {},
     "output_type": "execute_result"
    }
   ],
   "source": [
    "test_nosex"
   ]
  },
  {
   "cell_type": "code",
   "execution_count": 9,
   "metadata": {},
   "outputs": [
    {
     "data": {
      "text/html": [
       "<table border=\"1\" class=\"dataframe\">\n",
       "    <thead>\n",
       "        <tr>\n",
       "            <th>country</th> <th>year</th> <th>age</th> <th>자살수</th> <th>총 인구(단위 : 천명)</th> <th>10만명 당 자살수</th>\n",
       "        </tr>\n",
       "    </thead>\n",
       "    <tbody>\n",
       "        <tr>\n",
       "            <td>Aruba            </td> <td>2000</td> <td>75+ years</td> <td>3   </td> <td>2.488e+06    </td> <td>0.000120579</td>\n",
       "        </tr>\n",
       "        <tr>\n",
       "            <td>Hungary          </td> <td>1990</td> <td>75+ years</td> <td>668 </td> <td>5.69794e+08  </td> <td>0.000117235</td>\n",
       "        </tr>\n",
       "        <tr>\n",
       "            <td>San Marino       </td> <td>1997</td> <td>75+ years</td> <td>2   </td> <td>1.714e+06    </td> <td>0.000116686</td>\n",
       "        </tr>\n",
       "        <tr>\n",
       "            <td>Republic of Korea</td> <td>2009</td> <td>75+ years</td> <td>1926</td> <td>1.7701e+09   </td> <td>0.000108808</td>\n",
       "        </tr>\n",
       "        <tr>\n",
       "            <td>Republic of Korea</td> <td>2010</td> <td>75+ years</td> <td>2066</td> <td>1.90687e+09  </td> <td>0.000108345</td>\n",
       "        </tr>\n",
       "        <tr>\n",
       "            <td>Republic of Korea</td> <td>2004</td> <td>75+ years</td> <td>1417</td> <td>1.30877e+09  </td> <td>0.00010827 </td>\n",
       "        </tr>\n",
       "        <tr>\n",
       "            <td>Hungary          </td> <td>1991</td> <td>75+ years</td> <td>596 </td> <td>5.51274e+08  </td> <td>0.000108113</td>\n",
       "        </tr>\n",
       "        <tr>\n",
       "            <td>Republic of Korea</td> <td>2005</td> <td>75+ years</td> <td>1480</td> <td>1.38524e+09  </td> <td>0.00010684 </td>\n",
       "        </tr>\n",
       "        <tr>\n",
       "            <td>Republic of Korea</td> <td>2011</td> <td>75+ years</td> <td>2170</td> <td>2.04917e+09  </td> <td>0.000105896</td>\n",
       "        </tr>\n",
       "        <tr>\n",
       "            <td>Republic of Korea</td> <td>2007</td> <td>75+ years</td> <td>1603</td> <td>1.55028e+09  </td> <td>0.000103401</td>\n",
       "        </tr>\n",
       "    </tbody>\n",
       "</table>\n",
       "<p>... (14000 rows omitted)</p>"
      ],
      "text/plain": [
       "country           | year | age       | 자살수  | 총 인구(단위 : 천명) | 10만명 당 자살수\n",
       "Aruba             | 2000 | 75+ years | 3    | 2.488e+06     | 0.000120579\n",
       "Hungary           | 1990 | 75+ years | 668  | 5.69794e+08   | 0.000117235\n",
       "San Marino        | 1997 | 75+ years | 2    | 1.714e+06     | 0.000116686\n",
       "Republic of Korea | 2009 | 75+ years | 1926 | 1.7701e+09    | 0.000108808\n",
       "Republic of Korea | 2010 | 75+ years | 2066 | 1.90687e+09   | 0.000108345\n",
       "Republic of Korea | 2004 | 75+ years | 1417 | 1.30877e+09   | 0.00010827\n",
       "Hungary           | 1991 | 75+ years | 596  | 5.51274e+08   | 0.000108113\n",
       "Republic of Korea | 2005 | 75+ years | 1480 | 1.38524e+09   | 0.00010684\n",
       "Republic of Korea | 2011 | 75+ years | 2170 | 2.04917e+09   | 0.000105896\n",
       "Republic of Korea | 2007 | 75+ years | 1603 | 1.55028e+09   | 0.000103401\n",
       "... (14000 rows omitted)"
      ]
     },
     "execution_count": 9,
     "metadata": {},
     "output_type": "execute_result"
    }
   ],
   "source": [
    "test_nosex.relabeled('population', '총 인구(단위 : 천명)').relabeled('suicides no', '자살수').relabeled('percentage', '10만명 당 자살수')"
   ]
  },
  {
   "cell_type": "code",
   "execution_count": 9,
   "metadata": {},
   "outputs": [
    {
     "data": {
      "text/html": [
       "<table border=\"1\" class=\"dataframe\">\n",
       "    <thead>\n",
       "        <tr>\n",
       "            <th>country</th> <th>year</th> <th>sex</th> <th>age</th> <th>suicides_no</th> <th>population</th>\n",
       "        </tr>\n",
       "    </thead>\n",
       "    <tbody>\n",
       "        <tr>\n",
       "            <td>Albania</td> <td>1987</td> <td>female</td> <td>15-24 years</td> <td>14         </td> <td>289700    </td>\n",
       "        </tr>\n",
       "        <tr>\n",
       "            <td>Albania</td> <td>1987</td> <td>female</td> <td>25-34 years</td> <td>4          </td> <td>257200    </td>\n",
       "        </tr>\n",
       "        <tr>\n",
       "            <td>Albania</td> <td>1987</td> <td>female</td> <td>35-54 years</td> <td>6          </td> <td>278800    </td>\n",
       "        </tr>\n",
       "        <tr>\n",
       "            <td>Albania</td> <td>1987</td> <td>female</td> <td>5-14 years </td> <td>0          </td> <td>311000    </td>\n",
       "        </tr>\n",
       "        <tr>\n",
       "            <td>Albania</td> <td>1987</td> <td>female</td> <td>55-74 years</td> <td>0          </td> <td>144600    </td>\n",
       "        </tr>\n",
       "        <tr>\n",
       "            <td>Albania</td> <td>1987</td> <td>female</td> <td>75+ years  </td> <td>1          </td> <td>35600     </td>\n",
       "        </tr>\n",
       "        <tr>\n",
       "            <td>Albania</td> <td>1987</td> <td>male  </td> <td>15-24 years</td> <td>21         </td> <td>312900    </td>\n",
       "        </tr>\n",
       "        <tr>\n",
       "            <td>Albania</td> <td>1987</td> <td>male  </td> <td>25-34 years</td> <td>9          </td> <td>274300    </td>\n",
       "        </tr>\n",
       "        <tr>\n",
       "            <td>Albania</td> <td>1987</td> <td>male  </td> <td>35-54 years</td> <td>16         </td> <td>308000    </td>\n",
       "        </tr>\n",
       "        <tr>\n",
       "            <td>Albania</td> <td>1987</td> <td>male  </td> <td>5-14 years </td> <td>0          </td> <td>338200    </td>\n",
       "        </tr>\n",
       "    </tbody>\n",
       "</table>\n",
       "<p>... (36050 rows omitted)</p>"
      ],
      "text/plain": [
       "country | year | sex    | age         | suicides_no | population\n",
       "Albania | 1987 | female | 15-24 years | 14          | 289700\n",
       "Albania | 1987 | female | 25-34 years | 4           | 257200\n",
       "Albania | 1987 | female | 35-54 years | 6           | 278800\n",
       "Albania | 1987 | female | 5-14 years  | 0           | 311000\n",
       "Albania | 1987 | female | 55-74 years | 0           | 144600\n",
       "Albania | 1987 | female | 75+ years   | 1           | 35600\n",
       "Albania | 1987 | male   | 15-24 years | 21          | 312900\n",
       "Albania | 1987 | male   | 25-34 years | 9           | 274300\n",
       "Albania | 1987 | male   | 35-54 years | 16          | 308000\n",
       "Albania | 1987 | male   | 5-14 years  | 0           | 338200\n",
       "... (36050 rows omitted)"
      ]
     },
     "execution_count": 9,
     "metadata": {},
     "output_type": "execute_result"
    }
   ],
   "source": [
    "test"
   ]
  },
  {
   "cell_type": "code",
   "execution_count": 37,
   "metadata": {},
   "outputs": [
    {
     "data": {
      "text/html": [
       "<table border=\"1\" class=\"dataframe\">\n",
       "    <thead>\n",
       "        <tr>\n",
       "            <th>year</th> <th>age</th> <th>suicides_no sum</th> <th>population sum</th>\n",
       "        </tr>\n",
       "    </thead>\n",
       "    <tbody>\n",
       "        <tr>\n",
       "            <td>1985</td> <td>15-24 years</td> <td>974            </td> <td>8.5613e+06    </td>\n",
       "        </tr>\n",
       "        <tr>\n",
       "            <td>1985</td> <td>25-34 years</td> <td>883            </td> <td>7.1856e+06    </td>\n",
       "        </tr>\n",
       "        <tr>\n",
       "            <td>1985</td> <td>35-54 years</td> <td>1165           </td> <td>8.5531e+06    </td>\n",
       "        </tr>\n",
       "        <tr>\n",
       "            <td>1985</td> <td>5-14 years </td> <td>33             </td> <td>8.3924e+06    </td>\n",
       "        </tr>\n",
       "        <tr>\n",
       "            <td>1985</td> <td>55-74 years</td> <td>554            </td> <td>3.4988e+06    </td>\n",
       "        </tr>\n",
       "        <tr>\n",
       "            <td>1985</td> <td>75+ years  </td> <td>80             </td> <td>525500        </td>\n",
       "        </tr>\n",
       "        <tr>\n",
       "            <td>1986</td> <td>15-24 years</td> <td>853            </td> <td>8.744e+06     </td>\n",
       "        </tr>\n",
       "        <tr>\n",
       "            <td>1986</td> <td>25-34 years</td> <td>921            </td> <td>7.4891e+06    </td>\n",
       "        </tr>\n",
       "        <tr>\n",
       "            <td>1986</td> <td>35-54 years</td> <td>1063           </td> <td>8.8333e+06    </td>\n",
       "        </tr>\n",
       "        <tr>\n",
       "            <td>1986</td> <td>5-14 years </td> <td>26             </td> <td>8.3401e+06    </td>\n",
       "        </tr>\n",
       "    </tbody>\n",
       "</table>\n",
       "<p>... (176 rows omitted)</p>"
      ],
      "text/plain": [
       "year | age         | suicides_no sum | population sum\n",
       "1985 | 15-24 years | 974             | 8.5613e+06\n",
       "1985 | 25-34 years | 883             | 7.1856e+06\n",
       "1985 | 35-54 years | 1165            | 8.5531e+06\n",
       "1985 | 5-14 years  | 33              | 8.3924e+06\n",
       "1985 | 55-74 years | 554             | 3.4988e+06\n",
       "1985 | 75+ years   | 80              | 525500\n",
       "1986 | 15-24 years | 853             | 8.744e+06\n",
       "1986 | 25-34 years | 921             | 7.4891e+06\n",
       "1986 | 35-54 years | 1063            | 8.8333e+06\n",
       "1986 | 5-14 years  | 26              | 8.3401e+06\n",
       "... (176 rows omitted)"
      ]
     },
     "execution_count": 37,
     "metadata": {},
     "output_type": "execute_result"
    }
   ],
   "source": [
    "korea=test.where('country', 'Republic of Korea').group(['year', 'age'], np.sum).drop(2,3)\n",
    "korea"
   ]
  },
  {
   "cell_type": "code",
   "execution_count": 38,
   "metadata": {},
   "outputs": [],
   "source": [
    "korea['population sum']/=1000"
   ]
  },
  {
   "cell_type": "code",
   "execution_count": 39,
   "metadata": {},
   "outputs": [
    {
     "data": {
      "text/html": [
       "<table border=\"1\" class=\"dataframe\">\n",
       "    <thead>\n",
       "        <tr>\n",
       "            <th>year</th> <th>age</th> <th>suicides_no sum</th> <th>population(unit : 1000)</th>\n",
       "        </tr>\n",
       "    </thead>\n",
       "    <tbody>\n",
       "        <tr>\n",
       "            <td>1985</td> <td>15-24 years</td> <td>974            </td> <td>8561.3                 </td>\n",
       "        </tr>\n",
       "        <tr>\n",
       "            <td>1985</td> <td>25-34 years</td> <td>883            </td> <td>7185.6                 </td>\n",
       "        </tr>\n",
       "        <tr>\n",
       "            <td>1985</td> <td>35-54 years</td> <td>1165           </td> <td>8553.1                 </td>\n",
       "        </tr>\n",
       "        <tr>\n",
       "            <td>1985</td> <td>5-14 years </td> <td>33             </td> <td>8392.4                 </td>\n",
       "        </tr>\n",
       "        <tr>\n",
       "            <td>1985</td> <td>55-74 years</td> <td>554            </td> <td>3498.8                 </td>\n",
       "        </tr>\n",
       "        <tr>\n",
       "            <td>1985</td> <td>75+ years  </td> <td>80             </td> <td>525.5                  </td>\n",
       "        </tr>\n",
       "        <tr>\n",
       "            <td>1986</td> <td>15-24 years</td> <td>853            </td> <td>8744                   </td>\n",
       "        </tr>\n",
       "        <tr>\n",
       "            <td>1986</td> <td>25-34 years</td> <td>921            </td> <td>7489.1                 </td>\n",
       "        </tr>\n",
       "        <tr>\n",
       "            <td>1986</td> <td>35-54 years</td> <td>1063           </td> <td>8833.3                 </td>\n",
       "        </tr>\n",
       "        <tr>\n",
       "            <td>1986</td> <td>5-14 years </td> <td>26             </td> <td>8340.1                 </td>\n",
       "        </tr>\n",
       "    </tbody>\n",
       "</table>\n",
       "<p>... (176 rows omitted)</p>"
      ],
      "text/plain": [
       "year | age         | suicides_no sum | population(unit : 1000)\n",
       "1985 | 15-24 years | 974             | 8561.3\n",
       "1985 | 25-34 years | 883             | 7185.6\n",
       "1985 | 35-54 years | 1165            | 8553.1\n",
       "1985 | 5-14 years  | 33              | 8392.4\n",
       "1985 | 55-74 years | 554             | 3498.8\n",
       "1985 | 75+ years   | 80              | 525.5\n",
       "1986 | 15-24 years | 853             | 8744\n",
       "1986 | 25-34 years | 921             | 7489.1\n",
       "1986 | 35-54 years | 1063            | 8833.3\n",
       "1986 | 5-14 years  | 26              | 8340.1\n",
       "... (176 rows omitted)"
      ]
     },
     "execution_count": 39,
     "metadata": {},
     "output_type": "execute_result"
    }
   ],
   "source": [
    "korea=korea.relabeled('population sum', 'population(unit : 1000)')\n",
    "korea"
   ]
  },
  {
   "cell_type": "code",
   "execution_count": 40,
   "metadata": {},
   "outputs": [],
   "source": [
    "korea=korea.relabeled('suicides_no sum', 'suicides num')"
   ]
  },
  {
   "cell_type": "code",
   "execution_count": 41,
   "metadata": {},
   "outputs": [
    {
     "data": {
      "text/html": [
       "<table border=\"1\" class=\"dataframe\">\n",
       "    <thead>\n",
       "        <tr>\n",
       "            <th>year</th> <th>age</th> <th>suicides num</th> <th>population(unit : 1000)</th> <th>per</th>\n",
       "        </tr>\n",
       "    </thead>\n",
       "    <tbody>\n",
       "        <tr>\n",
       "            <td>1985</td> <td>15-24 years</td> <td>974         </td> <td>8561.3                 </td> <td>0.0113768  </td>\n",
       "        </tr>\n",
       "        <tr>\n",
       "            <td>1985</td> <td>25-34 years</td> <td>883         </td> <td>7185.6                 </td> <td>0.0122885  </td>\n",
       "        </tr>\n",
       "        <tr>\n",
       "            <td>1985</td> <td>35-54 years</td> <td>1165        </td> <td>8553.1                 </td> <td>0.0136208  </td>\n",
       "        </tr>\n",
       "        <tr>\n",
       "            <td>1985</td> <td>5-14 years </td> <td>33          </td> <td>8392.4                 </td> <td>0.000393213</td>\n",
       "        </tr>\n",
       "        <tr>\n",
       "            <td>1985</td> <td>55-74 years</td> <td>554         </td> <td>3498.8                 </td> <td>0.015834   </td>\n",
       "        </tr>\n",
       "        <tr>\n",
       "            <td>1985</td> <td>75+ years  </td> <td>80          </td> <td>525.5                  </td> <td>0.0152236  </td>\n",
       "        </tr>\n",
       "        <tr>\n",
       "            <td>1986</td> <td>15-24 years</td> <td>853         </td> <td>8744                   </td> <td>0.00975526 </td>\n",
       "        </tr>\n",
       "        <tr>\n",
       "            <td>1986</td> <td>25-34 years</td> <td>921         </td> <td>7489.1                 </td> <td>0.0122979  </td>\n",
       "        </tr>\n",
       "        <tr>\n",
       "            <td>1986</td> <td>35-54 years</td> <td>1063        </td> <td>8833.3                 </td> <td>0.012034   </td>\n",
       "        </tr>\n",
       "        <tr>\n",
       "            <td>1986</td> <td>5-14 years </td> <td>26          </td> <td>8340.1                 </td> <td>0.000311747</td>\n",
       "        </tr>\n",
       "    </tbody>\n",
       "</table>\n",
       "<p>... (176 rows omitted)</p>"
      ],
      "text/plain": [
       "year | age         | suicides num | population(unit : 1000) | per\n",
       "1985 | 15-24 years | 974          | 8561.3                  | 0.0113768\n",
       "1985 | 25-34 years | 883          | 7185.6                  | 0.0122885\n",
       "1985 | 35-54 years | 1165         | 8553.1                  | 0.0136208\n",
       "1985 | 5-14 years  | 33           | 8392.4                  | 0.000393213\n",
       "1985 | 55-74 years | 554          | 3498.8                  | 0.015834\n",
       "1985 | 75+ years   | 80           | 525.5                   | 0.0152236\n",
       "1986 | 15-24 years | 853          | 8744                    | 0.00975526\n",
       "1986 | 25-34 years | 921          | 7489.1                  | 0.0122979\n",
       "1986 | 35-54 years | 1063         | 8833.3                  | 0.012034\n",
       "1986 | 5-14 years  | 26           | 8340.1                  | 0.000311747\n",
       "... (176 rows omitted)"
      ]
     },
     "execution_count": 41,
     "metadata": {},
     "output_type": "execute_result"
    }
   ],
   "source": [
    "korea=korea.with_column('per', \n",
    "                (korea['suicides num']/1000)/korea['population(unit : 1000)']*100)\n",
    "korea"
   ]
  },
  {
   "cell_type": "code",
   "execution_count": 42,
   "metadata": {},
   "outputs": [],
   "source": [
    "korea=korea.where('age', are.not_equal_to('55-74 years')).where('age', are.not_equal_to('75+ years'))"
   ]
  },
  {
   "cell_type": "code",
   "execution_count": 43,
   "metadata": {},
   "outputs": [
    {
     "data": {
      "text/html": [
       "<table border=\"1\" class=\"dataframe\">\n",
       "    <thead>\n",
       "        <tr>\n",
       "            <th>year</th> <th>age</th> <th>suicides num</th> <th>population(unit : 1000)</th> <th>per</th>\n",
       "        </tr>\n",
       "    </thead>\n",
       "    <tbody>\n",
       "        <tr>\n",
       "            <td>1985</td> <td>15-24 years</td> <td>974         </td> <td>8561.3                 </td> <td>0.0113768  </td>\n",
       "        </tr>\n",
       "        <tr>\n",
       "            <td>1985</td> <td>25-34 years</td> <td>883         </td> <td>7185.6                 </td> <td>0.0122885  </td>\n",
       "        </tr>\n",
       "        <tr>\n",
       "            <td>1985</td> <td>35-54 years</td> <td>1165        </td> <td>8553.1                 </td> <td>0.0136208  </td>\n",
       "        </tr>\n",
       "        <tr>\n",
       "            <td>1985</td> <td>5-14 years </td> <td>33          </td> <td>8392.4                 </td> <td>0.000393213</td>\n",
       "        </tr>\n",
       "        <tr>\n",
       "            <td>1986</td> <td>15-24 years</td> <td>853         </td> <td>8744                   </td> <td>0.00975526 </td>\n",
       "        </tr>\n",
       "        <tr>\n",
       "            <td>1986</td> <td>25-34 years</td> <td>921         </td> <td>7489.1                 </td> <td>0.0122979  </td>\n",
       "        </tr>\n",
       "        <tr>\n",
       "            <td>1986</td> <td>35-54 years</td> <td>1063        </td> <td>8833.3                 </td> <td>0.012034   </td>\n",
       "        </tr>\n",
       "        <tr>\n",
       "            <td>1986</td> <td>5-14 years </td> <td>26          </td> <td>8340.1                 </td> <td>0.000311747</td>\n",
       "        </tr>\n",
       "        <tr>\n",
       "            <td>1987</td> <td>15-24 years</td> <td>714         </td> <td>8801.5                 </td> <td>0.00811225 </td>\n",
       "        </tr>\n",
       "        <tr>\n",
       "            <td>1987</td> <td>25-34 years</td> <td>929         </td> <td>7787.7                 </td> <td>0.0119291  </td>\n",
       "        </tr>\n",
       "    </tbody>\n",
       "</table>\n",
       "<p>... (114 rows omitted)</p>"
      ],
      "text/plain": [
       "year | age         | suicides num | population(unit : 1000) | per\n",
       "1985 | 15-24 years | 974          | 8561.3                  | 0.0113768\n",
       "1985 | 25-34 years | 883          | 7185.6                  | 0.0122885\n",
       "1985 | 35-54 years | 1165         | 8553.1                  | 0.0136208\n",
       "1985 | 5-14 years  | 33           | 8392.4                  | 0.000393213\n",
       "1986 | 15-24 years | 853          | 8744                    | 0.00975526\n",
       "1986 | 25-34 years | 921          | 7489.1                  | 0.0122979\n",
       "1986 | 35-54 years | 1063         | 8833.3                  | 0.012034\n",
       "1986 | 5-14 years  | 26           | 8340.1                  | 0.000311747\n",
       "1987 | 15-24 years | 714          | 8801.5                  | 0.00811225\n",
       "1987 | 25-34 years | 929          | 7787.7                  | 0.0119291\n",
       "... (114 rows omitted)"
      ]
     },
     "execution_count": 43,
     "metadata": {},
     "output_type": "execute_result"
    }
   ],
   "source": [
    "korea"
   ]
  },
  {
   "cell_type": "code",
   "execution_count": 56,
   "metadata": {},
   "outputs": [
    {
     "ename": "AttributeError",
     "evalue": "module 'collections' has no attribute 'Iterable'",
     "output_type": "error",
     "traceback": [
      "\u001b[1;31m---------------------------------------------------------------------------\u001b[0m",
      "\u001b[1;31mAttributeError\u001b[0m                            Traceback (most recent call last)",
      "\u001b[1;32ma:\\Git\\School\\DataScience\\Self_contents\\project_test.ipynb Cell 21'\u001b[0m in \u001b[0;36m<cell line: 2>\u001b[1;34m()\u001b[0m\n\u001b[0;32m      <a href='vscode-notebook-cell:/a%3A/Git/School/DataScience/Self_contents/project_test.ipynb#ch0000020?line=0'>1</a>\u001b[0m get_ipython()\u001b[39m.\u001b[39mrun_line_magic(\u001b[39m'\u001b[39m\u001b[39mmatplotlib\u001b[39m\u001b[39m'\u001b[39m, \u001b[39m'\u001b[39m\u001b[39minline\u001b[39m\u001b[39m'\u001b[39m)\n\u001b[1;32m----> <a href='vscode-notebook-cell:/a%3A/Git/School/DataScience/Self_contents/project_test.ipynb#ch0000020?line=1'>2</a>\u001b[0m korea\u001b[39m.\u001b[39;49mselect(\u001b[39m'\u001b[39;49m\u001b[39myear\u001b[39;49m\u001b[39m'\u001b[39;49m,\u001b[39m'\u001b[39;49m\u001b[39mper\u001b[39;49m\u001b[39m'\u001b[39;49m)\u001b[39m.\u001b[39;49mbarh(\u001b[39m'\u001b[39;49m\u001b[39myear\u001b[39;49m\u001b[39m'\u001b[39;49m)\n",
      "File \u001b[1;32ma:\\Python\\lib\\site-packages\\datascience\\tables.py:3787\u001b[0m, in \u001b[0;36mTable.barh\u001b[1;34m(self, column_for_categories, select, overlay, width, **vargs)\u001b[0m\n\u001b[0;32m   <a href='file:///a%3A/Python/lib/site-packages/datascience/tables.py?line=3783'>3784</a>\u001b[0m     axis\u001b[39m.\u001b[39mset_xlabel(axis\u001b[39m.\u001b[39mget_ylabel())\n\u001b[0;32m   <a href='file:///a%3A/Python/lib/site-packages/datascience/tables.py?line=3784'>3785</a>\u001b[0m     axis\u001b[39m.\u001b[39mset_ylabel(ylabel)\n\u001b[1;32m-> <a href='file:///a%3A/Python/lib/site-packages/datascience/tables.py?line=3786'>3787</a>\u001b[0m \u001b[39mself\u001b[39;49m\u001b[39m.\u001b[39;49m_visualize(\u001b[39m'\u001b[39;49m\u001b[39m'\u001b[39;49m, labels, yticks, overlay, draw, annotate, width\u001b[39m=\u001b[39;49mwidth, height\u001b[39m=\u001b[39;49mheight)\n",
      "File \u001b[1;32ma:\\Python\\lib\\site-packages\\datascience\\tables.py:4629\u001b[0m, in \u001b[0;36mTable._visualize\u001b[1;34m(self, x_label, y_labels, ticks, overlay, draw, annotate, width, height)\u001b[0m\n\u001b[0;32m   <a href='file:///a%3A/Python/lib/site-packages/datascience/tables.py?line=4626'>4627</a>\u001b[0m \u001b[39melse\u001b[39;00m:\n\u001b[0;32m   <a href='file:///a%3A/Python/lib/site-packages/datascience/tables.py?line=4627'>4628</a>\u001b[0m     fig, axes \u001b[39m=\u001b[39m plt\u001b[39m.\u001b[39msubplots(n, \u001b[39m1\u001b[39m, figsize\u001b[39m=\u001b[39m(width, height\u001b[39m*\u001b[39mn))\n\u001b[1;32m-> <a href='file:///a%3A/Python/lib/site-packages/datascience/tables.py?line=4628'>4629</a>\u001b[0m     \u001b[39mif\u001b[39;00m \u001b[39mnot\u001b[39;00m \u001b[39misinstance\u001b[39m(axes, collections\u001b[39m.\u001b[39;49mIterable):\n\u001b[0;32m   <a href='file:///a%3A/Python/lib/site-packages/datascience/tables.py?line=4629'>4630</a>\u001b[0m         axes\u001b[39m=\u001b[39m[axes]\n\u001b[0;32m   <a href='file:///a%3A/Python/lib/site-packages/datascience/tables.py?line=4630'>4631</a>\u001b[0m     \u001b[39mfor\u001b[39;00m axis, y_label, color \u001b[39min\u001b[39;00m \u001b[39mzip\u001b[39m(axes, y_labels, colors):\n",
      "\u001b[1;31mAttributeError\u001b[0m: module 'collections' has no attribute 'Iterable'"
     ]
    },
    {
     "data": {
      "image/png": "[encoded data removed]",
      "text/plain": [
       "<Figure size 432x4464 with 1 Axes>"
      ]
     },
     "metadata": {
      "needs_background": "light"
     },
     "output_type": "display_data"
    }
   ],
   "source": [
    "%matplotlib inline\n",
    "korea.select('year','per').barh('year')"
   ]
  },
  {
   "cell_type": "code",
   "execution_count": null,
   "metadata": {},
   "outputs": [],
   "source": []
  }
 ],
 "metadata": {
  "interpreter": {
   "hash": "23d75174b31ca4fcf71687e5660e0534c2f456560373f0bf6ae035518c9290e4"
  },
  "kernelspec": {
   "display_name": "Python 3.10.2 64-bit",
   "language": "python",
   "name": "python3"
  },
  "language_info": {
   "codemirror_mode": {
    "name": "ipython",
    "version": 3
   },
   "file_extension": ".py",
   "mimetype": "text/x-python",
   "name": "python",
   "nbconvert_exporter": "python",
   "pygments_lexer": "ipython3",
   "version": "3.10.2"
  },
  "orig_nbformat": 4
 },
 "nbformat": 4,
 "nbformat_minor": 2
}
