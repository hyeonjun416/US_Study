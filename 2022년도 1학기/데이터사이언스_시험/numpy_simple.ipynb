{
 "cells": [
  {
   "cell_type": "markdown",
   "metadata": {},
   "source": [
    "### 선언\n",
    "```python\n",
    "import numpy as np\n",
    "```"
   ]
  },
  {
   "cell_type": "markdown",
   "metadata": {},
   "source": [
    "### 생성\n",
    "```python\n",
    "np.array([1,4,2,5,3], dtype=int) # 기본형\n",
    "np.zeros(10, dtype=int) # 0으로 채워진 array\n",
    "np.ones(10, dtype=int) # 1로 채워진 array\n",
    "np.full(10, 3.14) # 원하는 값으로 채워진 array\n",
    "np.arange(0, 20, 2) # range\n",
    "np.linspace(0, 1, 5) # 구간을 같은 간격으로 분할\n",
    "np.random.random((3,3)) # 0~1 사이의 랜덤 실수(균일 분포)\n",
    "np.random.normal(0, 1, (3,3)) # 평균 0, 표준편차 1인 랜덤 실수\n",
    "np.random.randint(0, 10, (3,3)) # [0~10) 랜덤 정수\n",
    "np.eye(3) # 3*3 정방행렬\n",
    "np.empty(3) # 공간만 할당, 데이터는 메모리 공간에 존재하는 값에 따름\n",
    "```"
   ]
  },
  {
   "cell_type": "markdown",
   "metadata": {},
   "source": [
    "### 데이터타입\n",
    "```bool, int, float, uint, complex```"
   ]
  },
  {
   "cell_type": "markdown",
   "metadata": {},
   "source": [
    "### array 정보\n",
    "```python\n",
    "x1=np.random.randint(10, size=6) # [0,10) 정수 6개 array\n",
    "x1.ndim # number of dimension\n",
    "x1.shape # size of each dimension\n",
    "x1.size # total size\n",
    "x1.dtype # element data type\n",
    "x1.itemsize #size of each element\n",
    "x1.nbytes # total size (nbytes, itemsize * size)\n",
    "```"
   ]
  },
  {
   "cell_type": "markdown",
   "metadata": {},
   "source": [
    "### 인덱싱\n",
    "```python\n",
    "array[index] # index는 0~n-1\n",
    "``` \n",
    "다차원에서는 comma로 차원 구분"
   ]
  },
  {
   "cell_type": "markdown",
   "metadata": {},
   "source": [
    "### 슬라이싱\n",
    "```python\n",
    "array[start:stop:step] # [start, stop)\n",
    "```\n",
    "다차원에서는 comma로 차원 구분\n",
    "\n",
    "특정 row, column 잘라내기\n",
    "```python\n",
    "x2[:, 0] #0열 잘라내기\n",
    "x2[0, :] #0행 잘라내기, 이 경우에는 : 생략 가능\n",
    "```\n",
    "슬라이싱한 array는 복사본이 아닌 원본의 일부이므로 복사본을 원하면 ``copy()`` method 사용"
   ]
  },
  {
   "cell_type": "markdown",
   "metadata": {},
   "source": [
    "### shape 변경하기\n",
    "```python\n",
    "x1.reshape(shape) # 원하는 shape로 변경\n",
    "np.newaxis # 1차원 증가\n",
    "x1[np.newaxis, :] # 열 방향 추가\n",
    "x1[:, np.newaxis] # 행 방향 추가"
   ]
  },
  {
   "cell_type": "markdown",
   "metadata": {},
   "source": [
    "### array 합치기\n",
    "```python\n",
    "np.concatenate([arrays]) # default axis=0\n",
    "np.hstack([arrays]) # axis=1 결합\n",
    "np.vstack([arrays]) # axis=0 결합\n",
    "```"
   ]
  },
  {
   "cell_type": "markdown",
   "metadata": {},
   "source": [
    "### array 나누기\n",
    "```python\n",
    "np.split(array, [index]) # 원하는 index에서 분할\n",
    "np.hsplit() # axis=1\n",
    "np.vsplit() # axis=0\n",
    "```"
   ]
  },
  {
   "cell_type": "markdown",
   "metadata": {},
   "source": [
    "### Ufuncs (Vectorized Operation)\n",
    "\n",
    "x+2 or np.add(x, 2)\n",
    "\n",
    "함수 형태로 사용할 경우 axis 지정이 가능함\n",
    "\n",
    "| Operator\t    | Equivalent ufunc    | Description                           |\n",
    "|---------------|---------------------|---------------------------------------|\n",
    "|``+``          |``np.add``           |덧셈|\n",
    "|``-``          |``np.subtract``      |뺄셈|\n",
    "|``-``          |``np.negative``      |부호 반전|\n",
    "|``*``          |``np.multiply``      |곱셈|\n",
    "|``/``          |``np.divide``        |나눗셈|\n",
    "|``//``         |``np.floor_divide``  |몫 연산|\n",
    "|``**``         |``np.power``         |거듭제곱|\n",
    "|``%``          |``np.mod``           |나머지 연산|\n",
    "\n",
    "|형태|함수|설명|\n",
    "|--|--|--|\n",
    "|&#124;x&#124; |``np.abs``|절댓값|\n",
    "|sin(x), cos(x), ...|``np.sin(), cos(), tan(), ...``|삼각함수\n",
    "|e^x|``np.exp(x)``|밑이 e인 지수함수|\n",
    "|2^x|``np.exp2(x)``|밑이 2인 지수함수|\n",
    "|lnx|``np.log(x)``|자연로그|\n",
    "|log2x|``np.log2(x)``|밑이 2인 로그함수|\n",
    "|logx|``np.log10(x)``|상용로그|\n",
    "\n",
    "``out`` argument 지정하면 임시 저장소를 만들지 않아 효율적\n",
    "\n",
    "```python\n",
    "np.add.accumulate(x) # accumulate : 중간 결과 저장\n",
    "np.outer(array, array) # 외적\n",
    "np.inner(array, array) #내적\n",
    "```"
   ]
  },
  {
   "cell_type": "markdown",
   "metadata": {},
   "source": [
    "### Aggregations (합, 최대, 최소, ...)\n",
    "\n",
    "|함수|NaN 배제|설명|\n",
    "|-------------------|---------------------|-----------------------------------------------|\n",
    "| ``np.sum``        | ``np.nansum``       |합|\n",
    "| ``np.prod``       | ``np.nanprod``      |곱|\n",
    "| ``np.mean``       | ``np.nanmean``      |평균|\n",
    "| ``np.std``        | ``np.nanstd``       | 표준편차|\n",
    "| ``np.var``        | ``np.nanvar``       | 분산|\n",
    "| ``np.min``        | ``np.nanmin``       | 최소|\n",
    "| ``np.max``        | ``np.nanmax``       | 최대 |\n",
    "| ``np.argmin``     | ``np.nanargmin``    | 최솟값 인덱스 |\n",
    "| ``np.argmax``     | ``np.nanargmax``    | 최댓값 인덱스 |\n",
    "| ``np.median``     | ``np.nanmedian``    | 중앙값 |\n",
    "| ``np.percentile`` | ``np.nanpercentile``| 백분위수 |\n",
    "| ``np.any``        | N/A                 | 하나라도 0 |\n",
    "| ``np.all``        | N/A                 | 모두 0 |\n"
   ]
  },
  {
   "cell_type": "markdown",
   "metadata": {},
   "source": [
    "### Broadcasting (브로드캐스팅)\n",
    "+ Rule 1 : 두 array 차원수가 다르면 낮은 차원수의 array에서 부족한 차원 개수만큼 왼쪽에 1을 집어넣어 차원수를 맞춘다.\n",
    "+ Rule 2 : 각 차원에서 그 크기가 다른 경우 차원값이 1인 것을 변경하여 일치시킨다.\n",
    "+ Rule 3 : Rule 2가 적용되지 않으면 오류가 발생한다."
   ]
  },
  {
   "cell_type": "markdown",
   "metadata": {},
   "source": [
    "### 비교, 마스킹, 부울 로직\n",
    "\n",
    "| Operator\t    | Equivalent ufunc    | Operator\t   | Equivalent ufunc    |\n",
    "|---------------|---------------------|---------------|---------------------|\n",
    "|``==``         |``np.equal``         |``!=``         |``np.not_equal``     |\n",
    "|``<``          |``np.less``          |``<=``         |``np.less_equal``    |\n",
    "|``>``          |``np.greater``       |``>=``         |``np.greater_equal`` |\n",
    "|``&``          |``np.bitwise_and``   |&#124;         |``np.bitwise_or``    |\n",
    "|``^``          |``np.bitwise_xor``   |``~``          |``np.bitwise_not``   |\n",
    "\n",
    "```python\n",
    "x>8 # 비교\n",
    "x[x>8] # 마스킹\n",
    "```"
   ]
  },
  {
   "cell_type": "markdown",
   "metadata": {},
   "source": [
    "### Fancy Indexing\n",
    "\n",
    "scalar 대신 index들의 array를 전달\n",
    "\n",
    "fancy indexing의 결과의 shape는 index arrays의 shape를 따른다.\n",
    "```python\n",
    "x[[1,2,3]] # scalar 대신 [1,2,3] array를 index로 전달\n",
    "x[2, [2,0,1]] # 2차원에서 simple과 fancy의 결합\n",
    "x[1: [2,0,1]] # 2차원에서 slicing과 fancy의 결합\n",
    "x[[2,0,1], np.array([0,1,0,1], dtype=bool)] # 2차원에서 fancy와 masking의 결합\n",
    "```"
   ]
  },
  {
   "cell_type": "markdown",
   "metadata": {},
   "source": [
    "### 정렬 (Sorting)\n",
    "\n",
    "axis 지정 가능\n",
    "```python\n",
    "np.sort(x) # array 정렬\n",
    "x.sort() # in-place 정렬\n",
    "np.argsort(x) # 정렬된 array의 index\n",
    "np.partition(x, k) #k>0 : 가장 작은 값 k개를 array 왼쪽에 배치, k<0 : 가장 큰 값 k개를 array 오른쪽에 배치\n",
    "```"
   ]
  }
 ],
 "metadata": {
  "interpreter": {
   "hash": "006e8867145289ae3feb8f4baa4f87f916c365a8ead7bc430170ed209ed31c25"
  },
  "kernelspec": {
   "display_name": "Python 3.9.7 ('base')",
   "language": "python",
   "name": "python3"
  },
  "language_info": {
   "codemirror_mode": {
    "name": "ipython",
    "version": 3
   },
   "file_extension": ".py",
   "mimetype": "text/x-python",
   "name": "python",
   "nbconvert_exporter": "python",
   "pygments_lexer": "ipython3",
   "version": "3.9.7"
  },
  "orig_nbformat": 4
 },
 "nbformat": 4,
 "nbformat_minor": 2
}
