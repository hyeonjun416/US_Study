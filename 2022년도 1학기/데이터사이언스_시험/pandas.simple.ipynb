{
 "cells": [
  {
   "cell_type": "markdown",
   "metadata": {},
   "source": [
    "### 선언\n",
    "```python\n",
    "import pandas as pd\n",
    "```"
   ]
  },
  {
   "cell_type": "markdown",
   "metadata": {},
   "source": [
    "### 시리즈 Series\n",
    "```python\n",
    "data=pd.Series([1,2,3]) # list를 통한 Series 생성\n",
    "data.values # 값\n",
    "data.index # 인덱스\n",
    "# 인덱싱, 슬라이싱은 numpy와 동일함. 설정한 index로 인덱싱, 슬라이싱이 가능함\n",
    "data=pd.Series([1,2,3], index=['a','b','c']) # explicit index\n",
    "data['a':'c'] # array-style indexing (결과에 'c' 포함)\n",
    "data=pd.Series({2:'a', 1:'b', 3:'c'}) # dictionary를 통한 Series 생성\n",
    "pd.Series({2:'a', 1:'b', 3:'c'}, index=[3, 2]) # index 명시적 한정\n",
    "```"
   ]
  },
  {
   "cell_type": "markdown",
   "metadata": {},
   "source": [
    "### 데이터프레임 DataFrame\n",
    "```python\n",
    "area=pd.DataFrame({'population': population, 'area': area}) # dictonary를 통한 DataFrame 생성\n",
    "pd.DataFrame(np.random.rand(3, 2),columns=['foo', 'bar'],index=['a', 'b', 'c']) # 기본 형태\n",
    "area.values # 값\n",
    "area.index # 인덱스(행)\n",
    "area.columns # 열\n",
    "```"
   ]
  },
  {
   "cell_type": "markdown",
   "metadata": {},
   "source": [
    "### 인덱스 오브젝트 Index Object\n",
    "```python\n",
    "ind=pd.Index([2,3,5,7,11]) # 인덱스 array, 수정 불가능\n",
    "```\n",
    "Python's built-in set data structure를 따르므로 집합 연산이 가능함"
   ]
  },
  {
   "cell_type": "markdown",
   "metadata": {},
   "source": [
    "### 인덱싱, 데이터 선택 Indexing & Selection\n",
    "```python\n",
    "data['b'] # explicit indexing\n",
    "data.keys() # ==data.index\n",
    "list(data.items()) # 인덱스, 값 튜플\n",
    "data.loc['a':'b'] # explicit\n",
    "data.iloc[0:2] # implicit\n",
    "\n",
    "data2 = pd.DataFrame({'area':area, 'pop':pop}) # DataFrame\n",
    "data2['area'] # ==data.area, column (각 column은 Series)\n",
    "list(data2.items) # 각 column (Series)\n",
    "data2.values # 값\n",
    "data2.T # 전치\n",
    "data2.loc[:'Illinois', :'pop'] # explicit\n",
    "data2.iloc[:3, :2] # implicit integer\n",
    "```"
   ]
  },
  {
   "cell_type": "markdown",
   "metadata": {},
   "source": [
    "### Ufuncs\n",
    "연산 이후 Pandas Object가 반환되며 index가 보존된다.\n",
    "\n",
    "Broadcasting rule이 적용된다.\n",
    "\n",
    "| Python Operator | Pandas Method(s)                      |\n",
    "|-----------------|---------------------------------------|\n",
    "| ``+``           | ``add()``                             |\n",
    "| ``-``           | ``sub()``, ``subtract()``             |\n",
    "| ``*``           | ``mul()``, ``multiply()``             |\n",
    "| ``/``           | ``truediv()``, ``div()``, ``divide()``|\n",
    "| ``//``          | ``floordiv()``                        |\n",
    "| ``%``           | ``mod()``                             |\n",
    "| ``**``          | ``pow()``                             |\n",
    "\n",
    "x.add(), x.sub(), ..."
   ]
  },
  {
   "cell_type": "markdown",
   "metadata": {},
   "source": [
    "### NaN Missing Value\n",
    "\n",
    "NaN : Missing numerical data 이며 floating-point value (부동소수점)\n",
    "\n",
    "연산이 가능하나 결과는 다시 ``NaN``이 된다.\n",
    "\n",
    "NaN을 배제하는 함수들이 제공된다.\n",
    "\n",
    " ``isnull()``: NaN이면 True, 아니면 False\n",
    " \n",
    "  ``notnull()``: isnull()의 반대\n",
    "  \n",
    " ``dropna()``: NaN이 있는 행/열을 버림, axis 지정 가능\n",
    "```python\n",
    "df.dropna(axis=1) # NaN이 있는 열 제거\n",
    "df.dropna(how='all') # 전체가 NaN인 행 제거\n",
    "df.dropna(thresh=3) # NaN이 아닌 값이 3개 미만이면 제거\n",
    "```\n",
    " ``fillna()``: NaN을 다른 값으로 채움, axis 지정 가능\n",
    "```python\n",
    "df.fillna(value) # value로 NaN 대체\n",
    "df.fillna(method='ffill') # forward-fill\n",
    "df.fillna(method='bfill') # backward-fill\n",
    "```"
   ]
  },
  {
   "cell_type": "markdown",
   "metadata": {},
   "source": [
    "### 계층 인덱싱 Hierarchical Indexing\n",
    "```python\n",
    "pd.MultiIndex.from_arrays([['a', 'a', 'b', 'b'], [1, 2, 1, 2]]) # array를 통한 멀티 인덱스 생성\n",
    "pd.MultiIndex.from_tuples([('a', 1), ('a', 2), ('b', 1), ('b', 2)]) #tuple을 통한 멀티 인덱스 생성\n",
    "pd.MultiIndex.from_product([['a', 'b'], [1, 2]]) # product 곱을 이용한 멀티 인덱스 생성\n",
    "pop.index.names = ['state', 'year'] # 멀티 인덱스의 level에 이름 지정\n",
    "# column도 MultiIndex로 인덱싱이 가능함\n",
    "health_data.loc[:, ('Bob', 'HR')] # 계층 인덱싱을 할 때에는 tuple 사용\n",
    "idx = pd.IndexSlice # IndexSlice Object\n",
    "health_data.loc[idx[:, 1], idx[:, 'HR']] # 계층 슬라이싱을 할 때에는 IndexSlice Object 사용\n",
    "```\n",
    "계층 인덱싱을 가진 Series는 개념적으로 DataFrame과 동일하므로 ``stack(), unstack()`` method를 통해 상호 변환이 가능하다. level 지정 가능\n",
    "\n",
    "```python\n",
    "data.sort_index() # 인덱스 정렬\n",
    "data.sortlevel() # level 정렬\n",
    "data.reset_index(name) # index를 column으로 변환\n",
    "data.set_index(column) # column을 index로 변환\n",
    "```\n",
    "\n",
    "계층 인덱싱된 data에 aggregation 함수를 적용할 때 level 속성을 지정할 수 있다."
   ]
  },
  {
   "cell_type": "markdown",
   "metadata": {},
   "source": [
    "### 합치기 Concat & Append\n",
    "``pd.concat``\n",
    "```python\n",
    "pd.concat(objs, axis=0, join='outer', join_axes=None, ignore_index=False,\n",
    "          keys=None, levels=None, names=None, verify_integrity=False,\n",
    "          copy=True)\n",
    "pd.concat([x,y]) # x, y 합치기, index 중복되어도 유지\n",
    "pd.concat([x,y], verify_integrity=True) # index 중복되면 오류 처리\n",
    "pd.concat([x,y], axis=1) # 열 방향 결합\n",
    "pd.concat([x,y], ignore_index=True) # 중복 무시하고 결합 (index가 변경됨)\n",
    "pd.concat([x,y], keys=['x', 'y']) # 계층 인덱싱으로 생성\n",
    "pd.concat([x,y], join='inner') # 교집합 (default=outer)\n",
    "```\n",
    "\n",
    "``pd.merge``\n",
    "```python\n",
    "pd.merge(df1, df2) # 공통 column을 파악하고 결합\n",
    "pd.merge(df1, df2, on='employee') # employee column을 기준으로 결합\n",
    "pd.merge(df1, df2, left_on='employee', right_on='name') # 두 DataFrame에서 같은 데이터지만 column 이름이 다른 경우\n",
    "pd.merge(df1, df2, left_index=True, right_index=True) # index를 key로 사용\n",
    "df1.join(df2) # index 기반 merge\n",
    "# index와 column을 혼합하여 key로 사용 가능\n",
    "pd.merge(df1, df2, how='outer') # 합집합, left : 왼쪽 기준, right : 오른쪽 기준, default : inner 교집합\n",
    "pd.merge(df1, df2, suffixes=['_x', '_y']) # column에 중복이 있을 때 접미어 붙이기"
   ]
  },
  {
   "cell_type": "markdown",
   "metadata": {},
   "source": [
    "### 그룹 Aggregation & Grouping\n",
    "\n",
    "DataFrame에서는 default로 column단위 aggregation (axis 지정)\n",
    "| Aggregation              | Description                     |\n",
    "|--------------------------|---------------------------------|\n",
    "| ``count()``              | 아이템 갯수|\n",
    "| ``first()``, ``last()``  | 첫번째, 마지막 아이템|\n",
    "| ``mean()``, ``median()`` |평균, 중앙값|\n",
    "| ``min()``, ``max()``     |최소, 최대|\n",
    "| ``std()``, ``var()``     |표준편차, 분산|\n",
    "| ``mad()``                | 평균 절대편차         |\n",
    "| ``prod()``               | 곱|\n",
    "| ``sum()``                | 합|\n",
    "\n",
    "```python\n",
    "df.describe() # 주요 aggregation 결과\n",
    "df.groupby(column) # 데이터 그룹화 (aggregation 함수를 사용해야 결과가 나옴)\n",
    "df.groupby('key').aggreagte([min, np.median, max]) # column별로 aggregation 함수 사용\n",
    "df.groupby('key').aggregate({'data1': 'min', 'data2': 'max'}) # column별로 다른 aggregation 적용\n",
    "df.groupby('key').filter(filter_func) # 조건을 만족하지 않는 특정 그룹 제거(함수 만들어서 사용)\n",
    "df.groupby('key').transformation(lambda x: x-x.mean()) # 그룹별 데이터 변환\n",
    "df.groupby('key').apply(norm_by_data2) # 그룹단위 임의의 함수 적용\n",
    "```"
   ]
  },
  {
   "cell_type": "markdown",
   "metadata": {},
   "source": [
    "### 피벗 테이블 Pivot Table"
   ]
  },
  {
   "cell_type": "markdown",
   "metadata": {},
   "source": [
    "```python\n",
    "DataFrame.pivot_table(data, values=None, index=None, columns=None,\n",
    "                      aggfunc='mean', fill_value=None, margins=False,\n",
    "                      dropna=True, margins_name='All')\n",
    "                      \n",
    "titanic.pivot_table('survived', index='sex', columns='class') # 성별, 좌석등급 별 생존율 평균 계산\n",
    "# multi-level로도 생성 가능\n",
    "margins : total\n",
    "```"
   ]
  },
  {
   "cell_type": "markdown",
   "metadata": {},
   "source": [
    "### 문자열 String\n",
    "\n",
    "monte.str.lower(), ...\n",
    "|``len()``    | ``lower()``      | ``translate()``  | ``islower()``    |\n",
    "|-------------|------------------|------------------|------------------|\n",
    "|``ljust()``  | ``upper()``      | ``startswith()`` | ``isupper()``    | \n",
    "|``rjust()``  | ``find()``       | ``endswith()``   | ``isnumeric()``  | \n",
    "|``center()`` | ``rfind()``      | ``isalnum()``    | ``isdecimal()``  | \n",
    "|``zfill()``  | ``index()``      | ``isalpha()``    | ``split()``      | \n",
    "|``strip()``  | ``rindex()``     | ``isdigit()``    | ``rsplit()``     | \n",
    "|``rstrip()`` | ``capitalize()`` | ``isspace()``    | ``partition()``  | \n",
    "|``lstrip()`` |  ``swapcase()``  |  ``istitle()``   | ``rpartition()`` |\n",
    "\n",
    "정규 표현식\n",
    "| Method | Description |\n",
    "|--------|-------------|\n",
    "| ``match()`` | Call ``re.match()`` on each element, returning a boolean. |\n",
    "| ``extract()`` | Call ``re.match()`` on each element, returning matched groups as strings.|\n",
    "| ``findall()`` | Call ``re.findall()`` on each element |\n",
    "| ``replace()`` | Replace occurrences of pattern with some other string|\n",
    "| ``contains()`` | Call ``re.search()`` on each element, returning a boolean |\n",
    "| ``count()`` | Count occurrences of pattern|\n",
    "| ``split()``   | Equivalent to ``str.split()``, but accepts regexps |\n",
    "| ``rsplit()`` | Equivalent to ``str.rsplit()``, but accepts regexps |"
   ]
  },
  {
   "cell_type": "markdown",
   "metadata": {},
   "source": [
    "### 시간 Time\n",
    "\n",
    "``datetime64`` dtype을 이용하여 시간 정보의 계산 가능\n",
    "```python\n",
    "date = np.array('2015-07-04', dtype=np.datetime64) # 2015년 7월 4일 날짜 데이터\n",
    "data+np.arange(12) # 7월 4일~7월 15일 array\n",
    "Y : year, M : month, W : week, D : day, h : hour, m : minute, s : second\n",
    "\n",
    "date=pd.to_datetime(\"4th of July, 2015\") # Timestamp 데이터 생성\n",
    "date.strftime(\"%A\") # 요일\n",
    "date + pd.to_timedelta(np.arange(12), 'D') # 날짜를 더함\n",
    "```\n",
    "``Timestamp`` : 시각 (DatetimeIndex)\n",
    "\n",
    "``Period`` : 기간 (PeriodIndex)\n",
    "\n",
    "``Timedelta`` : 시간 (TimedeltaIndex)\n",
    "```python\n",
    "pd.date_range('2015-07-03', '2015-07-10') # 날짜\n",
    "pd.date_range('2015-07-03', periods=8) # 날짜\n",
    "pd.date_range('2015-07-03', periods=8, freq='H') # 시"
   ]
  },
  {
   "cell_type": "markdown",
   "metadata": {},
   "source": [
    "### Eval & Query\n",
    "\n",
    "string expression을 ``eval()`` function에 전달하여 처리하면 더 효율적이다.\n",
    "\n",
    "```python\n",
    "pd.eval('df1+df2+df3+df4') # 데이터프레임 끼리의 합을 eval로 연산\n",
    "df.eval('(A + B) / (C - 1)') # column name으로 축약 가능\n",
    "\n",
    "df.query('A < 0.5 and B < 0.5') # query를 이용한 filtering\n",
    "# @을 붙이면 지역 변수 접근 가능\n",
    "```"
   ]
  }
 ],
 "metadata": {
  "interpreter": {
   "hash": "006e8867145289ae3feb8f4baa4f87f916c365a8ead7bc430170ed209ed31c25"
  },
  "kernelspec": {
   "display_name": "Python 3.9.7 ('base')",
   "language": "python",
   "name": "python3"
  },
  "language_info": {
   "name": "python",
   "version": "3.9.7"
  },
  "orig_nbformat": 4
 },
 "nbformat": 4,
 "nbformat_minor": 2
}
