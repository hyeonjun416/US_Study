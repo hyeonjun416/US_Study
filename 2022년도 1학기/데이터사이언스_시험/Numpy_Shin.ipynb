{
  "nbformat": 4,
  "nbformat_minor": 0,
  "metadata": {
    "colab": {
      "name": "Numpy.ipynb",
      "provenance": [],
      "toc_visible": true,
      "collapsed_sections": [
        "-SXY29dIXvVN",
        "lHqIi8LEcHsy",
        "ljg_7uzI6ekY",
        "7WvVzKZdb-ak",
        "ax1GYtIQcEwX",
        "ctC73fYiesFE",
        "N0dkMhvofI7s",
        "4hAwbCVPf_tu",
        "QPSo-YpAgsxL"
      ]
    },
    "kernelspec": {
      "name": "python3",
      "display_name": "Python 3"
    },
    "language_info": {
      "name": "python"
    }
  },
  "cells": [
    {
      "cell_type": "code",
      "source": [
        "import numpy as np"
      ],
      "metadata": {
        "id": "6oHGpTkqY-Ad"
      },
      "execution_count": null,
      "outputs": []
    },
    {
      "cell_type": "markdown",
      "source": [
        "# **Numpy**"
      ],
      "metadata": {
        "id": "XFJ18wnmXbdh"
      }
    },
    {
      "cell_type": "markdown",
      "source": [
        "\n",
        "\n",
        "> **행 = 가로줄 개수(x축 값의 개수)**\n",
        "\n",
        "\n",
        "> **열 = 세로줄 개수(y축 값의 개수)**\n",
        "\n",
        "\n",
        "\n",
        "\n"
      ],
      "metadata": {
        "id": "rLAtSZZBbC-T"
      }
    },
    {
      "cell_type": "markdown",
      "source": [
        "## 선언 방식\n",
        "\n",
        "\n",
        "1.   np.array([1, 2, 3, 4, 5])\n",
        "2.   np.zeros, np.ones, np.full, np.arange, np.linspace, np.empty, np.eye\n",
        "3.   np.random.~"
      ],
      "metadata": {
        "id": "-SXY29dIXvVN"
      }
    },
    {
      "cell_type": "markdown",
      "source": [
        "### 1.np.array\n",
        "\n",
        "\n",
        "> np.array 항목에 int와 float을 작성했을 때 정보 손실을 최소화하는 방법으로 compile.\n",
        "\n"
      ],
      "metadata": {
        "id": "3bK85hHdY35k"
      }
    },
    {
      "cell_type": "code",
      "source": [
        "np.array([1, 2, 3, 4, 5])"
      ],
      "metadata": {
        "colab": {
          "base_uri": "https://localhost:8080/"
        },
        "id": "1DbHr8JkYs8h",
        "outputId": "2a52b6da-3656-4ce6-b3fe-10b7fa22f3bb"
      },
      "execution_count": null,
      "outputs": [
        {
          "output_type": "execute_result",
          "data": {
            "text/plain": [
              "array([1, 2, 3, 4, 5])"
            ]
          },
          "metadata": {},
          "execution_count": 2
        }
      ]
    },
    {
      "cell_type": "code",
      "source": [
        "np.array([3.14, 2, 4, 5])"
      ],
      "metadata": {
        "colab": {
          "base_uri": "https://localhost:8080/"
        },
        "id": "PFRAS-NSZKia",
        "outputId": "9752e50a-1372-4166-bb16-7b51f3757605"
      },
      "execution_count": null,
      "outputs": [
        {
          "output_type": "execute_result",
          "data": {
            "text/plain": [
              "array([3.14, 2.  , 4.  , 5.  ])"
            ]
          },
          "metadata": {},
          "execution_count": 3
        }
      ]
    },
    {
      "cell_type": "code",
      "source": [
        "np.array([1, 2, 3, 4, 5], dtype='float32') # 이처럼 dtype을 사용하여 Numpy Array의 데이터 타입을 변경 가능"
      ],
      "metadata": {
        "colab": {
          "base_uri": "https://localhost:8080/"
        },
        "id": "NHiWgR1aZfTV",
        "outputId": "b157bb57-4b1c-4c04-8fc9-f528c9ef13c0"
      },
      "execution_count": null,
      "outputs": [
        {
          "output_type": "execute_result",
          "data": {
            "text/plain": [
              "array([1., 2., 3., 4., 5.], dtype=float32)"
            ]
          },
          "metadata": {},
          "execution_count": 5
        }
      ]
    },
    {
      "cell_type": "code",
      "source": [
        "np.array([range(i, i+3) for i in [2,4,6]])\n",
        "# < 구현 방식 - list comprehension >\n",
        "# np.array([range(2, 5)])\n",
        "# np.array([range(4,7)])\n",
        "# np.array([range(6,9)])"
      ],
      "metadata": {
        "colab": {
          "base_uri": "https://localhost:8080/"
        },
        "id": "pyVuohkoZkNF",
        "outputId": "17519e9f-1776-48ae-99c1-a5cdd1f9e28e"
      },
      "execution_count": null,
      "outputs": [
        {
          "output_type": "execute_result",
          "data": {
            "text/plain": [
              "array([[2, 3, 4],\n",
              "       [4, 5, 6],\n",
              "       [6, 7, 8]])"
            ]
          },
          "metadata": {},
          "execution_count": 8
        }
      ]
    },
    {
      "cell_type": "markdown",
      "source": [
        "### 2. 편리한 선언 도구들"
      ],
      "metadata": {
        "id": "3aZfI9PPaXSS"
      }
    },
    {
      "cell_type": "code",
      "source": [
        "np.zeros(10, dtype='int')"
      ],
      "metadata": {
        "colab": {
          "base_uri": "https://localhost:8080/"
        },
        "id": "BLtrd4n-akGc",
        "outputId": "ff5030a0-7f28-4880-d1cd-97c46973c85c"
      },
      "execution_count": null,
      "outputs": [
        {
          "output_type": "execute_result",
          "data": {
            "text/plain": [
              "array([0, 0, 0, 0, 0, 0, 0, 0, 0, 0])"
            ]
          },
          "metadata": {},
          "execution_count": 9
        }
      ]
    },
    {
      "cell_type": "code",
      "source": [
        "np.ones((3,5), dtype=float) # 3행 5열"
      ],
      "metadata": {
        "colab": {
          "base_uri": "https://localhost:8080/"
        },
        "id": "gi0rQaU4apYB",
        "outputId": "0e90b210-64a5-4e0f-cf1f-c77c9f782139"
      },
      "execution_count": null,
      "outputs": [
        {
          "output_type": "execute_result",
          "data": {
            "text/plain": [
              "array([[1., 1., 1., 1., 1.],\n",
              "       [1., 1., 1., 1., 1.],\n",
              "       [1., 1., 1., 1., 1.]])"
            ]
          },
          "metadata": {},
          "execution_count": 12
        }
      ]
    },
    {
      "cell_type": "code",
      "source": [
        "np.full((3,4), 3.14) # 3행 4열"
      ],
      "metadata": {
        "colab": {
          "base_uri": "https://localhost:8080/"
        },
        "id": "_QiweD-8atzz",
        "outputId": "3f048059-9e72-45bf-91a3-0ccbdaa31dd0"
      },
      "execution_count": null,
      "outputs": [
        {
          "output_type": "execute_result",
          "data": {
            "text/plain": [
              "array([[3.14, 3.14, 3.14, 3.14],\n",
              "       [3.14, 3.14, 3.14, 3.14],\n",
              "       [3.14, 3.14, 3.14, 3.14]])"
            ]
          },
          "metadata": {},
          "execution_count": 15
        }
      ]
    },
    {
      "cell_type": "code",
      "source": [
        "np.arange(0, 20, 2) # np.arange(start, stop, step)"
      ],
      "metadata": {
        "colab": {
          "base_uri": "https://localhost:8080/"
        },
        "id": "Pd1zGNdia292",
        "outputId": "3d142cd9-61f8-4390-c55b-abb15c775660"
      },
      "execution_count": null,
      "outputs": [
        {
          "output_type": "execute_result",
          "data": {
            "text/plain": [
              "array([ 0,  2,  4,  6,  8, 10, 12, 14, 16, 18])"
            ]
          },
          "metadata": {},
          "execution_count": 16
        }
      ]
    },
    {
      "cell_type": "code",
      "source": [
        "np.linspace(0, 1, 5) # 0과 1를 5등분"
      ],
      "metadata": {
        "colab": {
          "base_uri": "https://localhost:8080/"
        },
        "id": "OvdghEmDbqng",
        "outputId": "444eab4c-d5a3-4a13-d5b5-fe3b61521e62"
      },
      "execution_count": null,
      "outputs": [
        {
          "output_type": "execute_result",
          "data": {
            "text/plain": [
              "array([0.  , 0.25, 0.5 , 0.75, 1.  ])"
            ]
          },
          "metadata": {},
          "execution_count": 19
        }
      ]
    },
    {
      "cell_type": "code",
      "source": [
        "np.eye(3) # 정방 행렬"
      ],
      "metadata": {
        "colab": {
          "base_uri": "https://localhost:8080/"
        },
        "id": "bgLCWPBcbwGW",
        "outputId": "059d1ad2-5f52-45f0-ad0a-d9304b28926e"
      },
      "execution_count": null,
      "outputs": [
        {
          "output_type": "execute_result",
          "data": {
            "text/plain": [
              "array([[1., 0., 0.],\n",
              "       [0., 1., 0.],\n",
              "       [0., 0., 1.]])"
            ]
          },
          "metadata": {},
          "execution_count": 20
        }
      ]
    },
    {
      "cell_type": "code",
      "source": [
        "np.empty(3)"
      ],
      "metadata": {
        "colab": {
          "base_uri": "https://localhost:8080/"
        },
        "id": "MRhGTXzFcBQz",
        "outputId": "68416be5-8582-43b9-8cbf-3cff1171a220"
      },
      "execution_count": null,
      "outputs": [
        {
          "output_type": "execute_result",
          "data": {
            "text/plain": [
              "array([1., 1., 1.])"
            ]
          },
          "metadata": {},
          "execution_count": 21
        }
      ]
    },
    {
      "cell_type": "code",
      "source": [
        ""
      ],
      "metadata": {
        "id": "-CdZTbBkcDxK"
      },
      "execution_count": null,
      "outputs": []
    },
    {
      "cell_type": "markdown",
      "source": [
        "#### np.random.~\n",
        "\n",
        "\n",
        "1.   np.random.random - 0과 1 사이의 숫자를 무작위 출력\n",
        "2.   np.random.randint - 지정한 범위 사이의 값을 int형으로 무작위 출력\n",
        "3.   np.random.normal(avg, 표준 편차, shape) - 정규 분포\n",
        "4.   np.random.seed - 항상 똑같은 random 값 출력을 위해 사용\n",
        "5.   np.random.RandomState(num) - num은 일종의 RandomState의 번호.\n",
        "> 이를 지정하지 않을 경우, 여러개의 RandomState 사용시 모두 같은 random 값 출력\n"
      ],
      "metadata": {
        "id": "lHqIi8LEcHsy"
      }
    },
    {
      "cell_type": "code",
      "source": [
        "np.random.random((3,3))"
      ],
      "metadata": {
        "colab": {
          "base_uri": "https://localhost:8080/"
        },
        "id": "SCuu_yLwetKK",
        "outputId": "fd8b8766-1726-440c-be77-aa8a01f54437"
      },
      "execution_count": null,
      "outputs": [
        {
          "output_type": "execute_result",
          "data": {
            "text/plain": [
              "array([[0.36942919, 0.04999422, 0.8210913 ],\n",
              "       [0.06370908, 0.99651334, 0.73394383],\n",
              "       [0.88997669, 0.35460493, 0.45826375]])"
            ]
          },
          "metadata": {},
          "execution_count": 22
        }
      ]
    },
    {
      "cell_type": "code",
      "source": [
        "np.random.normal(5, 2, (3,3))"
      ],
      "metadata": {
        "colab": {
          "base_uri": "https://localhost:8080/"
        },
        "id": "9bmyZ9Oqfz7b",
        "outputId": "96ce36b3-ec32-4c99-a0b0-abcd25dce0e0"
      },
      "execution_count": null,
      "outputs": [
        {
          "output_type": "execute_result",
          "data": {
            "text/plain": [
              "array([[9.83635233, 3.7953235 , 4.88992361],\n",
              "       [9.03438481, 3.21141888, 6.25228999],\n",
              "       [4.59189679, 5.50402554, 4.36119836]])"
            ]
          },
          "metadata": {},
          "execution_count": 24
        }
      ]
    },
    {
      "cell_type": "code",
      "source": [
        "np.random.randint(0, 10, (3,3))"
      ],
      "metadata": {
        "colab": {
          "base_uri": "https://localhost:8080/"
        },
        "id": "OiAf0k5gf2O0",
        "outputId": "cd6d3504-9331-42ac-b4ad-c071038d5bc3"
      },
      "execution_count": null,
      "outputs": [
        {
          "output_type": "execute_result",
          "data": {
            "text/plain": [
              "array([[5, 9, 7],\n",
              "       [7, 6, 3],\n",
              "       [9, 5, 8]])"
            ]
          },
          "metadata": {},
          "execution_count": 25
        }
      ]
    },
    {
      "cell_type": "code",
      "source": [
        "np.random.seed(0)\n",
        "\n",
        "x1 = np.random.randint(10, size=6)\n",
        "x2 = np.random.randint(10, size=(3,3))\n",
        "x3 = np.random.randint(10, size=(3,4,5))"
      ],
      "metadata": {
        "id": "LMmNQHlLgMV0"
      },
      "execution_count": null,
      "outputs": []
    },
    {
      "cell_type": "markdown",
      "source": [
        "## 연산자\n",
        "\n",
        "\n",
        "1.   Attributes of array - ndim, shape, size, dtype, itemsize, nbytes\n",
        "2.   Indexing\n",
        "3.   Slicing\n",
        "4.   Reshape\n",
        "5.   Concatenation and Splitting\n"
      ],
      "metadata": {
        "id": "QcTkJAI1hOfc"
      }
    },
    {
      "cell_type": "markdown",
      "source": [
        "### 1. Attributes of Array"
      ],
      "metadata": {
        "id": "SyOIE7GyiY5g"
      }
    },
    {
      "cell_type": "code",
      "source": [
        "print(\"x3 ndim : \", x3.ndim)\n",
        "print(\"x3 shpae : \", x3.shape)\n",
        "print(\"x3 size : \", x3.size)\n",
        "print(\"x3 dtype : \", x3.dtype)\n",
        "print(\"x3 itemsize : \", x3.itemsize, \"bytes\")\n",
        "print(\"x3 nbytes : \", x3.nbytes, \"bytes\") # nbytes = itemsize * size"
      ],
      "metadata": {
        "colab": {
          "base_uri": "https://localhost:8080/"
        },
        "id": "M4yPUHpaib5e",
        "outputId": "57a7c8d0-064d-42f1-a7d0-6dc533032205"
      },
      "execution_count": null,
      "outputs": [
        {
          "output_type": "stream",
          "name": "stdout",
          "text": [
            "x3 ndim :  3\n",
            "x3 shpae :  (3, 4, 5)\n",
            "x3 size :  60\n",
            "x3 dtype :  int64\n",
            "x3 itemsize :  8 bytes\n",
            "x3 nbytes :  480 bytes\n"
          ]
        }
      ]
    },
    {
      "cell_type": "markdown",
      "source": [
        "### 2. Indexing"
      ],
      "metadata": {
        "id": "uybpbphajBCP"
      }
    },
    {
      "cell_type": "code",
      "source": [
        "x1"
      ],
      "metadata": {
        "colab": {
          "base_uri": "https://localhost:8080/"
        },
        "id": "8des0lAmje7Q",
        "outputId": "0918b9d4-7cf2-44c0-bf74-5405df3dbb7a"
      },
      "execution_count": null,
      "outputs": [
        {
          "output_type": "execute_result",
          "data": {
            "text/plain": [
              "array([5, 0, 3, 3, 7, 9])"
            ]
          },
          "metadata": {},
          "execution_count": 35
        }
      ]
    },
    {
      "cell_type": "code",
      "source": [
        "print(x1[0])\n",
        "print(x1[1])\n",
        "print(x1[5])\n",
        "print(x1[-1])"
      ],
      "metadata": {
        "colab": {
          "base_uri": "https://localhost:8080/"
        },
        "id": "ltZhkORLjg7D",
        "outputId": "bf0e3fba-40fd-4fbc-f061-784b9e6c5e4a"
      },
      "execution_count": null,
      "outputs": [
        {
          "output_type": "stream",
          "name": "stdout",
          "text": [
            "5\n",
            "0\n",
            "9\n",
            "9\n"
          ]
        }
      ]
    },
    {
      "cell_type": "code",
      "source": [
        "print(x2[0,0])\n",
        "print(x2[2,0])\n",
        "x2[0, 0] = 12\n",
        "print(x2[0,0])"
      ],
      "metadata": {
        "colab": {
          "base_uri": "https://localhost:8080/"
        },
        "id": "MUZezEfhjnuY",
        "outputId": "cbcfa592-b878-4170-a480-4b5b204dc226"
      },
      "execution_count": null,
      "outputs": [
        {
          "output_type": "stream",
          "name": "stdout",
          "text": [
            "3\n",
            "8\n",
            "12\n"
          ]
        }
      ]
    },
    {
      "cell_type": "markdown",
      "source": [
        "#### Fancy Indexing\n",
        "\n",
        "\n",
        "*   Fancy Indexing 결과 shape은 index array의 shape을 따름. 즉, 참조하는 본래 array의 shape이 아님.\n",
        "\n"
      ],
      "metadata": {
        "id": "ljg_7uzI6ekY"
      }
    },
    {
      "cell_type": "code",
      "source": [
        "rand = np.random.RandomState(42)\n",
        "\n",
        "fcy = rand.randint(100, size=10)\n",
        "print(fcy)"
      ],
      "metadata": {
        "colab": {
          "base_uri": "https://localhost:8080/"
        },
        "id": "xsKpZRlv6w1O",
        "outputId": "b6c83f8c-bb8c-4e8f-d286-4879e8056189"
      },
      "execution_count": null,
      "outputs": [
        {
          "output_type": "stream",
          "name": "stdout",
          "text": [
            "[51 92 14 71 60 20 82 86 74 74]\n"
          ]
        }
      ]
    },
    {
      "cell_type": "code",
      "source": [
        "idx = [3, 7, 4]\n",
        "fcy[idx]"
      ],
      "metadata": {
        "colab": {
          "base_uri": "https://localhost:8080/"
        },
        "id": "WBkev2Ii69-t",
        "outputId": "5bb1402d-ed50-47e5-89d9-d7ed538e9360"
      },
      "execution_count": null,
      "outputs": [
        {
          "output_type": "execute_result",
          "data": {
            "text/plain": [
              "array([71, 86, 60])"
            ]
          },
          "metadata": {},
          "execution_count": 101
        }
      ]
    },
    {
      "cell_type": "code",
      "source": [
        "idx2 = np.array([[3,7],\n",
        "                 [4,5]])\n",
        "fcy[idx2]\n",
        "print(\"fcy shape : \", fcy.shape)\n",
        "print(\"idx2 shape : \", idx2.shape)\n",
        "print(\"fcy[idx2] shape : \", fcy[idx2].shape)"
      ],
      "metadata": {
        "colab": {
          "base_uri": "https://localhost:8080/"
        },
        "id": "LFctwlSw7EGF",
        "outputId": "f54bac86-b923-4e3a-92f4-86a6da5201b4"
      },
      "execution_count": null,
      "outputs": [
        {
          "output_type": "stream",
          "name": "stdout",
          "text": [
            "fcy shape :  (10,)\n",
            "idx2 shape :  (2, 2)\n",
            "fcy[idx2] shape :  (2, 2)\n"
          ]
        }
      ]
    },
    {
      "cell_type": "code",
      "source": [
        "sec_dim = np.arange(1,13).reshape((3,4))\n",
        "sec_dim"
      ],
      "metadata": {
        "colab": {
          "base_uri": "https://localhost:8080/"
        },
        "id": "hM-Ap6tA8PsJ",
        "outputId": "7abf3860-39dd-44b4-e0de-5a42bc0d193c"
      },
      "execution_count": null,
      "outputs": [
        {
          "output_type": "execute_result",
          "data": {
            "text/plain": [
              "array([[ 1,  2,  3,  4],\n",
              "       [ 5,  6,  7,  8],\n",
              "       [ 9, 10, 11, 12]])"
            ]
          },
          "metadata": {},
          "execution_count": 104
        }
      ]
    },
    {
      "cell_type": "code",
      "source": [
        "row = np.array([0,1,2])\n",
        "col = np.array([2,1,3])\n",
        "sec_dim[row, col] # [0,2], [1,1], [2,3] 이 배열로 출력됨."
      ],
      "metadata": {
        "colab": {
          "base_uri": "https://localhost:8080/"
        },
        "id": "_5qMq4rU8bGe",
        "outputId": "039018d0-a140-419a-dd72-3bfe5f3004dc"
      },
      "execution_count": null,
      "outputs": [
        {
          "output_type": "execute_result",
          "data": {
            "text/plain": [
              "array([ 3,  6, 12])"
            ]
          },
          "metadata": {},
          "execution_count": 106
        }
      ]
    },
    {
      "cell_type": "markdown",
      "source": [
        "### 3. Slicing\n",
        "\n",
        "\n",
        "> array_name[start:stop:step] - step이 음수인 경우, 역순 array 생성 & start, stop의 default 서로 바뀜\n",
        "\n",
        "> 대량의 데이터를 slice하여 변경하면 원본도 변경된다 (copy를 이용해 문제해결)\n",
        "\n",
        "\n",
        "\n",
        "\n",
        "\n"
      ],
      "metadata": {
        "id": "Wh4tZu70kBAi"
      }
    },
    {
      "cell_type": "markdown",
      "source": [
        "#### 1차원 배열"
      ],
      "metadata": {
        "id": "N_dkpGMykV2C"
      }
    },
    {
      "cell_type": "code",
      "source": [
        "one = np.arange(10)\n",
        "one"
      ],
      "metadata": {
        "colab": {
          "base_uri": "https://localhost:8080/"
        },
        "id": "iVE8JrajkZgE",
        "outputId": "42173a6d-1eee-4ab2-90ad-0d8a9a4f636a"
      },
      "execution_count": null,
      "outputs": [
        {
          "output_type": "execute_result",
          "data": {
            "text/plain": [
              "array([0, 1, 2, 3, 4, 5, 6, 7, 8, 9])"
            ]
          },
          "metadata": {},
          "execution_count": 40
        }
      ]
    },
    {
      "cell_type": "code",
      "source": [
        "one[:5] # 처음 ~ 5번째 원소"
      ],
      "metadata": {
        "colab": {
          "base_uri": "https://localhost:8080/"
        },
        "id": "3hx3kITpkdsx",
        "outputId": "ada75c39-c294-465d-dbfe-45699903a71a"
      },
      "execution_count": null,
      "outputs": [
        {
          "output_type": "execute_result",
          "data": {
            "text/plain": [
              "array([0, 1, 2, 3, 4])"
            ]
          },
          "metadata": {},
          "execution_count": 46
        }
      ]
    },
    {
      "cell_type": "code",
      "source": [
        "one[5:] # 5번 인덱스 ~ 마지막"
      ],
      "metadata": {
        "colab": {
          "base_uri": "https://localhost:8080/"
        },
        "id": "DPaObspxklek",
        "outputId": "30c64155-4a2b-47a0-85fb-6505e04cf42d"
      },
      "execution_count": null,
      "outputs": [
        {
          "output_type": "execute_result",
          "data": {
            "text/plain": [
              "array([5, 6, 7, 8, 9])"
            ]
          },
          "metadata": {},
          "execution_count": 47
        }
      ]
    },
    {
      "cell_type": "code",
      "source": [
        "one[4:7] # 4번 인덱스 ~ 7번째 원소"
      ],
      "metadata": {
        "colab": {
          "base_uri": "https://localhost:8080/"
        },
        "id": "-gNrOaCJkvG8",
        "outputId": "979609e2-9284-4899-90b5-f6603d89a8cc"
      },
      "execution_count": null,
      "outputs": [
        {
          "output_type": "execute_result",
          "data": {
            "text/plain": [
              "array([4, 5, 6])"
            ]
          },
          "metadata": {},
          "execution_count": 45
        }
      ]
    },
    {
      "cell_type": "code",
      "source": [
        "one[::2] # 2칸씩 띄엄띄엄 출력"
      ],
      "metadata": {
        "colab": {
          "base_uri": "https://localhost:8080/"
        },
        "id": "lrkclraXk143",
        "outputId": "b842730f-0128-40cd-e70c-9258114e295c"
      },
      "execution_count": null,
      "outputs": [
        {
          "output_type": "execute_result",
          "data": {
            "text/plain": [
              "array([0, 2, 4, 6, 8])"
            ]
          },
          "metadata": {},
          "execution_count": 49
        }
      ]
    },
    {
      "cell_type": "code",
      "source": [
        "one[1::2] # 1번 인덱스부터 마지막까지 2칸씩 띄어서 출력"
      ],
      "metadata": {
        "colab": {
          "base_uri": "https://localhost:8080/"
        },
        "id": "JHQqx-Z9lOAz",
        "outputId": "35b1537a-8b2d-49e2-a64f-cfc525223dbc"
      },
      "execution_count": null,
      "outputs": [
        {
          "output_type": "execute_result",
          "data": {
            "text/plain": [
              "array([1, 3, 5, 7, 9])"
            ]
          },
          "metadata": {},
          "execution_count": 50
        }
      ]
    },
    {
      "cell_type": "code",
      "source": [
        "one[::-1] # 역순 배열"
      ],
      "metadata": {
        "colab": {
          "base_uri": "https://localhost:8080/"
        },
        "id": "JOo2kw84lbYE",
        "outputId": "4282eb1b-8b4f-4ca2-fc3f-120d19dc6875"
      },
      "execution_count": null,
      "outputs": [
        {
          "output_type": "execute_result",
          "data": {
            "text/plain": [
              "array([9, 8, 7, 6, 5, 4, 3, 2, 1, 0])"
            ]
          },
          "metadata": {},
          "execution_count": 51
        }
      ]
    },
    {
      "cell_type": "code",
      "source": [
        "one[5::-2] # (역순 기준)5번째 원소 ~ 마지막까지 2칸씩 띄어서 출력 "
      ],
      "metadata": {
        "colab": {
          "base_uri": "https://localhost:8080/"
        },
        "id": "UqTN-A2llqG8",
        "outputId": "c7c12daf-2589-4143-b60e-072f0fe46867"
      },
      "execution_count": null,
      "outputs": [
        {
          "output_type": "execute_result",
          "data": {
            "text/plain": [
              "array([5, 3, 1])"
            ]
          },
          "metadata": {},
          "execution_count": 52
        }
      ]
    },
    {
      "cell_type": "markdown",
      "source": [
        "#### 2차원 배열"
      ],
      "metadata": {
        "id": "bfok9QPpmX9o"
      }
    },
    {
      "cell_type": "code",
      "source": [
        "two = np.arange(1, 13)\n",
        "two = two.reshape((3,4))\n",
        "two"
      ],
      "metadata": {
        "colab": {
          "base_uri": "https://localhost:8080/"
        },
        "id": "7UqQ4viNmarH",
        "outputId": "40138477-2a8b-4e22-ad37-85c153fc76f8"
      },
      "execution_count": null,
      "outputs": [
        {
          "output_type": "execute_result",
          "data": {
            "text/plain": [
              "array([[ 1,  2,  3,  4],\n",
              "       [ 5,  6,  7,  8],\n",
              "       [ 9, 10, 11, 12]])"
            ]
          },
          "metadata": {},
          "execution_count": 68
        }
      ]
    },
    {
      "cell_type": "code",
      "source": [
        "two[:2, :3] # 두 개의 행, 세 개의 열"
      ],
      "metadata": {
        "colab": {
          "base_uri": "https://localhost:8080/"
        },
        "id": "8fodiQPSml8a",
        "outputId": "6b771473-3e26-42fa-8853-91339c37bce9"
      },
      "execution_count": null,
      "outputs": [
        {
          "output_type": "execute_result",
          "data": {
            "text/plain": [
              "array([[1, 2, 3],\n",
              "       [5, 6, 7]])"
            ]
          },
          "metadata": {},
          "execution_count": 66
        }
      ]
    },
    {
      "cell_type": "code",
      "source": [
        "two[:3, ::2] # 세 개의 행, 열은 두칸 씩 띄움."
      ],
      "metadata": {
        "colab": {
          "base_uri": "https://localhost:8080/"
        },
        "id": "9aalX3I0nQEz",
        "outputId": "af90fc21-d941-492e-e647-d808af64aac1"
      },
      "execution_count": null,
      "outputs": [
        {
          "output_type": "execute_result",
          "data": {
            "text/plain": [
              "array([[ 1,  3],\n",
              "       [ 5,  7],\n",
              "       [ 9, 11]])"
            ]
          },
          "metadata": {},
          "execution_count": 69
        }
      ]
    },
    {
      "cell_type": "code",
      "source": [
        "two[::-1, ::-1] # 행과 열 역순"
      ],
      "metadata": {
        "colab": {
          "base_uri": "https://localhost:8080/"
        },
        "id": "w6Ew13SinnHc",
        "outputId": "bff00bad-3669-47d4-bbdd-3760c6b645db"
      },
      "execution_count": null,
      "outputs": [
        {
          "output_type": "execute_result",
          "data": {
            "text/plain": [
              "array([[12, 11, 10,  9],\n",
              "       [ 8,  7,  6,  5],\n",
              "       [ 4,  3,  2,  1]])"
            ]
          },
          "metadata": {},
          "execution_count": 70
        }
      ]
    },
    {
      "cell_type": "code",
      "source": [
        "print(two[:, 0]) # 모든 행에서 0번 인덱스의 열만 출력"
      ],
      "metadata": {
        "colab": {
          "base_uri": "https://localhost:8080/"
        },
        "id": "a0l21qwtn4BC",
        "outputId": "1e4633f6-0271-4ade-ce25-07013d22200f"
      },
      "execution_count": null,
      "outputs": [
        {
          "output_type": "stream",
          "name": "stdout",
          "text": [
            "[1 5 9]\n"
          ]
        }
      ]
    },
    {
      "cell_type": "code",
      "source": [
        "print(two[0, :]) # 0번 인덱스 행의 열 모두 출력\n",
        "# = print(two[0])"
      ],
      "metadata": {
        "colab": {
          "base_uri": "https://localhost:8080/"
        },
        "id": "C7p6ljmboG_Z",
        "outputId": "27dde19d-e8e4-4884-a89f-f57e84a5b491"
      },
      "execution_count": null,
      "outputs": [
        {
          "output_type": "stream",
          "name": "stdout",
          "text": [
            "[1 2 3 4]\n"
          ]
        }
      ]
    },
    {
      "cell_type": "code",
      "source": [
        "t_sub = two[:2, :2]\n",
        "print(t_sub)"
      ],
      "metadata": {
        "colab": {
          "base_uri": "https://localhost:8080/"
        },
        "id": "7Jw5LYrcoWdS",
        "outputId": "febf6dcd-e111-4d2f-b8ef-b403d8561717"
      },
      "execution_count": null,
      "outputs": [
        {
          "output_type": "stream",
          "name": "stdout",
          "text": [
            "[[1 2]\n",
            " [5 6]]\n"
          ]
        }
      ]
    },
    {
      "cell_type": "code",
      "source": [
        "t_sub[0, 0] = 99\n",
        "print(t_sub)\n",
        "print(two)"
      ],
      "metadata": {
        "colab": {
          "base_uri": "https://localhost:8080/"
        },
        "id": "wNMpHxxfpBGk",
        "outputId": "2a704e16-11e5-4972-9c52-965bd3bdd56c"
      },
      "execution_count": null,
      "outputs": [
        {
          "output_type": "stream",
          "name": "stdout",
          "text": [
            "[[99  2]\n",
            " [ 5  6]]\n",
            "[[99  2  3  4]\n",
            " [ 5  6  7  8]\n",
            " [ 9 10 11 12]]\n"
          ]
        }
      ]
    },
    {
      "cell_type": "code",
      "source": [
        "t_sub[0, 0] = 1 # two 값 복구"
      ],
      "metadata": {
        "id": "Cz7TEIdwpHEX"
      },
      "execution_count": null,
      "outputs": []
    },
    {
      "cell_type": "code",
      "source": [
        "t_sub_copy = two[:2, :2].copy()\n",
        "print('< Copy_before > \\n', t_sub_copy)\n",
        "t_sub_copy[0,0] = 99\n",
        "print('< Copy_after_modify > \\n', t_sub_copy)\n",
        "print(' < The original data > \\n', two)"
      ],
      "metadata": {
        "colab": {
          "base_uri": "https://localhost:8080/"
        },
        "id": "SYrUo4iEpMQt",
        "outputId": "189c8b17-59c3-45e2-a401-625eb32dda84"
      },
      "execution_count": null,
      "outputs": [
        {
          "output_type": "stream",
          "name": "stdout",
          "text": [
            "< Copy_before > \n",
            " [[1 2]\n",
            " [5 6]]\n",
            "< Copy_after_modify > \n",
            " [[99  2]\n",
            " [ 5  6]]\n",
            " < The original data > \n",
            " [[ 1  2  3  4]\n",
            " [ 5  6  7  8]\n",
            " [ 9 10 11 12]]\n"
          ]
        }
      ]
    },
    {
      "cell_type": "code",
      "source": [
        ""
      ],
      "metadata": {
        "id": "7UtapdpAqAXp"
      },
      "execution_count": null,
      "outputs": []
    },
    {
      "cell_type": "markdown",
      "source": [
        "### 4. Reshape\n",
        "\n",
        "\n",
        "*   newaxis = newaxis를 작성한 위치의 shape값이 1증가( 한 차원만큼 증가 )\n",
        "\n"
      ],
      "metadata": {
        "id": "9sT3wjel1HfG"
      }
    },
    {
      "cell_type": "code",
      "source": [
        "re1 = np.arange(1,7)\n",
        "print(re1.shape)\n",
        "re1.reshape((2,3))"
      ],
      "metadata": {
        "colab": {
          "base_uri": "https://localhost:8080/"
        },
        "id": "hDpHdXkt1LpJ",
        "outputId": "6652a41c-1987-414c-887c-c9c98d7d1151"
      },
      "execution_count": null,
      "outputs": [
        {
          "output_type": "stream",
          "name": "stdout",
          "text": [
            "(6,)\n"
          ]
        },
        {
          "output_type": "execute_result",
          "data": {
            "text/plain": [
              "array([[1, 2, 3],\n",
              "       [4, 5, 6]])"
            ]
          },
          "metadata": {},
          "execution_count": 84
        }
      ]
    },
    {
      "cell_type": "code",
      "source": [
        "re1[np.newaxis, :]\n",
        "test = re1.reshape((2,3))\n",
        "print(\"Original_test\\n\", test)\n",
        "print(\"After use np.newaxis\\n\", test[:, np.newaxis])"
      ],
      "metadata": {
        "colab": {
          "base_uri": "https://localhost:8080/"
        },
        "id": "FecrBksR1age",
        "outputId": "f5f22976-b5b6-498c-a8d1-d19a2f081fc4"
      },
      "execution_count": null,
      "outputs": [
        {
          "output_type": "stream",
          "name": "stdout",
          "text": [
            "Original_test\n",
            " [[1 2 3]\n",
            " [4 5 6]]\n",
            "After use np.newaxis\n",
            " [[[1 2 3]]\n",
            "\n",
            " [[4 5 6]]]\n"
          ]
        }
      ]
    },
    {
      "cell_type": "code",
      "source": [
        "re1[:, np.newaxis]"
      ],
      "metadata": {
        "colab": {
          "base_uri": "https://localhost:8080/"
        },
        "id": "zPoQKkb71qfJ",
        "outputId": "bcd93da8-6428-46d6-d9e3-96a44c7e9e82"
      },
      "execution_count": null,
      "outputs": [
        {
          "output_type": "execute_result",
          "data": {
            "text/plain": [
              "array([[1],\n",
              "       [2],\n",
              "       [3],\n",
              "       [4],\n",
              "       [5],\n",
              "       [6]])"
            ]
          },
          "metadata": {},
          "execution_count": 86
        }
      ]
    },
    {
      "cell_type": "code",
      "source": [
        ""
      ],
      "metadata": {
        "id": "yp2PAV831wB6"
      },
      "execution_count": null,
      "outputs": []
    },
    {
      "cell_type": "markdown",
      "source": [
        "### 5. 붙이기(Concatenation) and Splitting\n"
      ],
      "metadata": {
        "id": "V9doAwlR2_rJ"
      }
    },
    {
      "cell_type": "markdown",
      "source": [
        "#### Concatenation(배열끼리의 연산)\n",
        "\n",
        "1.   concatenate([a,b]) - a 뒤에 b 붙임***(axis 개념 등장)***\n",
        "2.   vstack - 한 행의 구성 개수가 같을 때 사용 가능하며 붙이고자 하는 배열이 행으로 추가됨.\n",
        "3.   hstack - 열의 구성 개수가 같을 때 사용 가능\n",
        "\n"
      ],
      "metadata": {
        "id": "m5qRDbxc3TQB"
      }
    },
    {
      "cell_type": "code",
      "source": [
        "con1 = np.array([1,2,3])\n",
        "con2 = np.array([3,2,1])\n",
        "np.concatenate([con1,con2])"
      ],
      "metadata": {
        "colab": {
          "base_uri": "https://localhost:8080/"
        },
        "id": "FpZQk81L4EFQ",
        "outputId": "13db7409-a63d-4760-f6b5-e757282c837d"
      },
      "execution_count": null,
      "outputs": [
        {
          "output_type": "execute_result",
          "data": {
            "text/plain": [
              "array([1, 2, 3, 3, 2, 1])"
            ]
          },
          "metadata": {},
          "execution_count": 93
        }
      ]
    },
    {
      "cell_type": "code",
      "source": [
        "grid = np.array([[1,2,3],\n",
        "                 [4,5,6]])\n",
        "grid"
      ],
      "metadata": {
        "colab": {
          "base_uri": "https://localhost:8080/"
        },
        "id": "7vXL4Zjw4Mys",
        "outputId": "aad9fae9-80f7-4028-e267-f7967eb694eb"
      },
      "execution_count": null,
      "outputs": [
        {
          "output_type": "execute_result",
          "data": {
            "text/plain": [
              "array([[1, 2, 3],\n",
              "       [4, 5, 6]])"
            ]
          },
          "metadata": {},
          "execution_count": 95
        }
      ]
    },
    {
      "cell_type": "code",
      "source": [
        "np.concatenate([grid,grid]) # default - axis = 0 (행이 추가됨)"
      ],
      "metadata": {
        "colab": {
          "base_uri": "https://localhost:8080/"
        },
        "id": "UJCaup0Y4Vd6",
        "outputId": "123326c8-8538-49cb-eb5f-1dca7181a660"
      },
      "execution_count": null,
      "outputs": [
        {
          "output_type": "execute_result",
          "data": {
            "text/plain": [
              "array([[1, 2, 3],\n",
              "       [4, 5, 6],\n",
              "       [1, 2, 3],\n",
              "       [4, 5, 6]])"
            ]
          },
          "metadata": {},
          "execution_count": 96
        }
      ]
    },
    {
      "cell_type": "code",
      "source": [
        "np.concatenate([grid, grid], axis=1) # axis = 1 (열이 추가됨)"
      ],
      "metadata": {
        "colab": {
          "base_uri": "https://localhost:8080/"
        },
        "id": "T4z-_y7K4e5G",
        "outputId": "7179f783-6fe6-43e1-c919-a6c72cd25a84"
      },
      "execution_count": null,
      "outputs": [
        {
          "output_type": "execute_result",
          "data": {
            "text/plain": [
              "array([[1, 2, 3, 1, 2, 3],\n",
              "       [4, 5, 6, 4, 5, 6]])"
            ]
          },
          "metadata": {},
          "execution_count": 97
        }
      ]
    },
    {
      "cell_type": "markdown",
      "source": [
        "#### Splitting"
      ],
      "metadata": {
        "id": "R8NFPTGB47aH"
      }
    },
    {
      "cell_type": "code",
      "source": [
        "sp = [1,2,3, 99, 99, 3, 2, 1]\n",
        "s1, s2, s3 = np.split(sp, [3,5]) # sp 원소들을 3번 인덱스까지 묶고, 5번 인덱스까지 묶음으로서 나눔\n",
        "print(s1, s2, s3)"
      ],
      "metadata": {
        "colab": {
          "base_uri": "https://localhost:8080/"
        },
        "id": "dz3GYa805Jb4",
        "outputId": "2afae334-0055-4181-aa0c-cee2d22b0b77"
      },
      "execution_count": null,
      "outputs": [
        {
          "output_type": "stream",
          "name": "stdout",
          "text": [
            "[1 2 3] [99 99] [3 2 1]\n"
          ]
        }
      ]
    },
    {
      "cell_type": "markdown",
      "source": [
        "## 수학적 계산\n",
        "\n",
        "\n",
        "1.   Arithmetic\n",
        "2.   Aggregates(집계)\n",
        "3.   etc.\n",
        "\n"
      ],
      "metadata": {
        "id": "0xNR-YmAaK4n"
      }
    },
    {
      "cell_type": "markdown",
      "source": [
        "### 1. Arithmetic\n",
        "\n"
      ],
      "metadata": {
        "id": "7WvVzKZdb-ak"
      }
    },
    {
      "cell_type": "markdown",
      "source": [
        "#### add, subtract, negative, multiply, divide, power,mod"
      ],
      "metadata": {
        "id": "ax1GYtIQcEwX"
      }
    },
    {
      "cell_type": "code",
      "source": [
        "amt = np.arange(4)\n",
        "print(\"Original : \", amt)\n",
        "print(\"Add : \", np.add(amt, 10))\n",
        "print(\"Subtraction : \", np.subtract(amt, 10))\n",
        "print(\"Negative : \", np.negative(amt))\n",
        "print(\"Multiply : \", np.multiply(amt,10))\n",
        "print(\"Divide : \", np.divide(amt, 10))\n",
        "print(\"Power : \", np.power(amt, 2))\n",
        "print(\"Mod : \", np.mod(amt, 10))"
      ],
      "metadata": {
        "colab": {
          "base_uri": "https://localhost:8080/"
        },
        "id": "BTGSY0L4cTB-",
        "outputId": "7939c0f5-7ca6-4c01-9601-1dc990c9e774"
      },
      "execution_count": null,
      "outputs": [
        {
          "output_type": "stream",
          "name": "stdout",
          "text": [
            "Original :  [0 1 2 3]\n",
            "Add :  [10 11 12 13]\n",
            "Subtraction :  [-10  -9  -8  -7]\n",
            "Negative :  [ 0 -1 -2 -3]\n",
            "Multiply :  [ 0 10 20 30]\n",
            "Divide :  [0.  0.1 0.2 0.3]\n",
            "Power :  [0 1 4 9]\n",
            "Mod :  [0 1 2 3]\n"
          ]
        }
      ]
    },
    {
      "cell_type": "code",
      "source": [
        "# np.(sin/cos/tan/arcsin/arccos/arctan) 가능\n",
        "# np.(logn/exp) 가능"
      ],
      "metadata": {
        "id": "z5e6-wsldlX6"
      },
      "execution_count": null,
      "outputs": []
    },
    {
      "cell_type": "markdown",
      "source": [
        "#### Specifying output( for 사용 x )"
      ],
      "metadata": {
        "id": "m46AG_aFeFJl"
      }
    },
    {
      "cell_type": "code",
      "source": [
        "t1 = np.arange(5)\n",
        "t2 = np.empty(5)\n",
        "t3 = np.zeros(10)\n",
        "np.multiply(t1, 10, out=t2)\n",
        "np.power(2, t1, out=t3[::2])\n",
        "print(t2)\n",
        "print(t3)"
      ],
      "metadata": {
        "colab": {
          "base_uri": "https://localhost:8080/"
        },
        "id": "yQVQhXHXeL1t",
        "outputId": "e0608d8a-1cee-4597-d344-c62f8dfadeb6"
      },
      "execution_count": null,
      "outputs": [
        {
          "output_type": "stream",
          "name": "stdout",
          "text": [
            "[ 0. 10. 20. 30. 40.]\n",
            "[ 1.  0.  2.  0.  4.  0.  8.  0. 16.  0.]\n"
          ]
        }
      ]
    },
    {
      "cell_type": "markdown",
      "source": [
        "### 2. Aggregates"
      ],
      "metadata": {
        "id": "Gcs8d9z9eldK"
      }
    },
    {
      "cell_type": "markdown",
      "source": [
        "#### Reduce - 반복 결과 줄이기"
      ],
      "metadata": {
        "id": "ctC73fYiesFE"
      }
    },
    {
      "cell_type": "code",
      "source": [
        "rd = np.arange(1, 6)\n",
        "print(\"Original : \", rd)\n",
        "print(\"Use add and reduce method : \", np.add.reduce(rd))\n",
        "print(\"Use multiply and reduce method : \", np.multiply.reduce(rd))"
      ],
      "metadata": {
        "colab": {
          "base_uri": "https://localhost:8080/"
        },
        "id": "NGEFstJUewrz",
        "outputId": "07ca3c4f-df6a-407d-abde-0ed321a94271"
      },
      "execution_count": null,
      "outputs": [
        {
          "output_type": "stream",
          "name": "stdout",
          "text": [
            "Original :  [1 2 3 4 5]\n",
            "Use add and reduce method :  15\n",
            "Use multiply and reduce method :  120\n"
          ]
        }
      ]
    },
    {
      "cell_type": "markdown",
      "source": [
        "#### Accumulate - 중간 결과를 저장"
      ],
      "metadata": {
        "id": "N0dkMhvofI7s"
      }
    },
    {
      "cell_type": "code",
      "source": [
        "acm = np.arange(1,6)\n",
        "print(\"Original : \", acm)\n",
        "print(\"Use add and accumulate method : \", np.add.accumulate(acm))\n",
        "print(\"Use multiply and accumulate method : \", np.multiply.accumulate(acm))"
      ],
      "metadata": {
        "colab": {
          "base_uri": "https://localhost:8080/"
        },
        "id": "qdPSWIHne5_W",
        "outputId": "e42485ff-8932-4019-d4f5-639c94f5f36e"
      },
      "execution_count": null,
      "outputs": [
        {
          "output_type": "stream",
          "name": "stdout",
          "text": [
            "Original :  [1 2 3 4 5]\n",
            "Use add and accumulate method :  [ 1  3  6 10 15]\n",
            "Use multiply and accumulate method :  [  1   2   6  24 120]\n"
          ]
        }
      ]
    },
    {
      "cell_type": "markdown",
      "source": [
        "#### Other aggregation functions (sum, mean, prod, min, max, etc.)"
      ],
      "metadata": {
        "id": "4hAwbCVPf_tu"
      }
    },
    {
      "cell_type": "code",
      "source": [
        "value = np.arange(1,101)\n",
        "print(\"Value : \", value)\n",
        "print(\"Sum of value : \", np.sum(value))\n",
        "print(\"Minimum value : \", np.min(value))\n",
        "print(\"Minimum index value : \", value.argmin())\n",
        "print(\"Maximum value : \", np.max(value))\n",
        "print(\"Maximum index value : \", value.argmax())\n",
        "print(\"Mean value : \", value.mean())\n",
        "print(\"Std value : \", value.std()) # 표준편차 = sqrt(분산)\n",
        "print(\"Var value : \", value.var()) # 분산 = (값 - 평균)^2의 합 / 값의 개수\n",
        "print(\"Median value : \", np.median(value))"
      ],
      "metadata": {
        "colab": {
          "base_uri": "https://localhost:8080/"
        },
        "id": "vYWDY0vRgJ1H",
        "outputId": "6e168a55-59d3-4831-c33b-0195eca6b1eb"
      },
      "execution_count": null,
      "outputs": [
        {
          "output_type": "stream",
          "name": "stdout",
          "text": [
            "Value :  [  1   2   3   4   5   6   7   8   9  10  11  12  13  14  15  16  17  18\n",
            "  19  20  21  22  23  24  25  26  27  28  29  30  31  32  33  34  35  36\n",
            "  37  38  39  40  41  42  43  44  45  46  47  48  49  50  51  52  53  54\n",
            "  55  56  57  58  59  60  61  62  63  64  65  66  67  68  69  70  71  72\n",
            "  73  74  75  76  77  78  79  80  81  82  83  84  85  86  87  88  89  90\n",
            "  91  92  93  94  95  96  97  98  99 100]\n",
            "Sum of value :  5050\n",
            "Minimum value :  1\n",
            "Minimum index value :  0\n",
            "Maximum value :  100\n",
            "Maximum index value :  99\n",
            "Mean value :  50.5\n",
            "Std value :  28.86607004772212\n",
            "Var value :  833.25\n",
            "Median value :  50.5\n"
          ]
        }
      ]
    },
    {
      "cell_type": "code",
      "source": [
        "multi_value = np.arange(1,13).reshape((3,4))\n",
        "print(\"< Multi_value >\")\n",
        "print(multi_value)\n",
        "print(\"Sum of Multi_value : \", multi_value.sum())\n",
        "print(\"Minimum of Multi_value in row(x축) : \", multi_value.min(axis=0))\n",
        "print(\"Minimum of Multi_value in colum(y축) : \", multi_value.min(axis=1))\n",
        "print(\"Maximum of Multi_value in row(x축) : \", multi_value.max(axis=0))\n",
        "print(\"Maximum of Multi_value in colum(y축) : \", multi_value.max(axis=1))"
      ],
      "metadata": {
        "colab": {
          "base_uri": "https://localhost:8080/"
        },
        "id": "VxAsTVLugrW2",
        "outputId": "c595abf0-073c-494e-9a7b-278caedd1331"
      },
      "execution_count": null,
      "outputs": [
        {
          "output_type": "stream",
          "name": "stdout",
          "text": [
            "< Multi_value >\n",
            "[[ 1  2  3  4]\n",
            " [ 5  6  7  8]\n",
            " [ 9 10 11 12]]\n",
            "Sum of Multi_value :  78\n",
            "Minimum of Multi_value in row(x축) :  [1 2 3 4]\n",
            "Minimum of Multi_value in colum(y축) :  [1 5 9]\n",
            "Maximum of Multi_value in row(x축) :  [ 9 10 11 12]\n",
            "Maximum of Multi_value in colum(y축) :  [ 4  8 12]\n"
          ]
        }
      ]
    },
    {
      "cell_type": "code",
      "source": [
        "three_demensions = np.arange(1, 61).reshape((3,4,5))\n",
        "print(\"< Three Demensions >\")\n",
        "print(three_demensions)\n",
        "print(\"Sum of three_demensions : \", three_demensions.sum())\n",
        "print()\n",
        "print(\"< Minimum of tree_demensions in axis = 0 >\")\n",
        "print(three_demensions.min(axis=0))\n",
        "print()\n",
        "print(\"< Minimum of tree_demensions in axis = 1 >\")\n",
        "print(three_demensions.min(axis=1))\n",
        "print()\n",
        "print(\"< Minimum of tree_demensions in axis = 2 >\")\n",
        "print(three_demensions.min(axis=2))\n",
        "print()\n",
        "print(\"< Maximum of tree_demensions in axis = 0 >\")\n",
        "print(three_demensions.max(axis=0))\n",
        "print()\n",
        "print(\"< Maximum of tree_demensions in axis = 1 >\")\n",
        "print(three_demensions.max(axis=1))\n",
        "print()\n",
        "print(\"< Maximum of tree_demensions in axis = 2 >\")\n",
        "print(three_demensions.max(axis=2))"
      ],
      "metadata": {
        "colab": {
          "base_uri": "https://localhost:8080/"
        },
        "id": "KKJjcRSGhO7F",
        "outputId": "06bfaec8-c7f3-42bc-d285-853465a0a95f"
      },
      "execution_count": null,
      "outputs": [
        {
          "output_type": "stream",
          "name": "stdout",
          "text": [
            "< Three Demensions >\n",
            "[[[ 1  2  3  4  5]\n",
            "  [ 6  7  8  9 10]\n",
            "  [11 12 13 14 15]\n",
            "  [16 17 18 19 20]]\n",
            "\n",
            " [[21 22 23 24 25]\n",
            "  [26 27 28 29 30]\n",
            "  [31 32 33 34 35]\n",
            "  [36 37 38 39 40]]\n",
            "\n",
            " [[41 42 43 44 45]\n",
            "  [46 47 48 49 50]\n",
            "  [51 52 53 54 55]\n",
            "  [56 57 58 59 60]]]\n",
            "Sum of three_demensions :  1830\n",
            "\n",
            "< Minimum of tree_demensions in axis = 0 >\n",
            "[[ 1  2  3  4  5]\n",
            " [ 6  7  8  9 10]\n",
            " [11 12 13 14 15]\n",
            " [16 17 18 19 20]]\n",
            "\n",
            "< Minimum of tree_demensions in axis = 1 >\n",
            "[[ 1  2  3  4  5]\n",
            " [21 22 23 24 25]\n",
            " [41 42 43 44 45]]\n",
            "\n",
            "< Minimum of tree_demensions in axis = 2 >\n",
            "[[ 1  6 11 16]\n",
            " [21 26 31 36]\n",
            " [41 46 51 56]]\n",
            "\n",
            "< Maximum of tree_demensions in axis = 0 >\n",
            "[[41 42 43 44 45]\n",
            " [46 47 48 49 50]\n",
            " [51 52 53 54 55]\n",
            " [56 57 58 59 60]]\n",
            "\n",
            "< Maximum of tree_demensions in axis = 1 >\n",
            "[[16 17 18 19 20]\n",
            " [36 37 38 39 40]\n",
            " [56 57 58 59 60]]\n",
            "\n",
            "< Maximum of tree_demensions in axis = 2 >\n",
            "[[ 5 10 15 20]\n",
            " [25 30 35 40]\n",
            " [45 50 55 60]]\n"
          ]
        }
      ]
    },
    {
      "cell_type": "code",
      "source": [
        ""
      ],
      "metadata": {
        "id": "BNEqPi0ZmDN0"
      },
      "execution_count": null,
      "outputs": []
    },
    {
      "cell_type": "markdown",
      "source": [
        "##"
      ],
      "metadata": {
        "id": "Gcz5ShYFcJmD"
      }
    },
    {
      "cell_type": "markdown",
      "source": [
        "## 논리 연산"
      ],
      "metadata": {
        "id": "aIh0TzgvcNh9"
      }
    },
    {
      "cell_type": "code",
      "source": [
        "bol = np.array([1, 2, 3, 4, 5])\n",
        "print(\"Which value < 3 in bol : \", bol<3)\n",
        "print(\"Which value > 3 in bol : \", bol>3)\n",
        "print(\"Which value <= 3 in bol : \", bol<=3)\n",
        "print(\"Which value >= 3 in bol : \", bol>=3)\n",
        "print(\"Which value != 3 in bol : \", bol != 3)\n",
        "print(\"Which value == 3 in bol : \", bol == 3)\n",
        "print(\"Which value satisfied (2 * bol) == (bol ** 2) in bol : \", (2*bol)==(bol**2))\n",
        "print(\"How many values are true in (bol < 4)?\", np.count_nonzero(bol< 4),\"개\")"
      ],
      "metadata": {
        "colab": {
          "base_uri": "https://localhost:8080/"
        },
        "id": "iHS-pElYcak-",
        "outputId": "2e38df58-6401-4c61-b0d6-2f8ac48b7ca1"
      },
      "execution_count": null,
      "outputs": [
        {
          "output_type": "stream",
          "name": "stdout",
          "text": [
            "Which value < 3 in bol :  [ True  True False False False]\n",
            "Which value > 3 in bol :  [False False False  True  True]\n",
            "Which value <= 3 in bol :  [ True  True  True False False]\n",
            "Which value >= 3 in bol :  [False False  True  True  True]\n",
            "Which value != 3 in bol :  [ True  True False  True  True]\n",
            "Which value == 3 in bol :  [False False  True False False]\n",
            "Which value satisfied (2 * bol) == (bol ** 2) in bol :  [False  True False False False]\n",
            "How many value's are true in (bol < 4)? 3 개\n"
          ]
        }
      ]
    },
    {
      "cell_type": "code",
      "source": [
        "bol2 = np.arange(1,13).reshape((3,4))\n",
        "print(\"< bol2 value >\")\n",
        "print(bol2)\n",
        "print(\"How many values are true in (bol2<8)?\")\n",
        "print(\"Use sum : \", np.sum(bol2<8))\n",
        "print(\"Use count_nonzero : \", np.count_nonzero(bol2<8))\n",
        "# sum 은 axis 를 통해 row와 colum 각각 계산이 가능하다.\n",
        "print(\"Row count : \", np.sum(bol2<8, axis=0)) # axis = 0 으로하면, 결과값의 개수가 한 row에 존재하는 col의 개수.\n",
        "print(\"Col count : \", np.sum(bol2<8, axis=1))"
      ],
      "metadata": {
        "colab": {
          "base_uri": "https://localhost:8080/"
        },
        "id": "KNthqBj3c-qq",
        "outputId": "f1a01b3c-3338-4541-8511-3ab726190181"
      },
      "execution_count": null,
      "outputs": [
        {
          "output_type": "stream",
          "name": "stdout",
          "text": [
            "< bol2 value >\n",
            "[[ 1  2  3  4]\n",
            " [ 5  6  7  8]\n",
            " [ 9 10 11 12]]\n",
            "How many values are true in (bol2<8)?\n",
            "Use sum :  7\n",
            "Use count_nonzero :  7\n",
            "Row count :  [2 2 2 1]\n",
            "Col count :  [4 3 0]\n"
          ]
        }
      ]
    },
    {
      "cell_type": "markdown",
      "source": [
        "### Any - 적어도 하나의 원소가 만족"
      ],
      "metadata": {
        "id": "QPSo-YpAgsxL"
      }
    },
    {
      "cell_type": "code",
      "source": [
        "print(\"< bol >\")\n",
        "print(bol)\n",
        "print(\"np.any(bol>3) : \", np.any(bol>3))\n",
        "print(\"np.any(bol<0) : \", np.any(bol<0))\n",
        "print(\"< bol2 >\")\n",
        "print(bol2)\n",
        "print(\"np.any(bol2>8, axis=0) : )\", np.any(bol2>8, axis=0))\n",
        "print(\"np.any(bol2>8, axis=1) ; \", np.any(bol2>8, axis=1))\n",
        "print(\"np.any(bol2<0, axis=0) : \", np.any(bol2<0, axis=0))\n",
        "print(\"np.any(bol2<0, axis=1) : \", np.any(bol2<0, axis=1))"
      ],
      "metadata": {
        "colab": {
          "base_uri": "https://localhost:8080/"
        },
        "id": "GmXKK6v9g1Lb",
        "outputId": "bcff2bec-4b1f-4ad5-efdb-6e697274575d"
      },
      "execution_count": null,
      "outputs": [
        {
          "output_type": "stream",
          "name": "stdout",
          "text": [
            "< bol >\n",
            "[1 2 3 4 5]\n",
            "np.any(bol>3) :  True\n",
            "np.any(bol<0) :  False\n",
            "< bol2 >\n",
            "[[ 1  2  3  4]\n",
            " [ 5  6  7  8]\n",
            " [ 9 10 11 12]]\n",
            "np.any(bol2>8, axis=0) : ) [ True  True  True  True]\n",
            "np.any(bol2>8, axis=1) ;  [False False  True]\n",
            "np.any(bol2<0, axis=0) :  [False False False False]\n",
            "np.any(bol2<0, axis=1) :  [False False False]\n"
          ]
        }
      ]
    },
    {
      "cell_type": "markdown",
      "source": [
        "### All - 모든 원소가 만족"
      ],
      "metadata": {
        "id": "p0MBvhO9iuKB"
      }
    },
    {
      "cell_type": "code",
      "source": [
        "print(\"< bol >\")\n",
        "print(bol)\n",
        "print(\"np.all(bol<6) : \", np.all(bol<6))\n",
        "print(\"np.all(bol==3) : \", np.all(bol==3))\n",
        "print(\"< bol2 >\")\n",
        "print(bol2)\n",
        "print(\"np.all(bol2>8, axis=0) : )\", np.all(bol2>8, axis=0))\n",
        "print(\"np.all(bol2>8, axis=1) ; \", np.all(bol2>8, axis=1))\n",
        "print(\"np.all(bol2<0, axis=0) : \", np.all(bol2<0, axis=0))\n",
        "print(\"np.all(bol2<0, axis=1) : \", np.all(bol2<0, axis=1))"
      ],
      "metadata": {
        "colab": {
          "base_uri": "https://localhost:8080/"
        },
        "id": "hbUBFefgisIb",
        "outputId": "98dc2290-e95a-4214-f7f5-63fe28901253"
      },
      "execution_count": null,
      "outputs": [
        {
          "output_type": "stream",
          "name": "stdout",
          "text": [
            "< bol >\n",
            "[1 2 3 4 5]\n",
            "np.all(bol>3) :  True\n",
            "np.all(bol<0) :  False\n",
            "< bol2 >\n",
            "[[ 1  2  3  4]\n",
            " [ 5  6  7  8]\n",
            " [ 9 10 11 12]]\n",
            "np.all(bol2>8, axis=0) : ) [False False False False]\n",
            "np.all(bol2>8, axis=1) ;  [False False  True]\n",
            "np.all(bol2<0, axis=0) :  [False False False False]\n",
            "np.all(bol2<0, axis=1) :  [False False False]\n"
          ]
        }
      ]
    },
    {
      "cell_type": "code",
      "source": [
        ""
      ],
      "metadata": {
        "id": "bawQZerCjNgj"
      },
      "execution_count": null,
      "outputs": []
    },
    {
      "cell_type": "markdown",
      "source": [
        "### 비트 연산자 ( & | ^ ~ )"
      ],
      "metadata": {
        "id": "xXkz5qTfjgx7"
      }
    },
    {
      "cell_type": "code",
      "source": [
        "print(\"bol\")\n",
        "print(bol)\n",
        "print(\"bol > 1 : \", bol>1)\n",
        "print(\"bol < 5 : \", bol<5)\n",
        "print(\"(bol>1) & (bol<5) : \", (bol>1) & (bol<5))\n",
        "print(\"Count of terms that satisfied (bol>1) & (bol<5) : \", np.sum((bol>1) & (bol<5)))"
      ],
      "metadata": {
        "colab": {
          "base_uri": "https://localhost:8080/"
        },
        "id": "DZleLamSjkGk",
        "outputId": "12ae1520-a55d-42c3-a9ec-51026e1be326"
      },
      "execution_count": null,
      "outputs": [
        {
          "output_type": "stream",
          "name": "stdout",
          "text": [
            "bol\n",
            "[1 2 3 4 5]\n",
            "bol > 1 :  [False  True  True  True  True]\n",
            "bol < 5 :  [ True  True  True  True False]\n",
            "(bol>1) & (bol<5) :  [False  True  True  True False]\n",
            "Sum of terms that (bol>1) & (bol<5) :  3\n"
          ]
        }
      ]
    },
    {
      "cell_type": "markdown",
      "source": [
        "## sort - 정렬"
      ],
      "metadata": {
        "id": "7L-mrWqikjF_"
      }
    },
    {
      "cell_type": "code",
      "source": [
        "nonsort = np.array([5, 2, 4, 1, 3])\n",
        "print(\"Before sort : \", nonsort)\n",
        "print(\"After sort : \", np.sort(nonsort))\n",
        "# np.sort(nonsort) 사용하면 그 순간이 끝. 즉, print(nonsort)를 해보면 원본이 나옴\n",
        "# 원본 자체를 sort 하려면, nonsort.sort() 사용"
      ],
      "metadata": {
        "colab": {
          "base_uri": "https://localhost:8080/"
        },
        "id": "Z_vaG3sTklsO",
        "outputId": "bfaa3600-35b0-4774-d931-ce054703826b"
      },
      "execution_count": null,
      "outputs": [
        {
          "output_type": "stream",
          "name": "stdout",
          "text": [
            "Before sort :  [5 2 4 1 3]\n",
            "After sort :  [1 2 3 4 5]\n"
          ]
        }
      ]
    },
    {
      "cell_type": "code",
      "source": [
        "print(\"nonsort : \", nonsort)\n",
        "print(\"Index : \", np.argsort(nonsort))\n",
        "s_i = np.argsort(nonsort)\n",
        "print(\"nonsort[s_i] : \", nonsort[s_i])"
      ],
      "metadata": {
        "colab": {
          "base_uri": "https://localhost:8080/"
        },
        "id": "j-9aEIKxk0Z7",
        "outputId": "d181d656-9234-4e41-98e0-a1717609bd4a"
      },
      "execution_count": null,
      "outputs": [
        {
          "output_type": "stream",
          "name": "stdout",
          "text": [
            "nonsort :  [5 2 4 1 3]\n",
            "Index :  [3 1 4 2 0]\n",
            "nonsort[s_i] :  [1 2 3 4 5]\n"
          ]
        }
      ]
    },
    {
      "cell_type": "code",
      "source": [
        "nonsort2 = np.random.randint(1, 10, (3,4))\n",
        "print(\"< nonsort 2 >\")\n",
        "print(nonsort2)\n",
        "print(\"Sort axis = 0\")\n",
        "print(np.sort(nonsort2,axis=0)) # 행 방향 진행(세로)\n",
        "print(\"Sort axis = 1\")\n",
        "print(np.sort(nonsort2,axis=1)) # 열 방향 진행(가로)"
      ],
      "metadata": {
        "colab": {
          "base_uri": "https://localhost:8080/"
        },
        "id": "T-SWLcNxlUi6",
        "outputId": "1eb3653a-7390-48c3-e762-5bc6ec9d634c"
      },
      "execution_count": null,
      "outputs": [
        {
          "output_type": "stream",
          "name": "stdout",
          "text": [
            "< nonsort 2 >\n",
            "[[5 4 1 9]\n",
            " [8 2 4 2]\n",
            " [3 5 8 2]]\n",
            "Sort axis = 0\n",
            "[[3 2 1 2]\n",
            " [5 4 4 2]\n",
            " [8 5 8 9]]\n",
            "Sort axis = 1\n",
            "[[1 4 5 9]\n",
            " [2 2 4 8]\n",
            " [2 3 5 8]]\n"
          ]
        }
      ]
    },
    {
      "cell_type": "markdown",
      "source": [
        "#### partition - 가장 작은 값 k를 array 왼편에 배치"
      ],
      "metadata": {
        "id": "I50pH-_MnD3M"
      }
    },
    {
      "cell_type": "code",
      "source": [
        "pt_array = np.array([7, 2, 3, 1, 6, 5, 4])\n",
        "print(\"pt_array : \", pt_array)\n",
        "print(\"Use partition(pt_array, 3) : \", np.partition(pt_array, 3))\n",
        "pt_array2 = nonsort2.copy()\n",
        "print(\"< pt_array 2 >\")\n",
        "print(pt_array2)\n",
        "print(\"Use partition(pt_array2, 2 ,axis=0)\") # 행 방향 진행(행 방향이 세로)\n",
        "print(np.partition(pt_array2, 2, axis=0))\n",
        "print(\"Use partition(pt_array2, 3 ,axis=1)\") # 열 방향 진행(열 방향이 가로)\n",
        "print(np.partition(pt_array2, 3, axis=1))"
      ],
      "metadata": {
        "colab": {
          "base_uri": "https://localhost:8080/"
        },
        "id": "s8c_wcJDnI-A",
        "outputId": "0b935035-a768-4335-e1fa-0c8c13e4f420"
      },
      "execution_count": null,
      "outputs": [
        {
          "output_type": "stream",
          "name": "stdout",
          "text": [
            "pt_array :  [7 2 3 1 6 5 4]\n",
            "Use partition(pt_array, 3) :  [2 1 3 4 6 5 7]\n",
            "< pt_array 2 >\n",
            "[[5 4 1 9]\n",
            " [8 2 4 2]\n",
            " [3 5 8 2]]\n",
            "Use partition(pt_array2, 2 ,axis=0)\n",
            "[[3 2 1 2]\n",
            " [5 4 4 2]\n",
            " [8 5 8 9]]\n",
            "Use partition(pt_array2, 3 ,axis=1)\n",
            "[[1 4 5 9]\n",
            " [2 2 4 8]\n",
            " [2 3 5 8]]\n"
          ]
        }
      ]
    },
    {
      "cell_type": "code",
      "source": [
        ""
      ],
      "metadata": {
        "id": "GuJYvj2RndXh"
      },
      "execution_count": null,
      "outputs": []
    }
  ]
}