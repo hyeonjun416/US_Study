{
 "cells": [
  {
   "cell_type": "markdown",
   "metadata": {},
   "source": [
    "## Python module - math"
   ]
  },
  {
   "cell_type": "markdown",
   "metadata": {},
   "source": [
    "수학과 관련된 여러 함수들을 모아 놓은 파이썬 모듈"
   ]
  },
  {
   "cell_type": "markdown",
   "metadata": {},
   "source": [
    "### Import"
   ]
  },
  {
   "cell_type": "code",
   "execution_count": 1,
   "metadata": {},
   "outputs": [],
   "source": [
    "import math"
   ]
  },
  {
   "cell_type": "markdown",
   "metadata": {},
   "source": [
    "### Constants"
   ]
  },
  {
   "cell_type": "code",
   "execution_count": 19,
   "metadata": {},
   "outputs": [
    {
     "name": "stdout",
     "output_type": "stream",
     "text": [
      "3.141592653589793\n",
      "2.718281828459045\n",
      "6.283185307179586\n"
     ]
    }
   ],
   "source": [
    "print(math.pi)   # 원주율 파이\n",
    "print(math.e)    # 자연상수 e\n",
    "print(math.tau)  # 파이 값의 2배인 타우"
   ]
  },
  {
   "cell_type": "markdown",
   "metadata": {},
   "source": [
    "### Methods"
   ]
  },
  {
   "cell_type": "markdown",
   "metadata": {},
   "source": [
    "##### 내림, 올림 함수"
   ]
  },
  {
   "cell_type": "markdown",
   "metadata": {},
   "source": [
    "\n",
    "+ math.floor(float x) : 실수 x를 내림하여 정수로 반환\n",
    "+ math.ceil(float x)  : 실수 x를 올림하여 정수로 반환"
   ]
  },
  {
   "cell_type": "code",
   "execution_count": 21,
   "metadata": {},
   "outputs": [
    {
     "name": "stdout",
     "output_type": "stream",
     "text": [
      "파이 값을 내림하면 3\n",
      "파이 값을 올림하면 4\n"
     ]
    }
   ],
   "source": [
    "example=math.pi\n",
    "print(\"파이 값을 내림하면\", end=' '); print(math.floor(example))\n",
    "print(\"파이 값을 올림하면\", end=' '); print(math.ceil(example))"
   ]
  },
  {
   "cell_type": "markdown",
   "metadata": {},
   "source": [
    "#### 초월함수"
   ]
  },
  {
   "cell_type": "markdown",
   "metadata": {},
   "source": [
    "+ math.sin/cos/tan(float x) : 라디안 값 x의 sin/cos/tan 값을 반환\n",
    "+ math.asin/acos/atan(float x) : 라디안 값 x의 csc/sec/cot 값을 반환"
   ]
  },
  {
   "cell_type": "code",
   "execution_count": 24,
   "metadata": {},
   "outputs": [
    {
     "name": "stdout",
     "output_type": "stream",
     "text": [
      "0.707107 0.707107 1.000000\n",
      "0.903339 0.667457 0.665774\n"
     ]
    }
   ],
   "source": [
    "rad=math.pi/4\n",
    "print(\"%f %f %f\"%(math.sin(rad), math.cos(rad), math.tan(rad)))\n",
    "print(\"%f %f %f\"%(math.asin(rad), math.acos(rad), math.atan(rad)))"
   ]
  },
  {
   "cell_type": "markdown",
   "metadata": {},
   "source": [
    "+ math.exp(float x) : $e^x$ 반환\n",
    "+ math.log(float x, float y) : $log_y{x}$ 반환 ($y$의 기본값은 자연상수 $e$)\n",
    "+ math.log10(float x) : $log_{10}x$ 반환\n",
    "+ math.pow(float x, float y) : x의 y 거듭제곱 $x^y$ 을 실수로 반환"
   ]
  },
  {
   "cell_type": "code",
   "execution_count": 43,
   "metadata": {},
   "outputs": [
    {
     "name": "stdout",
     "output_type": "stream",
     "text": [
      "2.718281828459045\n",
      "1.0\n",
      "2.0\n",
      "1024.0\n"
     ]
    }
   ],
   "source": [
    "print(math.exp(1))\n",
    "print(math.log(math.e))\n",
    "print(math.log10(100))\n",
    "print(math.pow(2, 10))"
   ]
  },
  {
   "cell_type": "markdown",
   "metadata": {},
   "source": [
    "#### 조합, 순열, 팩토리얼"
   ]
  },
  {
   "cell_type": "markdown",
   "metadata": {},
   "source": [
    "+ math.comb(int n, int k) : n개 중에서 k개를 선택하는 방법의 수 $nCk$ 반환\n",
    "+ math.perm(int n, int k) : n개 중에서 k개를 선택하여 나열하는 방법의 수 $nPk$ 반환\n",
    "+ math.factorial(int x) : $x!$ 값 반환"
   ]
  },
  {
   "cell_type": "code",
   "execution_count": 36,
   "metadata": {},
   "outputs": [
    {
     "name": "stdout",
     "output_type": "stream",
     "text": [
      "10\n",
      "120\n",
      "720\n"
     ]
    }
   ],
   "source": [
    "print(math.comb(5,2)) ## 5C2=10\n",
    "print(math.perm(6,3)) ## 6P3=120\n",
    "print(math.factorial(6)) ## 6! = 720"
   ]
  },
  {
   "cell_type": "markdown",
   "metadata": {},
   "source": [
    "#### 제곱근"
   ]
  },
  {
   "cell_type": "markdown",
   "metadata": {},
   "source": [
    "+ math.sqrt(float x) : x의 제곱근 반환\n",
    "+ math.isqrt(int x) : x의 음이 아닌 정수 제곱근 반환"
   ]
  },
  {
   "cell_type": "code",
   "execution_count": 42,
   "metadata": {},
   "outputs": [
    {
     "name": "stdout",
     "output_type": "stream",
     "text": [
      "2.5\n",
      "2\n"
     ]
    }
   ],
   "source": [
    "print(math.sqrt(6.25))\n",
    "print(math.isqrt(8))"
   ]
  },
  {
   "cell_type": "markdown",
   "metadata": {},
   "source": [
    "#### 절댓값, 최소공배수, 최대공약수"
   ]
  },
  {
   "cell_type": "markdown",
   "metadata": {},
   "source": [
    "+ math.fabs(float x) : 실수 x의 절댓값 반환\n",
    "+ math.lcm(*integers) : 여러 정수들의 최소공배수 반환\n",
    "+ math.gcd(*integers) : 여러 정수들의 최대공약수 반환"
   ]
  },
  {
   "cell_type": "code",
   "execution_count": 44,
   "metadata": {},
   "outputs": [
    {
     "name": "stdout",
     "output_type": "stream",
     "text": [
      "3.5\n"
     ]
    }
   ],
   "source": [
    "print(math.fabs(-3.5))"
   ]
  },
  {
   "cell_type": "code",
   "execution_count": 47,
   "metadata": {},
   "outputs": [
    {
     "name": "stdout",
     "output_type": "stream",
     "text": [
      "3, 5, 6의 최소공배수는 30\n",
      "3, 5, 6의 최대공약수는 1\n"
     ]
    }
   ],
   "source": [
    "numbers=[3,5,6]\n",
    "print(\"3, 5, 6의 최소공배수는\", end=' '); print(math.lcm(*numbers))\n",
    "print(\"3, 5, 6의 최대공약수는\", end=' '); print(math.gcd(*numbers))"
   ]
  }
 ],
 "metadata": {
  "kernelspec": {
   "display_name": "Python 3.10.6 64-bit",
   "language": "python",
   "name": "python3"
  },
  "language_info": {
   "codemirror_mode": {
    "name": "ipython",
    "version": 3
   },
   "file_extension": ".py",
   "mimetype": "text/x-python",
   "name": "python",
   "nbconvert_exporter": "python",
   "pygments_lexer": "ipython3",
   "version": "3.10.6"
  },
  "orig_nbformat": 4,
  "vscode": {
   "interpreter": {
    "hash": "a826107521b949cbc96da89d16119540644fb45c3e770043706c8ccd780d4eda"
   }
  }
 },
 "nbformat": 4,
 "nbformat_minor": 2
}
